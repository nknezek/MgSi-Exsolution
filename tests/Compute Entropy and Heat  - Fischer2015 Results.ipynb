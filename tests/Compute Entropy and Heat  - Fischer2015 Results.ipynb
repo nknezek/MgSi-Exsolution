{
 "cells": [
  {
   "cell_type": "code",
   "execution_count": 5,
   "metadata": {},
   "outputs": [],
   "source": [
    "import numpy as np\n",
    "import os\n",
    "import pandas as pd\n",
    "import dill\n",
    "import sys\n",
    "sys.path.append('../')\n",
    "import mg_si.plot as mplt\n",
    "import matplotlib.pyplot as plt\n",
    "datafolder = '/media/nknezek/compute_storage/computed_solutions_Fischer2015/'\n",
    "datafile = 'data.m'\n",
    "alldatafile = 'all_parameters.m'\n",
    "import datetime\n",
    "# csvfile = 'ri05p_l6000K_data.csv'\n",
    "csvfile = 'ri10p_data.csv'"
   ]
  },
  {
   "cell_type": "code",
   "execution_count": 6,
   "metadata": {
    "scrolled": true
   },
   "outputs": [
    {
     "name": "stdout",
     "output_type": "stream",
     "text": [
      "2018-04-27 18:41:55.237469 Tc5200.0_XM0.020_XS0.130_XO0.080/, 1/46\n",
      "2018-04-27 18:41:55.238016 Tc5200.0_XM0.020_XS0.130_XO0.090/, 2/46\n",
      "2018-04-27 18:41:55.238244 Tc5200.0_XM0.020_XS0.140_XO0.060/, 3/46\n",
      "2018-04-27 18:41:55.238445 Tc5200.0_XM0.020_XS0.140_XO0.080/, 4/46\n",
      "2018-04-27 18:41:55.238839 Tc5200.0_XM0.020_XS0.140_XO0.090/, 5/46\n",
      "2018-04-27 18:41:55.239065 Tc5200.0_XM0.020_XS0.150_XO0.060/, 6/46\n",
      "2018-04-27 18:41:55.239260 Tc5200.0_XM0.020_XS0.150_XO0.080/, 7/46\n",
      "2018-04-27 18:41:55.239449 Tc5200.0_XM0.020_XS0.150_XO0.090/, 8/46\n",
      "2018-04-27 18:41:55.239664 Tc5200.0_XM0.030_XS0.100_XO0.050/, 9/46\n",
      "2018-04-27 18:41:55.239851 Tc5200.0_XM0.030_XS0.100_XO0.100/, 10/46\n",
      "2018-04-27 18:41:55.240038 Tc5200.0_XM0.030_XS0.110_XO0.050/, 11/46\n",
      "2018-04-27 18:41:55.240234 Tc5200.0_XM0.030_XS0.110_XO0.100/, 12/46\n",
      "2018-04-27 18:41:55.240510 Tc5200.0_XM0.030_XS0.120_XO0.050/, 13/46\n",
      "2018-04-27 18:41:55.240782 Tc5200.0_XM0.030_XS0.120_XO0.100/, 14/46\n",
      "2018-04-27 18:41:55.240973 Tc5200.0_XM0.030_XS0.130_XO0.100/, 15/46\n",
      "2018-04-27 18:41:55.241159 Tc5200.0_XM0.030_XS0.140_XO0.100/, 16/46\n",
      "2018-04-27 18:41:55.241344 Tc5200.0_XM0.030_XS0.150_XO0.100/, 17/46\n",
      "2018-04-27 18:41:55.241529 Tc5300.0_XM0.010_XS0.100_XO0.080/, 18/46\n",
      "2018-04-27 18:41:55.241712 Tc5300.0_XM0.010_XS0.100_XO0.090/, 19/46\n",
      "2018-04-27 18:41:55.241892 Tc5300.0_XM0.010_XS0.110_XO0.080/, 20/46\n",
      "2018-04-27 18:41:55.242075 Tc5300.0_XM0.010_XS0.110_XO0.090/, 21/46\n",
      "2018-04-27 18:41:55.242260 Tc5300.0_XM0.010_XS0.110_XO0.100/, 22/46\n",
      "2018-04-27 18:41:55.242442 Tc5300.0_XM0.010_XS0.120_XO0.070/, 23/46\n",
      "2018-04-27 18:41:55.242623 Tc5300.0_XM0.010_XS0.120_XO0.080/, 24/46\n",
      "2018-04-27 18:41:55.242807 Tc5300.0_XM0.010_XS0.120_XO0.090/, 25/46\n",
      "2018-04-27 18:41:55.242987 Tc5300.0_XM0.010_XS0.120_XO0.100/, 26/46\n",
      "2018-04-27 18:41:55.243170 Tc5300.0_XM0.010_XS0.130_XO0.070/, 27/46\n",
      "2018-04-27 18:41:55.243350 Tc5300.0_XM0.010_XS0.130_XO0.080/, 28/46\n",
      "2018-04-27 18:41:55.243530 Tc5300.0_XM0.010_XS0.130_XO0.090/, 29/46\n",
      "2018-04-27 18:41:55.243711 Tc5300.0_XM0.010_XS0.130_XO0.100/, 30/46\n",
      "2018-04-27 18:41:55.243893 Tc5300.0_XM0.010_XS0.140_XO0.070/, 31/46\n",
      "2018-04-27 18:41:55.244074 Tc5300.0_XM0.010_XS0.140_XO0.080/, 32/46\n",
      "2018-04-27 18:41:55.244264 Tc5300.0_XM0.010_XS0.140_XO0.090/, 33/46\n",
      "2018-04-27 18:41:55.244448 Tc5300.0_XM0.010_XS0.150_XO0.070/, 34/46\n",
      "2018-04-27 18:41:55.244630 Tc5300.0_XM0.010_XS0.150_XO0.080/, 35/46\n",
      "2018-04-27 18:41:55.244812 Tc5300.0_XM0.010_XS0.150_XO0.090/, 36/46\n",
      "2018-04-27 18:41:55.244994 Tc5300.0_XM0.020_XS0.100_XO0.050/, 37/46\n",
      "2018-04-27 18:41:55.245174 Tc5300.0_XM0.020_XS0.110_XO0.050/, 38/46\n",
      "2018-04-27 18:41:55.245354 Tc5300.0_XM0.020_XS0.120_XO0.050/, 39/46\n",
      "2018-04-27 18:41:55.248461 Tc5300.0_XM0.020_XS0.130_XO0.050/, 40/46\n",
      "2018-04-27 18:41:55.248753 Tc5300.0_XM0.020_XS0.140_XO0.050/, 41/46\n",
      "2018-04-27 18:42:00.228788 Tc5500.0_XM0.010_XS0.100_XO0.060/, 42/46\n",
      "2018-04-27 18:42:00.229150 Tc5500.0_XM0.010_XS0.110_XO0.060/, 43/46\n",
      "2018-04-27 18:42:00.229348 Tc5500.0_XM0.010_XS0.120_XO0.060/, 44/46\n",
      "2018-04-27 18:42:00.229539 Tc5500.0_XM0.010_XS0.130_XO0.060/, 45/46\n",
      "2018-04-27 18:42:00.229727 Tc5500.0_XM0.010_XS0.150_XO0.050/, 46/46\n"
     ]
    }
   ],
   "source": [
    "column_names = ['time', 'r_i', 'T_cmb0', 'X_Mg_0', 'X_Si_0', 'X_O_0', 'MgNumFp', 'MgNumPv', 'X_MgFeO_b', 'X_SiO2_b', 'nu_present', 'deltaT0', 'layer_thickness', 'overturn']\n",
    "df = pd.read_csv(datafolder+csvfile, names=column_names)\n",
    "N = len(df)\n",
    "for i,row in df.iterrows():\n",
    "    foldername = \"Tc{:.1f}_XM{:.3f}_XS{:.3f}_XO{:.3f}/\".format(row['T_cmb0'],row['X_Mg_0'],row['X_Si_0'],row['X_O_0'])\n",
    "    \n",
    "    time = str(datetime.datetime.now())\n",
    "    print(time +' '+foldername+', {}/{}'.format(i+1,N))\n",
    "    if not os.path.exists(datafolder+foldername):\n",
    "        continue\n",
    "    if os.path.exists(datafolder+foldername+alldatafile):\n",
    "        continue\n",
    "    pl,times,solution = dill.load(open(datafolder+foldername+datafile,'rb'))\n",
    "    t_N, all_parameters = pl.core_layer.compute_all_parameters(times, solution)\n",
    "    mplt.Q_all(pl, t_N, all_parameters, filepath=datafolder+foldername)\n",
    "    mplt.E_all(pl, t_N, all_parameters, filepath=datafolder+foldername)\n",
    "    dill.dump((t_N,all_parameters), open(datafolder+foldername+alldatafile,'wb'))\n",
    "    plt.close('all')"
   ]
  },
  {
   "cell_type": "code",
   "execution_count": 8,
   "metadata": {},
   "outputs": [],
   "source": [
    "datafolder = '/media/nknezek/compute_storage/computed_solutions_nature/'\n",
    "datafile = 'data.m'\n",
    "alldatafile = 'all_parameters.m'\n",
    "foldername = 'Tc5300.0_XM0.020_XS0.100_XO0.050/'\n",
    "pl,times,solution = dill.load(open(datafolder+foldername+datafile,'rb'))\n",
    "t_N, all_parameters = pl.core_layer.compute_all_parameters(times, solution)\n",
    "mplt.Q_all(pl, t_N, all_parameters, filepath=datafolder+foldername)\n",
    "mplt.E_all(pl, t_N, all_parameters, filepath=datafolder+foldername)\n",
    "dill.dump((t_N,all_parameters), open(datafolder+foldername+alldatafile,'wb'))\n",
    "plt.close('all')"
   ]
  },
  {
   "cell_type": "code",
   "execution_count": null,
   "metadata": {},
   "outputs": [],
   "source": []
  }
 ],
 "metadata": {
  "kernelspec": {
   "display_name": "Python 3",
   "language": "python",
   "name": "python3"
  },
  "language_info": {
   "codemirror_mode": {
    "name": "ipython",
    "version": 3
   },
   "file_extension": ".py",
   "mimetype": "text/x-python",
   "name": "python",
   "nbconvert_exporter": "python",
   "pygments_lexer": "ipython3",
   "version": "3.6.5"
  }
 },
 "nbformat": 4,
 "nbformat_minor": 2
}
