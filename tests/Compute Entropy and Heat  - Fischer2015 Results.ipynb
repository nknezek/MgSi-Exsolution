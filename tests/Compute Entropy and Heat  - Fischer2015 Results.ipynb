{
 "cells": [
  {
   "cell_type": "code",
   "execution_count": 1,
   "metadata": {},
   "outputs": [],
   "source": [
    "import numpy as np\n",
    "import os\n",
    "import pandas as pd\n",
    "import dill\n",
    "import sys\n",
    "sys.path.append('../')\n",
    "import mg_si.plot as mplt\n",
    "import matplotlib.pyplot as plt\n",
    "datafolder = '/media/nknezek/compute_storage/computed_solutions_Fischer2015/'\n",
    "datafile = 'data.m'\n",
    "alldatafile = 'all_parameters.m'\n",
    "import datetime\n",
    "# csvfile = 'ri05p_l6000K_data.csv'\n",
    "csvfile = 'ri10p_data.csv'"
   ]
  },
  {
   "cell_type": "code",
   "execution_count": 2,
   "metadata": {
    "scrolled": true
   },
   "outputs": [
    {
     "name": "stdout",
     "output_type": "stream",
     "text": [
      "2018-04-29 11:47:56.475333 Tc5800.0_XM0.010_XS0.100_XO0.170/, 1/11\n",
      "2018-04-29 11:48:00.827442 Tc5800.0_XM0.010_XS0.100_XO0.180/, 2/11\n",
      "2018-04-29 11:48:05.147737 Tc5800.0_XM0.010_XS0.100_XO0.190/, 3/11\n",
      "2018-04-29 11:48:09.491377 Tc5800.0_XM0.010_XS0.110_XO0.160/, 4/11\n",
      "2018-04-29 11:48:13.866877 Tc5800.0_XM0.010_XS0.110_XO0.170/, 5/11\n",
      "2018-04-29 11:48:18.192791 Tc5800.0_XM0.010_XS0.110_XO0.180/, 6/11\n",
      "2018-04-29 11:48:22.564056 Tc5800.0_XM0.010_XS0.110_XO0.190/, 7/11\n",
      "2018-04-29 11:48:26.990934 Tc5800.0_XM0.010_XS0.120_XO0.160/, 8/11\n",
      "2018-04-29 11:48:31.331059 Tc5800.0_XM0.010_XS0.120_XO0.170/, 9/11\n",
      "2018-04-29 11:48:35.717968 Tc5800.0_XM0.010_XS0.120_XO0.180/, 10/11\n",
      "2018-04-29 11:48:40.155838 Tc5800.0_XM0.010_XS0.120_XO0.190/, 11/11\n"
     ]
    }
   ],
   "source": [
    "column_names = ['time', 'r_i', 'T_cmb0', 'X_Mg_0', 'X_Si_0', 'X_O_0', 'MgNumFp', 'MgNumPv', 'X_MgFeO_b', 'X_SiO2_b', 'nu_present', 'deltaT0', 'layer_thickness', 'overturn']\n",
    "df = pd.read_csv(datafolder+csvfile, names=column_names)\n",
    "N = len(df)\n",
    "for i,row in df.iterrows():\n",
    "    foldername = \"Tc{:.1f}_XM{:.3f}_XS{:.3f}_XO{:.3f}/\".format(row['T_cmb0'],row['X_Mg_0'],row['X_Si_0'],row['X_O_0'])\n",
    "    \n",
    "    time = str(datetime.datetime.now())\n",
    "    print(time +' '+foldername+', {}/{}'.format(i+1,N))\n",
    "    if not os.path.exists(datafolder+foldername):\n",
    "        continue\n",
    "    if os.path.exists(datafolder+foldername+alldatafile):\n",
    "        continue\n",
    "    pl,times,solution = dill.load(open(datafolder+foldername+datafile,'rb'))\n",
    "    t_N, all_parameters = pl.core_layer.compute_all_parameters(times, solution)\n",
    "    mplt.Q_all(pl, t_N, all_parameters, filepath=datafolder+foldername)\n",
    "    mplt.E_all(pl, t_N, all_parameters, filepath=datafolder+foldername)\n",
    "    dill.dump((t_N,all_parameters), open(datafolder+foldername+alldatafile,'wb'))\n",
    "    plt.close('all')"
   ]
  },
  {
   "cell_type": "code",
   "execution_count": 8,
   "metadata": {},
   "outputs": [],
   "source": [
    "datafolder = '/media/nknezek/compute_storage/computed_solutions_nature/'\n",
    "datafile = 'data.m'\n",
    "alldatafile = 'all_parameters.m'\n",
    "foldername = 'Tc5300.0_XM0.020_XS0.100_XO0.050/'\n",
    "pl,times,solution = dill.load(open(datafolder+foldername+datafile,'rb'))\n",
    "t_N, all_parameters = pl.core_layer.compute_all_parameters(times, solution)\n",
    "mplt.Q_all(pl, t_N, all_parameters, filepath=datafolder+foldername)\n",
    "mplt.E_all(pl, t_N, all_parameters, filepath=datafolder+foldername)\n",
    "dill.dump((t_N,all_parameters), open(datafolder+foldername+alldatafile,'wb'))\n",
    "plt.close('all')"
   ]
  },
  {
   "cell_type": "code",
   "execution_count": null,
   "metadata": {},
   "outputs": [],
   "source": []
  }
 ],
 "metadata": {
  "kernelspec": {
   "display_name": "Python 3",
   "language": "python",
   "name": "python3"
  },
  "language_info": {
   "codemirror_mode": {
    "name": "ipython",
    "version": 3
   },
   "file_extension": ".py",
   "mimetype": "text/x-python",
   "name": "python",
   "nbconvert_exporter": "python",
   "pygments_lexer": "ipython3",
   "version": "3.6.5"
  }
 },
 "nbformat": 4,
 "nbformat_minor": 2
}
