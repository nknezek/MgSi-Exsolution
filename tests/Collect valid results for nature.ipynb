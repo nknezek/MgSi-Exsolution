{
 "cells": [
  {
   "cell_type": "code",
   "execution_count": 1,
   "metadata": {},
   "outputs": [],
   "source": [
    "import numpy as np\n",
    "import csv\n",
    "import os\n",
    "import pandas as pd\n",
    "import matplotlib.pyplot as plt\n",
    "%matplotlib inline"
   ]
  },
  {
   "cell_type": "code",
   "execution_count": 2,
   "metadata": {},
   "outputs": [],
   "source": [
    "datadir = '/media/nknezek/compute_storage/computed_solutions_nature/'\n",
    "all_data = csv.writer(open(datadir+'all_data.csv','w'))\n",
    "ri05p_data = csv.writer(open(datadir+'ri05p_data.csv','w'))\n",
    "ri05p_l6000K_data = csv.writer(open(datadir+'ri05p_l6000K_data.csv','w'))\n",
    "ri10p_data = csv.writer(open(datadir+'ri10p_data.csv','w'))"
   ]
  },
  {
   "cell_type": "code",
   "execution_count": 3,
   "metadata": {},
   "outputs": [],
   "source": [
    "# percent_ric = 0.05\n",
    "\n",
    "# tofile = './valid_results/'\n",
    "\n",
    "for i in [0,1,2,3,4,5]:\n",
    "    reader = csv.reader(open(datadir+'run_data{}.csv'.format(i),'r'))\n",
    "    for row in reader:\n",
    "        all_data.writerow(row)\n",
    "        if np.abs(float(row[1])/1220e3-1) < 0.05:\n",
    "            ri05p_data.writerow(row)\n",
    "            if float(row[2])<=6000:\n",
    "                ri05p_l6000K_data.writerow(row)\n",
    "        if np.abs(float(row[1])/1220e3-1) < 0.10:\n",
    "            ri10p_data.writerow(row)\n",
    "         \n",
    "#             foldername = \"./Tc{:.1f}_XM{:.3f}_XS{:.3f}_XO{:.3f}/\".format(float(row[2]), float(row[3]), float(row[4]), float(row[5]))\n",
    "#             os.system('cp {fr} {to}'.format(fr=foldername, to=tofile))"
   ]
  },
  {
   "cell_type": "code",
   "execution_count": 5,
   "metadata": {},
   "outputs": [
    {
     "name": "stderr",
     "output_type": "stream",
     "text": [
      "/home/nknezek/.local/lib/python3.6/site-packages/IPython/core/interactiveshell.py:2785: DtypeWarning: Columns (4,5,8,13) have mixed types. Specify dtype option on import or set low_memory=False.\n",
      "  interactivity=interactivity, compiler=compiler, result=result)\n"
     ]
    }
   ],
   "source": [
    "dfall = pd.read_csv(datadir+'all_data.csv', names=['time', 'r_i', 'T_cmb0', 'X_Mg_0', 'X_Si_0', 'X_O_0', 'MgNumFp', 'MgNumPv', 'X_MgFeO_b', 'X_SiO2_b', 'nu_present', 'deltaT0', 'layer_thickness', 'overturn'])"
   ]
  },
  {
   "cell_type": "code",
   "execution_count": 6,
   "metadata": {},
   "outputs": [
    {
     "data": {
      "text/plain": [
       "array([4800., 4900., 5000., 5100., 5200., 4700., 5300., 5400., 5500.,\n",
       "       5600., 5700., 5800., 5900., 6000., 6100., 6200., 6300., 6400.,\n",
       "       6500.])"
      ]
     },
     "execution_count": 6,
     "metadata": {},
     "output_type": "execute_result"
    }
   ],
   "source": [
    "dfall['T_cmb0'].unique()"
   ]
  },
  {
   "cell_type": "code",
   "execution_count": 7,
   "metadata": {},
   "outputs": [
    {
     "data": {
      "text/html": [
       "<div>\n",
       "<style scoped>\n",
       "    .dataframe tbody tr th:only-of-type {\n",
       "        vertical-align: middle;\n",
       "    }\n",
       "\n",
       "    .dataframe tbody tr th {\n",
       "        vertical-align: top;\n",
       "    }\n",
       "\n",
       "    .dataframe thead th {\n",
       "        text-align: right;\n",
       "    }\n",
       "</style>\n",
       "<table border=\"1\" class=\"dataframe\">\n",
       "  <thead>\n",
       "    <tr style=\"text-align: right;\">\n",
       "      <th></th>\n",
       "      <th>r_i</th>\n",
       "      <th>T_cmb0</th>\n",
       "      <th>X_Mg_0</th>\n",
       "      <th>MgNumFp</th>\n",
       "      <th>MgNumPv</th>\n",
       "      <th>X_SiO2_b</th>\n",
       "      <th>nu_present</th>\n",
       "      <th>deltaT0</th>\n",
       "      <th>layer_thickness</th>\n",
       "    </tr>\n",
       "  </thead>\n",
       "  <tbody>\n",
       "    <tr>\n",
       "      <th>count</th>\n",
       "      <td>7.259300e+04</td>\n",
       "      <td>134529.000000</td>\n",
       "      <td>134529.000000</td>\n",
       "      <td>134526.000000</td>\n",
       "      <td>134529.000000</td>\n",
       "      <td>134528.000000</td>\n",
       "      <td>1.345290e+05</td>\n",
       "      <td>134529.000000</td>\n",
       "      <td>134529.000000</td>\n",
       "    </tr>\n",
       "    <tr>\n",
       "      <th>mean</th>\n",
       "      <td>7.790350e+05</td>\n",
       "      <td>5430.210587</td>\n",
       "      <td>0.024007</td>\n",
       "      <td>0.837162</td>\n",
       "      <td>1.054110</td>\n",
       "      <td>0.015001</td>\n",
       "      <td>1.999926e+17</td>\n",
       "      <td>2431.770953</td>\n",
       "      <td>99.996307</td>\n",
       "    </tr>\n",
       "    <tr>\n",
       "      <th>std</th>\n",
       "      <td>8.835535e+05</td>\n",
       "      <td>489.844673</td>\n",
       "      <td>0.015791</td>\n",
       "      <td>13.630048</td>\n",
       "      <td>26.295081</td>\n",
       "      <td>0.000225</td>\n",
       "      <td>1.219272e+15</td>\n",
       "      <td>203.488953</td>\n",
       "      <td>0.605749</td>\n",
       "    </tr>\n",
       "    <tr>\n",
       "      <th>min</th>\n",
       "      <td>0.000000e+00</td>\n",
       "      <td>4700.000000</td>\n",
       "      <td>0.000010</td>\n",
       "      <td>0.800000</td>\n",
       "      <td>0.050000</td>\n",
       "      <td>0.015000</td>\n",
       "      <td>1.000000e-05</td>\n",
       "      <td>0.000010</td>\n",
       "      <td>0.090000</td>\n",
       "    </tr>\n",
       "    <tr>\n",
       "      <th>25%</th>\n",
       "      <td>0.000000e+00</td>\n",
       "      <td>5000.000000</td>\n",
       "      <td>0.010008</td>\n",
       "      <td>0.800000</td>\n",
       "      <td>0.930000</td>\n",
       "      <td>0.015000</td>\n",
       "      <td>2.000000e+17</td>\n",
       "      <td>2253.618971</td>\n",
       "      <td>100.000000</td>\n",
       "    </tr>\n",
       "    <tr>\n",
       "      <th>50%</th>\n",
       "      <td>0.000000e+00</td>\n",
       "      <td>5300.000000</td>\n",
       "      <td>0.025005</td>\n",
       "      <td>0.800000</td>\n",
       "      <td>0.930000</td>\n",
       "      <td>0.015000</td>\n",
       "      <td>2.000000e+17</td>\n",
       "      <td>2377.913327</td>\n",
       "      <td>100.000000</td>\n",
       "    </tr>\n",
       "    <tr>\n",
       "      <th>75%</th>\n",
       "      <td>1.637596e+06</td>\n",
       "      <td>5800.000000</td>\n",
       "      <td>0.037503</td>\n",
       "      <td>0.800000</td>\n",
       "      <td>0.930000</td>\n",
       "      <td>0.015000</td>\n",
       "      <td>2.000000e+17</td>\n",
       "      <td>2585.070587</td>\n",
       "      <td>100.000000</td>\n",
       "    </tr>\n",
       "    <tr>\n",
       "      <th>max</th>\n",
       "      <td>2.543860e+06</td>\n",
       "      <td>6500.000000</td>\n",
       "      <td>0.050000</td>\n",
       "      <td>5000.000000</td>\n",
       "      <td>5800.000000</td>\n",
       "      <td>0.075000</td>\n",
       "      <td>2.000000e+17</td>\n",
       "      <td>2875.090751</td>\n",
       "      <td>100.000000</td>\n",
       "    </tr>\n",
       "  </tbody>\n",
       "</table>\n",
       "</div>"
      ],
      "text/plain": [
       "                r_i         T_cmb0         X_Mg_0        MgNumFp  \\\n",
       "count  7.259300e+04  134529.000000  134529.000000  134526.000000   \n",
       "mean   7.790350e+05    5430.210587       0.024007       0.837162   \n",
       "std    8.835535e+05     489.844673       0.015791      13.630048   \n",
       "min    0.000000e+00    4700.000000       0.000010       0.800000   \n",
       "25%    0.000000e+00    5000.000000       0.010008       0.800000   \n",
       "50%    0.000000e+00    5300.000000       0.025005       0.800000   \n",
       "75%    1.637596e+06    5800.000000       0.037503       0.800000   \n",
       "max    2.543860e+06    6500.000000       0.050000    5000.000000   \n",
       "\n",
       "             MgNumPv       X_SiO2_b    nu_present        deltaT0  \\\n",
       "count  134529.000000  134528.000000  1.345290e+05  134529.000000   \n",
       "mean        1.054110       0.015001  1.999926e+17    2431.770953   \n",
       "std        26.295081       0.000225  1.219272e+15     203.488953   \n",
       "min         0.050000       0.015000  1.000000e-05       0.000010   \n",
       "25%         0.930000       0.015000  2.000000e+17    2253.618971   \n",
       "50%         0.930000       0.015000  2.000000e+17    2377.913327   \n",
       "75%         0.930000       0.015000  2.000000e+17    2585.070587   \n",
       "max      5800.000000       0.075000  2.000000e+17    2875.090751   \n",
       "\n",
       "       layer_thickness  \n",
       "count    134529.000000  \n",
       "mean         99.996307  \n",
       "std           0.605749  \n",
       "min           0.090000  \n",
       "25%         100.000000  \n",
       "50%         100.000000  \n",
       "75%         100.000000  \n",
       "max         100.000000  "
      ]
     },
     "execution_count": 7,
     "metadata": {},
     "output_type": "execute_result"
    }
   ],
   "source": [
    "dfall.describe()"
   ]
  },
  {
   "cell_type": "code",
   "execution_count": null,
   "metadata": {},
   "outputs": [],
   "source": []
  },
  {
   "cell_type": "markdown",
   "metadata": {},
   "source": [
    "# Play with valid solutions within 5%, Tc<6000K"
   ]
  },
  {
   "cell_type": "code",
   "execution_count": 8,
   "metadata": {},
   "outputs": [],
   "source": [
    "df05l6000 = pd.read_csv(datadir+'ri05p_l6000K_data.csv', names=['time', 'r_i', 'T_cmb0', 'X_Mg_0', 'X_Si_0', 'X_O_0', 'MgNumFp', 'MgNumPv', 'X_MgFeO_b', 'X_SiO2_b', 'nu_present', 'deltaT0', 'layer_thickness', 'overturn'])"
   ]
  },
  {
   "cell_type": "code",
   "execution_count": 9,
   "metadata": {},
   "outputs": [
    {
     "data": {
      "text/html": [
       "<div>\n",
       "<style scoped>\n",
       "    .dataframe tbody tr th:only-of-type {\n",
       "        vertical-align: middle;\n",
       "    }\n",
       "\n",
       "    .dataframe tbody tr th {\n",
       "        vertical-align: top;\n",
       "    }\n",
       "\n",
       "    .dataframe thead th {\n",
       "        text-align: right;\n",
       "    }\n",
       "</style>\n",
       "<table border=\"1\" class=\"dataframe\">\n",
       "  <thead>\n",
       "    <tr style=\"text-align: right;\">\n",
       "      <th></th>\n",
       "      <th>r_i</th>\n",
       "      <th>T_cmb0</th>\n",
       "      <th>X_Mg_0</th>\n",
       "      <th>X_Si_0</th>\n",
       "      <th>X_O_0</th>\n",
       "      <th>MgNumFp</th>\n",
       "      <th>MgNumPv</th>\n",
       "      <th>X_MgFeO_b</th>\n",
       "      <th>X_SiO2_b</th>\n",
       "      <th>nu_present</th>\n",
       "      <th>deltaT0</th>\n",
       "      <th>layer_thickness</th>\n",
       "      <th>overturn</th>\n",
       "    </tr>\n",
       "  </thead>\n",
       "  <tbody>\n",
       "    <tr>\n",
       "      <th>count</th>\n",
       "      <td>1.548000e+03</td>\n",
       "      <td>1548.000000</td>\n",
       "      <td>1548.000000</td>\n",
       "      <td>1548.000000</td>\n",
       "      <td>1548.000000</td>\n",
       "      <td>1548.0</td>\n",
       "      <td>1.548000e+03</td>\n",
       "      <td>1548.000</td>\n",
       "      <td>1.548000e+03</td>\n",
       "      <td>1.548000e+03</td>\n",
       "      <td>1548.000000</td>\n",
       "      <td>1548.0</td>\n",
       "      <td>1548.0</td>\n",
       "    </tr>\n",
       "    <tr>\n",
       "      <th>mean</th>\n",
       "      <td>1.220926e+06</td>\n",
       "      <td>5435.852713</td>\n",
       "      <td>0.017250</td>\n",
       "      <td>0.032909</td>\n",
       "      <td>0.070028</td>\n",
       "      <td>0.8</td>\n",
       "      <td>9.300000e-01</td>\n",
       "      <td>0.311</td>\n",
       "      <td>1.500000e-02</td>\n",
       "      <td>2.000000e+17</td>\n",
       "      <td>2434.199079</td>\n",
       "      <td>100.0</td>\n",
       "      <td>600.0</td>\n",
       "    </tr>\n",
       "    <tr>\n",
       "      <th>std</th>\n",
       "      <td>3.507243e+04</td>\n",
       "      <td>248.798242</td>\n",
       "      <td>0.015388</td>\n",
       "      <td>0.023775</td>\n",
       "      <td>0.044397</td>\n",
       "      <td>0.0</td>\n",
       "      <td>1.110582e-16</td>\n",
       "      <td>0.000</td>\n",
       "      <td>5.205852e-18</td>\n",
       "      <td>0.000000e+00</td>\n",
       "      <td>103.080724</td>\n",
       "      <td>0.0</td>\n",
       "      <td>0.0</td>\n",
       "    </tr>\n",
       "    <tr>\n",
       "      <th>min</th>\n",
       "      <td>1.159085e+06</td>\n",
       "      <td>4900.000000</td>\n",
       "      <td>0.000010</td>\n",
       "      <td>0.000010</td>\n",
       "      <td>0.000010</td>\n",
       "      <td>0.8</td>\n",
       "      <td>9.300000e-01</td>\n",
       "      <td>0.311</td>\n",
       "      <td>1.500000e-02</td>\n",
       "      <td>2.000000e+17</td>\n",
       "      <td>2212.187519</td>\n",
       "      <td>100.0</td>\n",
       "      <td>600.0</td>\n",
       "    </tr>\n",
       "    <tr>\n",
       "      <th>25%</th>\n",
       "      <td>1.191550e+06</td>\n",
       "      <td>5200.000000</td>\n",
       "      <td>0.005009</td>\n",
       "      <td>0.015007</td>\n",
       "      <td>0.035008</td>\n",
       "      <td>0.8</td>\n",
       "      <td>9.300000e-01</td>\n",
       "      <td>0.311</td>\n",
       "      <td>1.500000e-02</td>\n",
       "      <td>2.000000e+17</td>\n",
       "      <td>2336.481875</td>\n",
       "      <td>100.0</td>\n",
       "      <td>600.0</td>\n",
       "    </tr>\n",
       "    <tr>\n",
       "      <th>50%</th>\n",
       "      <td>1.221140e+06</td>\n",
       "      <td>5300.000000</td>\n",
       "      <td>0.015007</td>\n",
       "      <td>0.030004</td>\n",
       "      <td>0.060006</td>\n",
       "      <td>0.8</td>\n",
       "      <td>9.300000e-01</td>\n",
       "      <td>0.311</td>\n",
       "      <td>1.500000e-02</td>\n",
       "      <td>2.000000e+17</td>\n",
       "      <td>2377.913327</td>\n",
       "      <td>100.0</td>\n",
       "      <td>600.0</td>\n",
       "    </tr>\n",
       "    <tr>\n",
       "      <th>75%</th>\n",
       "      <td>1.251468e+06</td>\n",
       "      <td>5600.000000</td>\n",
       "      <td>0.030004</td>\n",
       "      <td>0.050000</td>\n",
       "      <td>0.095004</td>\n",
       "      <td>0.8</td>\n",
       "      <td>9.300000e-01</td>\n",
       "      <td>0.311</td>\n",
       "      <td>1.500000e-02</td>\n",
       "      <td>2.000000e+17</td>\n",
       "      <td>2502.207683</td>\n",
       "      <td>100.0</td>\n",
       "      <td>600.0</td>\n",
       "    </tr>\n",
       "    <tr>\n",
       "      <th>max</th>\n",
       "      <td>1.280979e+06</td>\n",
       "      <td>6000.000000</td>\n",
       "      <td>0.050000</td>\n",
       "      <td>0.100000</td>\n",
       "      <td>0.230000</td>\n",
       "      <td>0.8</td>\n",
       "      <td>9.300000e-01</td>\n",
       "      <td>0.311</td>\n",
       "      <td>1.500000e-02</td>\n",
       "      <td>2.000000e+17</td>\n",
       "      <td>2667.933491</td>\n",
       "      <td>100.0</td>\n",
       "      <td>600.0</td>\n",
       "    </tr>\n",
       "  </tbody>\n",
       "</table>\n",
       "</div>"
      ],
      "text/plain": [
       "                r_i       T_cmb0       X_Mg_0       X_Si_0        X_O_0  \\\n",
       "count  1.548000e+03  1548.000000  1548.000000  1548.000000  1548.000000   \n",
       "mean   1.220926e+06  5435.852713     0.017250     0.032909     0.070028   \n",
       "std    3.507243e+04   248.798242     0.015388     0.023775     0.044397   \n",
       "min    1.159085e+06  4900.000000     0.000010     0.000010     0.000010   \n",
       "25%    1.191550e+06  5200.000000     0.005009     0.015007     0.035008   \n",
       "50%    1.221140e+06  5300.000000     0.015007     0.030004     0.060006   \n",
       "75%    1.251468e+06  5600.000000     0.030004     0.050000     0.095004   \n",
       "max    1.280979e+06  6000.000000     0.050000     0.100000     0.230000   \n",
       "\n",
       "       MgNumFp       MgNumPv  X_MgFeO_b      X_SiO2_b    nu_present  \\\n",
       "count   1548.0  1.548000e+03   1548.000  1.548000e+03  1.548000e+03   \n",
       "mean       0.8  9.300000e-01      0.311  1.500000e-02  2.000000e+17   \n",
       "std        0.0  1.110582e-16      0.000  5.205852e-18  0.000000e+00   \n",
       "min        0.8  9.300000e-01      0.311  1.500000e-02  2.000000e+17   \n",
       "25%        0.8  9.300000e-01      0.311  1.500000e-02  2.000000e+17   \n",
       "50%        0.8  9.300000e-01      0.311  1.500000e-02  2.000000e+17   \n",
       "75%        0.8  9.300000e-01      0.311  1.500000e-02  2.000000e+17   \n",
       "max        0.8  9.300000e-01      0.311  1.500000e-02  2.000000e+17   \n",
       "\n",
       "           deltaT0  layer_thickness  overturn  \n",
       "count  1548.000000           1548.0    1548.0  \n",
       "mean   2434.199079            100.0     600.0  \n",
       "std     103.080724              0.0       0.0  \n",
       "min    2212.187519            100.0     600.0  \n",
       "25%    2336.481875            100.0     600.0  \n",
       "50%    2377.913327            100.0     600.0  \n",
       "75%    2502.207683            100.0     600.0  \n",
       "max    2667.933491            100.0     600.0  "
      ]
     },
     "execution_count": 9,
     "metadata": {},
     "output_type": "execute_result"
    }
   ],
   "source": [
    "df05l6000.describe()"
   ]
  },
  {
   "cell_type": "markdown",
   "metadata": {},
   "source": [
    "# Play with valid solutions within 5%"
   ]
  },
  {
   "cell_type": "code",
   "execution_count": 126,
   "metadata": {},
   "outputs": [],
   "source": [
    "df05 = pd.read_csv('../computed_solutions_nature/ri05p_data.csv', names=['time', 'r_i', 'T_cmb0', 'X_Mg_0', 'X_Si_0', 'X_O_0', 'MgNumFp', 'MgNumPv', 'X_MgFeO_b', 'X_SiO2_b', 'nu_present', 'deltaT0', 'layer_thickness', 'overturn'])"
   ]
  },
  {
   "cell_type": "code",
   "execution_count": 127,
   "metadata": {},
   "outputs": [
    {
     "data": {
      "text/html": [
       "<div>\n",
       "<style scoped>\n",
       "    .dataframe tbody tr th:only-of-type {\n",
       "        vertical-align: middle;\n",
       "    }\n",
       "\n",
       "    .dataframe tbody tr th {\n",
       "        vertical-align: top;\n",
       "    }\n",
       "\n",
       "    .dataframe thead th {\n",
       "        text-align: right;\n",
       "    }\n",
       "</style>\n",
       "<table border=\"1\" class=\"dataframe\">\n",
       "  <thead>\n",
       "    <tr style=\"text-align: right;\">\n",
       "      <th></th>\n",
       "      <th>r_i</th>\n",
       "      <th>T_cmb0</th>\n",
       "      <th>X_Mg_0</th>\n",
       "      <th>X_Si_0</th>\n",
       "      <th>X_O_0</th>\n",
       "      <th>MgNumFp</th>\n",
       "      <th>MgNumPv</th>\n",
       "      <th>X_MgFeO_b</th>\n",
       "      <th>X_SiO2_b</th>\n",
       "      <th>nu_present</th>\n",
       "      <th>deltaT0</th>\n",
       "      <th>layer_thickness</th>\n",
       "      <th>overturn</th>\n",
       "    </tr>\n",
       "  </thead>\n",
       "  <tbody>\n",
       "    <tr>\n",
       "      <th>count</th>\n",
       "      <td>1.989000e+03</td>\n",
       "      <td>1989.000000</td>\n",
       "      <td>1989.000000</td>\n",
       "      <td>1989.000000</td>\n",
       "      <td>1989.000000</td>\n",
       "      <td>1.989000e+03</td>\n",
       "      <td>1.989000e+03</td>\n",
       "      <td>1989.000</td>\n",
       "      <td>1.989000e+03</td>\n",
       "      <td>1.989000e+03</td>\n",
       "      <td>1989.000000</td>\n",
       "      <td>1989.0</td>\n",
       "      <td>1989.0</td>\n",
       "    </tr>\n",
       "    <tr>\n",
       "      <th>mean</th>\n",
       "      <td>1.223545e+06</td>\n",
       "      <td>5632.780292</td>\n",
       "      <td>0.017393</td>\n",
       "      <td>0.030197</td>\n",
       "      <td>0.057792</td>\n",
       "      <td>8.000000e-01</td>\n",
       "      <td>9.300000e-01</td>\n",
       "      <td>0.311</td>\n",
       "      <td>1.500000e-02</td>\n",
       "      <td>2.000000e+17</td>\n",
       "      <td>2515.789034</td>\n",
       "      <td>100.0</td>\n",
       "      <td>600.0</td>\n",
       "    </tr>\n",
       "    <tr>\n",
       "      <th>std</th>\n",
       "      <td>3.492543e+04</td>\n",
       "      <td>426.972123</td>\n",
       "      <td>0.015417</td>\n",
       "      <td>0.022654</td>\n",
       "      <td>0.045724</td>\n",
       "      <td>1.110502e-16</td>\n",
       "      <td>3.331507e-16</td>\n",
       "      <td>0.000</td>\n",
       "      <td>6.940639e-18</td>\n",
       "      <td>0.000000e+00</td>\n",
       "      <td>176.900750</td>\n",
       "      <td>0.0</td>\n",
       "      <td>0.0</td>\n",
       "    </tr>\n",
       "    <tr>\n",
       "      <th>min</th>\n",
       "      <td>1.159085e+06</td>\n",
       "      <td>4900.000000</td>\n",
       "      <td>0.000010</td>\n",
       "      <td>0.000010</td>\n",
       "      <td>0.000010</td>\n",
       "      <td>8.000000e-01</td>\n",
       "      <td>9.300000e-01</td>\n",
       "      <td>0.311</td>\n",
       "      <td>1.500000e-02</td>\n",
       "      <td>2.000000e+17</td>\n",
       "      <td>2212.187519</td>\n",
       "      <td>100.0</td>\n",
       "      <td>600.0</td>\n",
       "    </tr>\n",
       "    <tr>\n",
       "      <th>25%</th>\n",
       "      <td>1.193291e+06</td>\n",
       "      <td>5300.000000</td>\n",
       "      <td>0.005009</td>\n",
       "      <td>0.010008</td>\n",
       "      <td>0.025008</td>\n",
       "      <td>8.000000e-01</td>\n",
       "      <td>9.300000e-01</td>\n",
       "      <td>0.311</td>\n",
       "      <td>1.500000e-02</td>\n",
       "      <td>2.000000e+17</td>\n",
       "      <td>2377.913327</td>\n",
       "      <td>100.0</td>\n",
       "      <td>600.0</td>\n",
       "    </tr>\n",
       "    <tr>\n",
       "      <th>50%</th>\n",
       "      <td>1.226591e+06</td>\n",
       "      <td>5500.000000</td>\n",
       "      <td>0.015007</td>\n",
       "      <td>0.030004</td>\n",
       "      <td>0.045007</td>\n",
       "      <td>8.000000e-01</td>\n",
       "      <td>9.300000e-01</td>\n",
       "      <td>0.311</td>\n",
       "      <td>1.500000e-02</td>\n",
       "      <td>2.000000e+17</td>\n",
       "      <td>2460.776231</td>\n",
       "      <td>100.0</td>\n",
       "      <td>600.0</td>\n",
       "    </tr>\n",
       "    <tr>\n",
       "      <th>75%</th>\n",
       "      <td>1.255619e+06</td>\n",
       "      <td>6000.000000</td>\n",
       "      <td>0.030004</td>\n",
       "      <td>0.045001</td>\n",
       "      <td>0.085004</td>\n",
       "      <td>8.000000e-01</td>\n",
       "      <td>9.300000e-01</td>\n",
       "      <td>0.311</td>\n",
       "      <td>1.500000e-02</td>\n",
       "      <td>2.000000e+17</td>\n",
       "      <td>2667.933491</td>\n",
       "      <td>100.0</td>\n",
       "      <td>600.0</td>\n",
       "    </tr>\n",
       "    <tr>\n",
       "      <th>max</th>\n",
       "      <td>1.280979e+06</td>\n",
       "      <td>6400.000000</td>\n",
       "      <td>0.050000</td>\n",
       "      <td>0.100000</td>\n",
       "      <td>0.230000</td>\n",
       "      <td>8.000000e-01</td>\n",
       "      <td>9.300000e-01</td>\n",
       "      <td>0.311</td>\n",
       "      <td>1.500000e-02</td>\n",
       "      <td>2.000000e+17</td>\n",
       "      <td>2833.659299</td>\n",
       "      <td>100.0</td>\n",
       "      <td>600.0</td>\n",
       "    </tr>\n",
       "  </tbody>\n",
       "</table>\n",
       "</div>"
      ],
      "text/plain": [
       "                r_i       T_cmb0       X_Mg_0       X_Si_0        X_O_0  \\\n",
       "count  1.989000e+03  1989.000000  1989.000000  1989.000000  1989.000000   \n",
       "mean   1.223545e+06  5632.780292     0.017393     0.030197     0.057792   \n",
       "std    3.492543e+04   426.972123     0.015417     0.022654     0.045724   \n",
       "min    1.159085e+06  4900.000000     0.000010     0.000010     0.000010   \n",
       "25%    1.193291e+06  5300.000000     0.005009     0.010008     0.025008   \n",
       "50%    1.226591e+06  5500.000000     0.015007     0.030004     0.045007   \n",
       "75%    1.255619e+06  6000.000000     0.030004     0.045001     0.085004   \n",
       "max    1.280979e+06  6400.000000     0.050000     0.100000     0.230000   \n",
       "\n",
       "            MgNumFp       MgNumPv  X_MgFeO_b      X_SiO2_b    nu_present  \\\n",
       "count  1.989000e+03  1.989000e+03   1989.000  1.989000e+03  1.989000e+03   \n",
       "mean   8.000000e-01  9.300000e-01      0.311  1.500000e-02  2.000000e+17   \n",
       "std    1.110502e-16  3.331507e-16      0.000  6.940639e-18  0.000000e+00   \n",
       "min    8.000000e-01  9.300000e-01      0.311  1.500000e-02  2.000000e+17   \n",
       "25%    8.000000e-01  9.300000e-01      0.311  1.500000e-02  2.000000e+17   \n",
       "50%    8.000000e-01  9.300000e-01      0.311  1.500000e-02  2.000000e+17   \n",
       "75%    8.000000e-01  9.300000e-01      0.311  1.500000e-02  2.000000e+17   \n",
       "max    8.000000e-01  9.300000e-01      0.311  1.500000e-02  2.000000e+17   \n",
       "\n",
       "           deltaT0  layer_thickness  overturn  \n",
       "count  1989.000000           1989.0    1989.0  \n",
       "mean   2515.789034            100.0     600.0  \n",
       "std     176.900750              0.0       0.0  \n",
       "min    2212.187519            100.0     600.0  \n",
       "25%    2377.913327            100.0     600.0  \n",
       "50%    2460.776231            100.0     600.0  \n",
       "75%    2667.933491            100.0     600.0  \n",
       "max    2833.659299            100.0     600.0  "
      ]
     },
     "execution_count": 127,
     "metadata": {},
     "output_type": "execute_result"
    }
   ],
   "source": [
    "df05.describe()"
   ]
  },
  {
   "cell_type": "code",
   "execution_count": 34,
   "metadata": {},
   "outputs": [
    {
     "data": {
      "text/plain": [
       "array([5200., 5300., 5400., 5500., 5600., 5700., 5800., 5900., 6000.,\n",
       "       6100., 6200., 6300., 6400.])"
      ]
     },
     "execution_count": 34,
     "metadata": {},
     "output_type": "execute_result"
    }
   ],
   "source": [
    "df05['T_cmb0'].unique()"
   ]
  },
  {
   "cell_type": "code",
   "execution_count": 35,
   "metadata": {},
   "outputs": [
    {
     "data": {
      "text/plain": [
       "array([[<matplotlib.axes._subplots.AxesSubplot object at 0x7f76e7e1e470>]],\n",
       "      dtype=object)"
      ]
     },
     "execution_count": 35,
     "metadata": {},
     "output_type": "execute_result"
    },
    {
     "data": {
      "image/png": "[encoded data removed]",
      "text/plain": [
       "<Figure size 432x288 with 1 Axes>"
      ]
     },
     "metadata": {},
     "output_type": "display_data"
    }
   ],
   "source": [
    "df05.hist('T_cmb0',bins=np.linspace(4800,6000,13))"
   ]
  },
  {
   "cell_type": "code",
   "execution_count": 36,
   "metadata": {},
   "outputs": [
    {
     "data": {
      "text/plain": [
       "array([[<matplotlib.axes._subplots.AxesSubplot object at 0x7f76e759d588>]],\n",
       "      dtype=object)"
      ]
     },
     "execution_count": 36,
     "metadata": {},
     "output_type": "execute_result"
    },
    {
     "data": {
      "image/png": "[encoded data removed]",
      "text/plain": [
       "<Figure size 432x288 with 1 Axes>"
      ]
     },
     "metadata": {},
     "output_type": "display_data"
    },
    {
     "data": {
      "image/png": "[encoded data removed]",
      "text/plain": [
       "<Figure size 432x288 with 1 Axes>"
      ]
     },
     "metadata": {},
     "output_type": "display_data"
    },
    {
     "data": {
      "image/png": "[encoded data removed]",
      "text/plain": [
       "<Figure size 432x288 with 1 Axes>"
      ]
     },
     "metadata": {},
     "output_type": "display_data"
    }
   ],
   "source": [
    "df05.hist('X_Mg_0')\n",
    "df05.hist('X_Si_0')\n",
    "df05.hist('X_O_0')"
   ]
  },
  {
   "cell_type": "code",
   "execution_count": 37,
   "metadata": {},
   "outputs": [
    {
     "data": {
      "image/png": "[encoded data removed]",
      "text/plain": [
       "<Figure size 864x864 with 16 Axes>"
      ]
     },
     "metadata": {},
     "output_type": "display_data"
    }
   ],
   "source": [
    "pd.plotting.scatter_matrix(df05[['T_cmb0','X_Mg_0','X_Si_0','X_O_0']], alpha=0.02, figsize=(12, 12), diagonal='kde', marker='s', s=200)\n",
    "plt.savefig('ri05p_scatter_matrix.pdf')"
   ]
  },
  {
   "cell_type": "code",
   "execution_count": 24,
   "metadata": {},
   "outputs": [
    {
     "data": {
      "text/plain": [
       "<matplotlib.axes._subplots.AxesSubplot at 0x7f8fac864208>"
      ]
     },
     "execution_count": 24,
     "metadata": {},
     "output_type": "execute_result"
    },
    {
     "data": {
      "image/png": "[encoded data removed]",
      "text/plain": [
       "<Figure size 432x288 with 2 Axes>"
      ]
     },
     "metadata": {},
     "output_type": "display_data"
    }
   ],
   "source": [
    "df05.plot(kind='hexbin', x='T_cmb0',y='X_Mg_0',)"
   ]
  },
  {
   "cell_type": "markdown",
   "metadata": {},
   "source": [
    "# Play with valid solutions within 10%"
   ]
  },
  {
   "cell_type": "code",
   "execution_count": 38,
   "metadata": {},
   "outputs": [],
   "source": [
    "df10 = pd.read_csv('../computed_solutions_nature/ri10p_data.csv', names=['time', 'r_i', 'T_cmb0', 'X_Mg_0', 'X_Si_0', 'X_O_0', 'MgNumFp', 'MgNumPv', 'X_MgFeO_b', 'X_SiO2_b', 'nu_present', 'deltaT0', 'layer_thickness', 'overturn'])"
   ]
  },
  {
   "cell_type": "code",
   "execution_count": 39,
   "metadata": {},
   "outputs": [
    {
     "data": {
      "text/html": [
       "<div>\n",
       "<style scoped>\n",
       "    .dataframe tbody tr th:only-of-type {\n",
       "        vertical-align: middle;\n",
       "    }\n",
       "\n",
       "    .dataframe tbody tr th {\n",
       "        vertical-align: top;\n",
       "    }\n",
       "\n",
       "    .dataframe thead th {\n",
       "        text-align: right;\n",
       "    }\n",
       "</style>\n",
       "<table border=\"1\" class=\"dataframe\">\n",
       "  <thead>\n",
       "    <tr style=\"text-align: right;\">\n",
       "      <th></th>\n",
       "      <th>r_i</th>\n",
       "      <th>T_cmb0</th>\n",
       "      <th>X_Mg_0</th>\n",
       "      <th>X_Si_0</th>\n",
       "      <th>X_O_0</th>\n",
       "      <th>MgNumFp</th>\n",
       "      <th>MgNumPv</th>\n",
       "      <th>X_MgFeO_b</th>\n",
       "      <th>X_SiO2_b</th>\n",
       "      <th>nu_present</th>\n",
       "      <th>deltaT0</th>\n",
       "      <th>layer_thickness</th>\n",
       "      <th>overturn</th>\n",
       "    </tr>\n",
       "  </thead>\n",
       "  <tbody>\n",
       "    <tr>\n",
       "      <th>count</th>\n",
       "      <td>3.226000e+03</td>\n",
       "      <td>3226.000000</td>\n",
       "      <td>3226.000000</td>\n",
       "      <td>3226.000000</td>\n",
       "      <td>3226.000000</td>\n",
       "      <td>3226.0</td>\n",
       "      <td>3.226000e+03</td>\n",
       "      <td>3226.000</td>\n",
       "      <td>3.226000e+03</td>\n",
       "      <td>3.226000e+03</td>\n",
       "      <td>3226.000000</td>\n",
       "      <td>3226.0</td>\n",
       "      <td>3226.0</td>\n",
       "    </tr>\n",
       "    <tr>\n",
       "      <th>mean</th>\n",
       "      <td>1.215967e+06</td>\n",
       "      <td>5705.300682</td>\n",
       "      <td>0.020300</td>\n",
       "      <td>0.023359</td>\n",
       "      <td>0.046052</td>\n",
       "      <td>0.8</td>\n",
       "      <td>9.300000e-01</td>\n",
       "      <td>0.311</td>\n",
       "      <td>1.500000e-02</td>\n",
       "      <td>2.000000e+17</td>\n",
       "      <td>2545.835284</td>\n",
       "      <td>100.0</td>\n",
       "      <td>600.0</td>\n",
       "    </tr>\n",
       "    <tr>\n",
       "      <th>std</th>\n",
       "      <td>6.902868e+04</td>\n",
       "      <td>449.633566</td>\n",
       "      <td>0.015286</td>\n",
       "      <td>0.016116</td>\n",
       "      <td>0.034177</td>\n",
       "      <td>0.0</td>\n",
       "      <td>2.220790e-16</td>\n",
       "      <td>0.000</td>\n",
       "      <td>5.204977e-18</td>\n",
       "      <td>0.000000e+00</td>\n",
       "      <td>186.289715</td>\n",
       "      <td>0.0</td>\n",
       "      <td>0.0</td>\n",
       "    </tr>\n",
       "    <tr>\n",
       "      <th>min</th>\n",
       "      <td>1.098003e+06</td>\n",
       "      <td>5100.000000</td>\n",
       "      <td>0.000010</td>\n",
       "      <td>0.000010</td>\n",
       "      <td>0.000010</td>\n",
       "      <td>0.8</td>\n",
       "      <td>9.300000e-01</td>\n",
       "      <td>0.311</td>\n",
       "      <td>1.500000e-02</td>\n",
       "      <td>2.000000e+17</td>\n",
       "      <td>2295.050423</td>\n",
       "      <td>100.0</td>\n",
       "      <td>600.0</td>\n",
       "    </tr>\n",
       "    <tr>\n",
       "      <th>25%</th>\n",
       "      <td>1.150611e+06</td>\n",
       "      <td>5300.000000</td>\n",
       "      <td>0.005009</td>\n",
       "      <td>0.010008</td>\n",
       "      <td>0.020009</td>\n",
       "      <td>0.8</td>\n",
       "      <td>9.300000e-01</td>\n",
       "      <td>0.311</td>\n",
       "      <td>1.500000e-02</td>\n",
       "      <td>2.000000e+17</td>\n",
       "      <td>2377.913327</td>\n",
       "      <td>100.0</td>\n",
       "      <td>600.0</td>\n",
       "    </tr>\n",
       "    <tr>\n",
       "      <th>50%</th>\n",
       "      <td>1.216580e+06</td>\n",
       "      <td>5600.000000</td>\n",
       "      <td>0.020006</td>\n",
       "      <td>0.020006</td>\n",
       "      <td>0.035008</td>\n",
       "      <td>0.8</td>\n",
       "      <td>9.300000e-01</td>\n",
       "      <td>0.311</td>\n",
       "      <td>1.500000e-02</td>\n",
       "      <td>2.000000e+17</td>\n",
       "      <td>2502.207683</td>\n",
       "      <td>100.0</td>\n",
       "      <td>600.0</td>\n",
       "    </tr>\n",
       "    <tr>\n",
       "      <th>75%</th>\n",
       "      <td>1.270553e+06</td>\n",
       "      <td>6100.000000</td>\n",
       "      <td>0.030004</td>\n",
       "      <td>0.035003</td>\n",
       "      <td>0.065006</td>\n",
       "      <td>0.8</td>\n",
       "      <td>9.300000e-01</td>\n",
       "      <td>0.311</td>\n",
       "      <td>1.500000e-02</td>\n",
       "      <td>2.000000e+17</td>\n",
       "      <td>2709.364943</td>\n",
       "      <td>100.0</td>\n",
       "      <td>600.0</td>\n",
       "    </tr>\n",
       "    <tr>\n",
       "      <th>max</th>\n",
       "      <td>1.341970e+06</td>\n",
       "      <td>6500.000000</td>\n",
       "      <td>0.050000</td>\n",
       "      <td>0.050000</td>\n",
       "      <td>0.150000</td>\n",
       "      <td>0.8</td>\n",
       "      <td>9.300000e-01</td>\n",
       "      <td>0.311</td>\n",
       "      <td>1.500000e-02</td>\n",
       "      <td>2.000000e+17</td>\n",
       "      <td>2875.090751</td>\n",
       "      <td>100.0</td>\n",
       "      <td>600.0</td>\n",
       "    </tr>\n",
       "  </tbody>\n",
       "</table>\n",
       "</div>"
      ],
      "text/plain": [
       "                r_i       T_cmb0       X_Mg_0       X_Si_0        X_O_0  \\\n",
       "count  3.226000e+03  3226.000000  3226.000000  3226.000000  3226.000000   \n",
       "mean   1.215967e+06  5705.300682     0.020300     0.023359     0.046052   \n",
       "std    6.902868e+04   449.633566     0.015286     0.016116     0.034177   \n",
       "min    1.098003e+06  5100.000000     0.000010     0.000010     0.000010   \n",
       "25%    1.150611e+06  5300.000000     0.005009     0.010008     0.020009   \n",
       "50%    1.216580e+06  5600.000000     0.020006     0.020006     0.035008   \n",
       "75%    1.270553e+06  6100.000000     0.030004     0.035003     0.065006   \n",
       "max    1.341970e+06  6500.000000     0.050000     0.050000     0.150000   \n",
       "\n",
       "       MgNumFp       MgNumPv  X_MgFeO_b      X_SiO2_b    nu_present  \\\n",
       "count   3226.0  3.226000e+03   3226.000  3.226000e+03  3.226000e+03   \n",
       "mean       0.8  9.300000e-01      0.311  1.500000e-02  2.000000e+17   \n",
       "std        0.0  2.220790e-16      0.000  5.204977e-18  0.000000e+00   \n",
       "min        0.8  9.300000e-01      0.311  1.500000e-02  2.000000e+17   \n",
       "25%        0.8  9.300000e-01      0.311  1.500000e-02  2.000000e+17   \n",
       "50%        0.8  9.300000e-01      0.311  1.500000e-02  2.000000e+17   \n",
       "75%        0.8  9.300000e-01      0.311  1.500000e-02  2.000000e+17   \n",
       "max        0.8  9.300000e-01      0.311  1.500000e-02  2.000000e+17   \n",
       "\n",
       "           deltaT0  layer_thickness  overturn  \n",
       "count  3226.000000           3226.0    3226.0  \n",
       "mean   2545.835284            100.0     600.0  \n",
       "std     186.289715              0.0       0.0  \n",
       "min    2295.050423            100.0     600.0  \n",
       "25%    2377.913327            100.0     600.0  \n",
       "50%    2502.207683            100.0     600.0  \n",
       "75%    2709.364943            100.0     600.0  \n",
       "max    2875.090751            100.0     600.0  "
      ]
     },
     "execution_count": 39,
     "metadata": {},
     "output_type": "execute_result"
    }
   ],
   "source": [
    "df10.describe()"
   ]
  },
  {
   "cell_type": "code",
   "execution_count": 40,
   "metadata": {},
   "outputs": [
    {
     "data": {
      "text/plain": [
       "array([5100., 5200., 5300., 5400., 5500., 5600., 5700., 5800., 5900.,\n",
       "       6000., 6100., 6200., 6300., 6400., 6500.])"
      ]
     },
     "execution_count": 40,
     "metadata": {},
     "output_type": "execute_result"
    }
   ],
   "source": [
    "df10['T_cmb0'].unique()"
   ]
  },
  {
   "cell_type": "code",
   "execution_count": 41,
   "metadata": {},
   "outputs": [
    {
     "data": {
      "image/png": "[encoded data removed]",
      "text/plain": [
       "<Figure size 864x864 with 16 Axes>"
      ]
     },
     "metadata": {},
     "output_type": "display_data"
    }
   ],
   "source": [
    "pd.plotting.scatter_matrix(df10[['T_cmb0','X_Mg_0','X_Si_0','X_O_0']], alpha=0.02, figsize=(12, 12), diagonal='kde', marker='s', s=200)\n",
    "plt.savefig('ri10p_scatter_matrix.pdf')"
   ]
  },
  {
   "cell_type": "code",
   "execution_count": null,
   "metadata": {},
   "outputs": [],
   "source": []
  }
 ],
 "metadata": {
  "kernelspec": {
   "display_name": "Python 3",
   "language": "python",
   "name": "python3"
  },
  "language_info": {
   "codemirror_mode": {
    "name": "ipython",
    "version": 3
   },
   "file_extension": ".py",
   "mimetype": "text/x-python",
   "name": "python",
   "nbconvert_exporter": "python",
   "pygments_lexer": "ipython3",
   "version": "3.6.5"
  }
 },
 "nbformat": 4,
 "nbformat_minor": 2
}
