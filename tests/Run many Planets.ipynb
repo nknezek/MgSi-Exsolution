{
 "cells": [
  {
   "cell_type": "code",
   "execution_count": 4,
   "metadata": {},
   "outputs": [],
   "source": [
    "import numpy as np\n",
    "import matplotlib.pyplot as plt\n",
    "# %matplotlib inline\n",
    "from imp import reload\n",
    "import sys, os\n",
    "import scipy.special as sp\n",
    "import dill\n",
    "sys.path.append('../')\n",
    "import mg_si\n",
    "import csv   \n",
    "import datetime\n"
   ]
  },
  {
   "cell_type": "code",
   "execution_count": 5,
   "metadata": {
    "collapsed": true
   },
   "outputs": [],
   "source": [
    "pl = mg_si.planet.Custom()"
   ]
  },
  {
   "cell_type": "code",
   "execution_count": 7,
   "metadata": {},
   "outputs": [
    {
     "ename": "FileNotFoundError",
     "evalue": "[Errno 2] No such file or directory: '../computed_solutions/Tc5000_dT2800_XM0.00_XS0.00_XO0.16_fMb0.80_Xmb0.05_XSb0.01_nu2e+15/'",
     "output_type": "error",
     "traceback": [
      "\u001b[0;31m---------------------------------------------------------------------------\u001b[0m",
      "\u001b[0;31mFileNotFoundError\u001b[0m                         Traceback (most recent call last)",
      "\u001b[0;32m<ipython-input-7-e68a191d9831>\u001b[0m in \u001b[0;36m<module>\u001b[0;34m()\u001b[0m\n\u001b[1;32m     44\u001b[0m                         X_Mg_0, X_Si_0, X_O_0, fraction_MgFe_b, X_MgFeO_b, X_SiO2_b, nu_present)\n\u001b[1;32m     45\u001b[0m                 \u001b[0;32mif\u001b[0m \u001b[0;32mnot\u001b[0m \u001b[0mos\u001b[0m\u001b[0;34m.\u001b[0m\u001b[0mpath\u001b[0m\u001b[0;34m.\u001b[0m\u001b[0mexists\u001b[0m\u001b[0;34m(\u001b[0m\u001b[0;34m'../computed_solutions'\u001b[0m\u001b[0;34m)\u001b[0m\u001b[0;34m:\u001b[0m\u001b[0;34m\u001b[0m\u001b[0m\n\u001b[0;32m---> 46\u001b[0;31m                     \u001b[0mos\u001b[0m\u001b[0;34m.\u001b[0m\u001b[0mmkdir\u001b[0m\u001b[0;34m(\u001b[0m\u001b[0mfilepath\u001b[0m\u001b[0;34m)\u001b[0m\u001b[0;34m\u001b[0m\u001b[0m\n\u001b[0m\u001b[1;32m     47\u001b[0m                 \u001b[0;32mif\u001b[0m \u001b[0;32mnot\u001b[0m \u001b[0mos\u001b[0m\u001b[0;34m.\u001b[0m\u001b[0mpath\u001b[0m\u001b[0;34m.\u001b[0m\u001b[0mexists\u001b[0m\u001b[0;34m(\u001b[0m\u001b[0mfilepath\u001b[0m\u001b[0;34m)\u001b[0m\u001b[0;34m:\u001b[0m\u001b[0;34m\u001b[0m\u001b[0m\n\u001b[1;32m     48\u001b[0m                     \u001b[0mos\u001b[0m\u001b[0;34m.\u001b[0m\u001b[0mmkdir\u001b[0m\u001b[0;34m(\u001b[0m\u001b[0mfilepath\u001b[0m\u001b[0;34m)\u001b[0m\u001b[0;34m\u001b[0m\u001b[0m\n",
      "\u001b[0;31mFileNotFoundError\u001b[0m: [Errno 2] No such file or directory: '../computed_solutions/Tc5000_dT2800_XM0.00_XS0.00_XO0.16_fMb0.80_Xmb0.05_XSb0.01_nu2e+15/'"
     ]
    }
   ],
   "source": [
    "# times = np.linspace(0,1000e6*365.25*24*3600,1000)\n",
    "times = np.linspace(0,4568e6*365.25*24*3600,4000)\n",
    "\n",
    "## Parameters to tweak:\n",
    "T_cmb0 = 5900 # 5000-6000\n",
    "deltaT0 = 2800 # nominally 2800\n",
    "## Initial Core State\n",
    "X_Mg_0 = 0.02 # 0. - 0.05\n",
    "X_Si_0 = 0.01 # 0. - 0.05\n",
    "X_O_0 = 0.16  # 10. - 22.\n",
    "## background mantle state\n",
    "fraction_MgFe_b = 0.8\n",
    "X_MgFeO_b = 0.05\n",
    "X_SiO2_b = 0.01\n",
    "## Mantle viscosity\n",
    "nu_present = 10**19/pl.params.mantle.rho #[m^2/s]\n",
    "\n",
    "T_cmbs = [5000, 5500, 6000]\n",
    "X_Mgs = [1e-12, 0.01, 0.025, 0.05]\n",
    "X_Sis = [1e-12, 0.01, 0.025, 0.05]\n",
    "nus = np.array([10**19, 10**20, 10**21])/pl.params.mantle.rho\n",
    "for nu_present in nus:  #[m^2/s]\n",
    "    for X_Mg_0 in X_Mgs:\n",
    "        for X_Si_0 in X_Sis:\n",
    "            for T_cmb0 in T_cmbs:\n",
    "                T_um0 = T_cmb0-deltaT0\n",
    "\n",
    "                Moles_0 = pl.reactions.compute_Moles_0(X_Mg_0, X_Si_0, X_O_0, T_cmb0)\n",
    "                x0 = [T_cmb0, T_um0]\n",
    "                x0 = x0+Moles_0\n",
    "                pl.params.reactions.Moles_0 = Moles_0\n",
    "\n",
    "                Mm_b = pl.reactions.mantle.compute_Mm_b(fraction_MgFe_b, X_MgFeO_b, X_SiO2_b)\n",
    "                pl.params.reactions.Mm_b = Mm_b\n",
    "\n",
    "                T_present = 1350 # [K]\n",
    "                nu_old =  nu_present/1e3\n",
    "                T_old = T_um0\n",
    "                A,nu0 = pl.mantle_layer.find_arrenhius_params(nu_present, T_present, nu_old, T_old, set_values=True)\n",
    "\n",
    "                solution = pl.integrate(times, x0)\n",
    "\n",
    "                filepath = '../computed_solutions/Tc{:d}_dT{:d}_XM{:.2f}_XS{:.2f}_XO{:.2f}_fMb{:.2f}_Xmb{:.2f}_XSb{:.2f}_nu{:.0e}/'.format(T_cmb0, deltaT0, \n",
    "                        X_Mg_0, X_Si_0, X_O_0, fraction_MgFe_b, X_MgFeO_b, X_SiO2_b, nu_present)\n",
    "                if not os.path.exists('../computed_solutions/'):\n",
    "                    os.mkdir('../computed_solutions/')\n",
    "                if not os.path.exists(filepath):\n",
    "                    os.mkdir(filepath)\n",
    "                dill.dump((planet,time,solution), open(filepath+'data.m','wb'))\n",
    "\n",
    "                mplt.temperature(pl, times, solution, filepath=filepath)\n",
    "                mplt.coremoles(pl, times, solution, filepath=filepath)\n",
    "                mplt.composition(pl, times, solution, filepath=filepath)\n",
    "\n",
    "                time = str(datetime.datetime.now())\n",
    "                r_i = pl.core_layer.r_i(solution[-1,0], one_off=True)\n",
    "                csvdata = [time, T_cmb0, deltaT0, r_i, X_Mg_0, X_Si_0, X_O_0, fraction_MgFe_b, X_MgFeO_b, X_SiO2_b, nu_present]\n",
    "                with open(r'../computed_solutions/run_data.csv', 'a') as f:\n",
    "                    writer = csv.writer(f)\n",
    "                    writer.writerow(csvdata)"
   ]
  },
  {
   "cell_type": "code",
   "execution_count": null,
   "metadata": {
    "collapsed": true
   },
   "outputs": [],
   "source": []
  }
 ],
 "metadata": {
  "kernelspec": {
   "display_name": "Python 3",
   "language": "python",
   "name": "python3"
  }
 },
 "nbformat": 4,
 "nbformat_minor": 1
}
