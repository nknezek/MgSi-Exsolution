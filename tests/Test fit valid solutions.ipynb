{
 "cells": [
  {
   "cell_type": "code",
   "execution_count": 1,
   "metadata": {
    "collapsed": true
   },
   "outputs": [],
   "source": [
    "import numpy as np\n",
    "import matplotlib.pyplot as plt\n",
    "%matplotlib inline\n",
    "import sys, os\n",
    "sys.path.append('../')\n",
    "import mg_si\n",
    "from imp import reload\n",
    "reload(mg_si)\n",
    "import pandas as pd\n",
    "import scipy.interpolate as sint\n",
    "import scipy.ndimage as sim\n",
    "import itertools as it\n",
    "from matplotlib.colors import ListedColormap\n",
    "import time"
   ]
  },
  {
   "cell_type": "code",
   "execution_count": 2,
   "metadata": {},
   "outputs": [
    {
     "data": {
      "text/plain": [
       "Index(['Time-date', 'time', 'T_cmb0', 'deltaT0', 'r_i', 'X_Mg_0', 'X_Si_0',\n",
       "       'X_O_0', 'fraction_MgFe_b', 'X_MgFeO_b', 'X_SiO2_b', 'nu_present',\n",
       "       'layer_thickness', 'overturn'],\n",
       "      dtype='object')"
      ]
     },
     "execution_count": 2,
     "metadata": {},
     "output_type": "execute_result"
    }
   ],
   "source": [
    "df = pd.read_csv('../computed_solutions_new/run_data.csv')\n",
    "df.columns"
   ]
  },
  {
   "cell_type": "code",
   "execution_count": 3,
   "metadata": {
    "collapsed": true
   },
   "outputs": [],
   "source": [
    "# Choose which columns to compute variations over\n",
    "cols_to_ind = ['T_cmb0', 'deltaT0', 'X_Mg_0', 'X_Si_0',\n",
    "       'X_O_0', 'fraction_MgFe_b', 'X_MgFeO_b', 'X_SiO2_b', 'nu_present',\n",
    "       'layer_thickness', 'overturn']\n",
    "\n",
    "# convert dataframe to multiindex\n",
    "ri_pd = df.set_index(cols_to_ind)\n",
    "\n",
    "# drop any column which only has one value in the dataset\n",
    "for i,l in enumerate(ri_pd.index.levels):\n",
    "    if len(l) ==1:\n",
    "        ri_pd.index = ri_pd.index.droplevel(l.name)\n",
    "\n",
    "# drop the time and date column\n",
    "ri_pd.drop(['time','Time-date'], axis=1, inplace=True)\n",
    "\n",
    "# convert the pandas dataframe into a numpy nd-array\n",
    "shape = list(map(len,ri_pd.index.levels))\n",
    "ri_arr = np.full(shape, np.nan)\n",
    "ri_arr[ri_pd.index.labels] = ri_pd.values.flat"
   ]
  },
  {
   "cell_type": "markdown",
   "metadata": {},
   "source": [
    "# New, Fast Interpolate Code\n",
    "Only computes interpolations when needed."
   ]
  },
  {
   "cell_type": "code",
   "execution_count": 243,
   "metadata": {},
   "outputs": [],
   "source": [
    "def setup_all_interpolation_axes(ric_pandas, Ninterp=20):\n",
    "    fcoords = [] # interpolated index locations of values in dataset\n",
    "    fvals = [] # values in dataset \n",
    "    fnames = [] # names of fit axes\n",
    "    for ind in ri_pd.index.levels:\n",
    "        vals = ind.values\n",
    "        fnames.append(ind.name)\n",
    "        mi = vals.min()\n",
    "        ma = vals.max()\n",
    "        fitvals = np.linspace(mi,ma,Ninterp)\n",
    "        fitcoords = np.interp(fitvals, vals, range(len(vals)))\n",
    "        fcoords.append(fitcoords)\n",
    "        fvals.append(fitvals)\n",
    "    return fnames, fcoords, fvals \n",
    "\n",
    "def get_interpolation_coords(ri_pd, name, vals_wanted=None, Ninterp=20, return_vals_wanted=False):\n",
    "    ni = ri_pd.index.names.index(name)\n",
    "    data_vals = ri_pd.index.levels[ni]\n",
    "    if vals_wanted is None:\n",
    "        mi = data_vals.min()\n",
    "        ma = data_vals.max()\n",
    "        vals_wanted = np.linspace(mi,ma,Ninterp)\n",
    "    interp_coords = np.interp(vals_wanted, data_vals, range(len(data_vals)))\n",
    "    if type(interp_coords) is float:\n",
    "        interp_coords = np.array([interp_coords])\n",
    "    if return_vals_wanted:\n",
    "        return interp_coords, vals_wanted\n",
    "    else:\n",
    "        return interp_coords\n",
    "\n",
    "def interpolate_2var_setothers(ri_pd, var1, var2, set_vals=dict(), Ninterp=20):\n",
    "    interp_coords = []\n",
    "    axes = []\n",
    "    axnames = []\n",
    "    for n in ri_pd.index.names:\n",
    "        if (n == var1) or (n==var2):\n",
    "            c,a = get_interpolation_coords(ri_pd, n, Ninterp=Ninterp, return_vals_wanted=True)\n",
    "            if n == 'nu_present':\n",
    "                a = np.log10(a*5500)\n",
    "            axes.append(a)\n",
    "            axnames.append(n)\n",
    "            interp_coords.append(c)\n",
    "        elif n in set_vals:\n",
    "            v = set_vals[n]\n",
    "            interp_coords.append(get_interpolation_coords(ri_pd, n, vals_wanted=v))\n",
    "        else:\n",
    "            raise ValueError('variable name {} not in model'.format(n))\n",
    "    prod = it.product(*interp_coords, repeat=1)\n",
    "    fit_ri = []\n",
    "    for p in prod:\n",
    "        fit_ri.append(sim.map_coordinates(ri_arr, np.array([p]).T, order=1))\n",
    "    fit_ri = np.array(fit_ri)\n",
    "    fit_ri = fit_ri.reshape([len(a) for a in axes])\n",
    "    return fit_ri, axes, axnames\n",
    "    \n",
    "def plot_ri_misfit_contourf(ri_pd, var1, var2, set_vals, Ninterp=30, dpmax=50, title=None, savename=None, \n",
    "                            dalpha=0.05, star_pt=None):\n",
    "    if title is None:\n",
    "        title = 'Misfit Present Inner Core Radius'\n",
    "    clbl = '% misfit'\n",
    "    vmax = dpmax\n",
    "    vmin = -vmax\n",
    "\n",
    "    z,(x,y),(xn,yn)= interpolate_2var_setothers(ri_pd, var1,var2, set_vals=set_vals, Ninterp=30)\n",
    "    ri_a = 1220e3\n",
    "    z = (z/ri_a-1)*100\n",
    "    dv = 5\n",
    "    V = np.linspace(vmin, vmax,int((vmax-vmin)/dv+1))\n",
    "    # plt.pcolormesh(x,y,z,vmin=vmin, vmax=vmax, cmap=plt.cm.RdBu)\n",
    "    cmap = plt.cm.Spectral\n",
    "    my_cmap = cmap(np.arange(cmap.N))\n",
    "    # Set alpha\n",
    "    my_cmap[:,-1] = 1-np.abs(np.linspace(-1+dalpha, 1-dalpha, cmap.N))\n",
    "    my_cmap = ListedColormap(my_cmap)\n",
    "\n",
    "    plt.contourf(x,y,z.T,V, cmap=my_cmap, extend='both')\n",
    "    if star_pt is not None:\n",
    "        plt.plot(star_pt[0], star_pt[1], '*k', markersize=8)\n",
    "    plt.colorbar(label=clbl)\n",
    "    plt.ylabel(yn)\n",
    "    plt.xlabel(xn)\n",
    "    plt.title(title)\n",
    "    if savename is not None:\n",
    "        plt.savefig(savename)\n",
    "\n",
    "\n",
    "def plot_NxN_grid(ri_pd,vg1, vg2, vsp1, vsp2, set_vals, N=5, vg1_lims=None, vg2_lims=None):\n",
    "    ivg1 = ri_pd.index.names.index(vg1)\n",
    "    ivg2 = ri_pd.index.names.index(vg2)\n",
    "    vvg1 = ri_pd.index.levels[ivg1]\n",
    "    vvg2 = ri_pd.index.levels[ivg2]\n",
    "    if vg1_lims is None:\n",
    "        vg1_lims = (vvg1.min(), vvg1.max())\n",
    "    if vg2_lims is None:\n",
    "        vg2_lims = (vvg2.min(), vvg2.max())\n",
    "    g1 = np.linspace(vg1_lims[0], vg1_lims[1], N)\n",
    "    g2 = np.linspace(vg2_lims[0], vg2_lims[1], N)\n",
    "    plt.figure(figsize=(20,16))\n",
    "    for i in range(N):\n",
    "        for j in range(N):\n",
    "            set_vals[vg1] = g1[i]\n",
    "            set_vals[vg2] = g2[j]\n",
    "            plt.subplot(N, N, i+N*j+1)\n",
    "            if vg1 == 'nu_present':\n",
    "                val1 = np.log10(g1[i]*5500)\n",
    "            else:\n",
    "                val1 = g1[i]\n",
    "            if vg2 == 'nu_present':\n",
    "                val2 = np.log10(g2[j]*5500)\n",
    "            else:\n",
    "                val2 = g2[j]\n",
    "            title='{}={:.2f}, {}={:.2f}'.format(vg1, val1, vg2, val2)\n",
    "            plot_ri_misfit_contourf(ri_pd, vsp1, vsp2, set_vals, title=title)\n",
    "    plt.tight_layout()\n",
    "    \n",
    "def plot_VarXVar_at_setvals(ri_pd, set_vals):\n",
    "    N = len(ri_pd.index.names)\n",
    "    plt.figure(figsize=(20,16))\n",
    "    for i in range(N):\n",
    "        for j in range(i+1,N):\n",
    "            plt.subplot(N, N, i+N*j+1)\n",
    "            var1 = ri_pd.index.names[i]\n",
    "            var2 = ri_pd.index.names[j]\n",
    "            if var1 == 'nu_present':\n",
    "                star_pt = (np.log10(set_vals[var1]*5500), set_vals[var2])\n",
    "            elif var2 == 'nu_present':\n",
    "                star_pt = (set_vals[var1], np.log10(set_vals[var2]*5500))\n",
    "            else:\n",
    "                star_pt = (set_vals[var1], set_vals[var2])\n",
    "            plot_ri_misfit_contourf(ri_pd, var1, var2, set_vals, title='', star_pt=star_pt)\n",
    "    suptitle=''\n",
    "    for k in ri_pd.index.names:\n",
    "        if k == 'nu_present':\n",
    "            v = np.log10(set_vals[k]*5500)\n",
    "        else:\n",
    "            v = set_vals[k]\n",
    "        suptitle += '{} = {:.2f}\\n'.format(k,v)\n",
    "\n",
    "    plt.annotate(suptitle,\n",
    "            xy=(.6, .8), xycoords='figure fraction',\n",
    "            horizontalalignment='left', verticalalignment='top',\n",
    "            fontsize=20)\n",
    "    plt.tight_layout()"
   ]
  },
  {
   "cell_type": "code",
   "execution_count": 242,
   "metadata": {},
   "outputs": [],
   "source": [
    "# Plot giant NxN grids to visualize parameter space\n",
    "set_vals = {\n",
    "    'T_cmb0':5200, \n",
    "    'nu_present':10**20.5/5500, \n",
    "    'layer_thickness':100,\n",
    "    'deltaT0':2800,\n",
    "    'overturn':800,\n",
    "    'X_Si_0':0.02,\n",
    "    'X_Mg_0':0.02\n",
    "}\n",
    "vg1 = 'T_cmb0'\n",
    "vg2 = 'nu_present'\n",
    "vsp1 = 'X_Mg_0'\n",
    "vsp2 = 'X_Si_0'\n",
    "N = 5\n",
    "plot_NxN_grid(ri_pd, vg1, vg2, vsp1, vsp2, set_vals, vg2_lims=(10**20/5500, 10**21/5500), vg1_lims=(5000,5500))\n",
    "plt.savefig('T5000t5500vNu20t21_MgSi.png')\n",
    "plt.close()\n",
    "plot_NxN_grid(ri_pd, vg1, vg2, vsp1, vsp2, set_vals, vg2_lims=(10**20/5500, 10**21/5500), vg1_lims=(5500,6000))\n",
    "plt.savefig('T5500t6000vNu20t21_MgSi.png')\n",
    "plt.close()"
   ]
  },
  {
   "cell_type": "code",
   "execution_count": 241,
   "metadata": {},
   "outputs": [],
   "source": [
    "# plot all pairs of variables wrt each other at point in parameter space\n",
    "set_vals = {\n",
    "    'T_cmb0':5500, \n",
    "    'nu_present':10**20.75/5500, \n",
    "    'layer_thickness':100,\n",
    "    'deltaT0':2800,\n",
    "    'overturn':800,\n",
    "    'X_Si_0':0.015,\n",
    "    'X_Mg_0':0.01\n",
    "}\n",
    "plot_VarXVar_at_setvals(ri_pd, set_vals)\n",
    "plt.savefig('VarXVar.png')\n",
    "plt.close()"
   ]
  },
  {
   "cell_type": "code",
   "execution_count": null,
   "metadata": {
    "collapsed": true
   },
   "outputs": [],
   "source": [
    "# Compute a single marginal distribution. Can do this at pretty high resolution if wished \n",
    "# by setting different interpolation dimensions for the marginal distribution to be plotted and other dimensions. \n",
    "# for instance, N = 5, Nmd = 20 gives T ~ 5^5 * 20^2 ~ 1e6 iters or ~1.5min\n",
    "\n",
    "N = 5\n",
    "var1 = 'X_Mg_0'\n",
    "var2 = 'X_Si_0'\n",
    "p_cutoff = 0.05\n",
    "Nmd = 20\n",
    "\n",
    "\n",
    "mdax1, realvals1 = get_interpolation_coords(ri_pd, var1, Ninterp=Nmd, return_vals_wanted=True)\n",
    "mdax2, realvals2 = get_interpolation_coords(ri_pd, var2, Ninterp=Nmd, return_vals_wanted=True)\n",
    "marginal_dist = np.zeros((Nmd,Nmd))\n",
    "\n",
    "int_names, int_coords, int_realvals = setup_all_interpolation_axes(ri_pd, Ninterp=N)\n",
    "i1 = int_names.index(var1)\n",
    "i2 = int_names.index(var2)\n",
    "\n",
    "real_ri = 1220e3\n",
    "for x1 in range(Nmd):\n",
    "    for x2 in range(Nmd):\n",
    "        int_coords[i1] = np.array([mdax1[x1]])\n",
    "        int_realvals[i1] = np.array(realvals1[x1])\n",
    "        int_coords[i2] = np.array([mdax1[x2]])\n",
    "        int_realvals[i2] = np.array(realvals1[x2])\n",
    "\n",
    "        prod = it.product(*int_coords, repeat=1)\n",
    "        for p in prod:\n",
    "            if (sim.map_coordinates(ri_arr, np.array([p]).T, order=1)-real_ri)/real_ri < p_cutoff:\n",
    "                marginal_dist[x1,x2] += 1\n",
    "    "
   ]
  },
  {
   "cell_type": "code",
   "execution_count": 467,
   "metadata": {},
   "outputs": [
    {
     "data": {
      "text/plain": [
       "<matplotlib.text.Text at 0x1187aff98>"
      ]
     },
     "execution_count": 467,
     "metadata": {},
     "output_type": "execute_result"
    },
    {
     "data": {
      "image/png": "[encoded data removed]",
      "text/plain": [
       "<matplotlib.figure.Figure at 0x1145c05f8>"
      ]
     },
     "metadata": {},
     "output_type": "display_data"
    }
   ],
   "source": [
    "plt.pcolormesh(realvals1, realvals2, marginal_dist.T)\n",
    "plt.xlabel(var1)\n",
    "plt.ylabel(var2)\n",
    "plt.colorbar()\n",
    "plt.title('Mg vs Si marginal distribution')"
   ]
  },
  {
   "cell_type": "markdown",
   "metadata": {},
   "source": [
    "# compute all marginal distributions\n",
    "new method that requires very little memory, and does not significantly increase computation time. \n",
    "\n",
    "store only marginal distributions in memory, so never actually know full joint distribution.<br>\n",
    "This reduces memory use from 10^7 ints (N=10 bins) to 10^2*28 ~ 3x10^3 ints. \n",
    "\n",
    "Time to compute scales as N^7 (for 7 dimensions), with N=10 taking ~ 15min on macbook air. or 1.5min / 1e6 iters<br>\n",
    "N=12 should be ~45 min. Don't suggest going higher."
   ]
  },
  {
   "cell_type": "code",
   "execution_count": 459,
   "metadata": {},
   "outputs": [],
   "source": [
    "N = 4 ## takes ~45 min to run N=12 with 7 variables. Beware turning it about that. \n",
    "var1 = 'X_Mg_0'\n",
    "var2 = 'X_Si_0'\n",
    "p_cutoff = 0.05\n",
    "\n",
    "te = -time.time()\n",
    "Nvars = len(ri_pd.index.names)\n",
    "mdax1, realvals1 = get_interpolation_coords(ri_pd, var1, Ninterp=N, return_vals_wanted=True)\n",
    "mdax2, realvals2 = get_interpolation_coords(ri_pd, var2, Ninterp=N, return_vals_wanted=True)\n",
    "MDs = np.empty((Nvars,Nvars,N,N), dtype=int)\n",
    "# MDtot = np.empty((Nvars,Nvars,N,N), dtype=int)\n",
    "\n",
    "for i in range(Nvars):\n",
    "    for j in range(i+1, Nvars):\n",
    "        MDs[i,j,:,:] = 0\n",
    "#         MDtot[i,j,:,:] = 0\n",
    "KDs = np.zeros((Nvars,N), dtype=int)\n",
    "# KDtot = np.zeros((Nvars,N), dtype=int)\n",
    "\n",
    "int_names, int_coords, int_realvals = setup_all_interpolation_axes(ri_pd, Ninterp=N)\n",
    "int_inds = [range(N)]*Nvars\n",
    "int_coord_and_inds = [[(c,i) for c,i in zip(ci,ii)] for ci,ii in zip(int_coords,int_inds)]\n",
    "\n",
    "\n",
    "real_ri = 1220e3\n",
    "c_ind = it.product(*int_coord_and_inds, repeat=1)\n",
    "for c in c_ind:\n",
    "    arr = np.array(c)\n",
    "    pcoor = arr[:,0]\n",
    "    inds = np.array(arr[:,1], dtype=int)\n",
    "    # pind = it.product(*int_inds, repeat=1)\n",
    "    # prod = it.product(*int_coords, repeat=1)\n",
    "    # for p,inds in zip(prod,pind):\n",
    "#     for i in range(Nvars):\n",
    "#         KDtot[i,inds[i]]+=1\n",
    "#         for j in range(i+1, Nvars):\n",
    "#             MDtot[i,j,inds[i],inds[j]] += 1\n",
    "    if (sim.map_coordinates(ri_arr, np.array([pcoor]).T, order=1)-real_ri)/real_ri < p_cutoff:\n",
    "        for i in range(Nvars):\n",
    "            KDs[i,inds[i]]+=1\n",
    "            for j in range(i+1, Nvars):\n",
    "                MDs[i,j,inds[i],inds[j]] += 1\n",
    "te += time.time()\n",
    "# times.append(te)"
   ]
  },
  {
   "cell_type": "code",
   "execution_count": 461,
   "metadata": {},
   "outputs": [
    {
     "data": {
      "image/png": "[encoded data removed]",
      "text/plain": [
       "<matplotlib.figure.Figure at 0x117f54320>"
      ]
     },
     "metadata": {},
     "output_type": "display_data"
    }
   ],
   "source": [
    "i = 0\n",
    "j = 1\n",
    "plt.figure(figsize=(20,16))\n",
    "vmax = np.log10(np.max(MDs[0,1,:,:]))+1\n",
    "vmin = vmax-4\n",
    "V = np.linspace(vmin,vmax,21)\n",
    "for i in range(Nvars):\n",
    "    plt.subplot(Nvars,Nvars, i+i*Nvars+1)\n",
    "    plt.plot(int_realvals[i], KDtot[i])\n",
    "    plt.title(ri_pd.index.names[i])\n",
    "    plt.ylim(0,)\n",
    "    for j in range(i+1,Nvars):\n",
    "        plt.subplot(Nvars,Nvars,i+Nvars*j+1)\n",
    "        plt.pcolormesh(int_realvals[i], int_realvals[j], (MDtot[i,j]+1e-5).T, cmap=plt.cm.inferno)\n",
    "        plt.xlabel(int_names[i])\n",
    "        plt.ylabel(int_names[j])\n",
    "#         plt.colorbar()\n",
    "plt.tight_layout()\n",
    "plt.savefig('MarginalDistributions.png')"
   ]
  },
  {
   "cell_type": "code",
   "execution_count": 377,
   "metadata": {},
   "outputs": [
    {
     "data": {
      "image/png": "[encoded data removed]",
      "text/plain": [
       "<matplotlib.figure.Figure at 0x11728a828>"
      ]
     },
     "metadata": {},
     "output_type": "display_data"
    }
   ],
   "source": [
    "Nvars = 7\n",
    "combs = np.array(Ns)**Nvars\n",
    "\n",
    "# plt.plot(combs, times)\n",
    "pf = np.polyfit(combs, times, deg=1)\n",
    "Nt = np.array(range(3,21))\n",
    "yf =np.polyval(pf,Nt**Nvars)\n",
    "plt.plot(Ns, np.array(times)/60,'-o')\n",
    "plt.plot(Nt, yf/60,'--.')\n",
    "plt.ylim(0,60)\n",
    "plt.ylabel('mins')\n",
    "plt.xlim(4,20)\n",
    "plt.xlabel('resolution')\n",
    "plt.grid()"
   ]
  },
  {
   "cell_type": "code",
   "execution_count": null,
   "metadata": {
    "collapsed": true
   },
   "outputs": [],
   "source": []
  },
  {
   "cell_type": "code",
   "execution_count": null,
   "metadata": {
    "collapsed": true
   },
   "outputs": [],
   "source": []
  },
  {
   "cell_type": "code",
   "execution_count": null,
   "metadata": {
    "collapsed": true
   },
   "outputs": [],
   "source": []
  },
  {
   "cell_type": "code",
   "execution_count": null,
   "metadata": {
    "collapsed": true
   },
   "outputs": [],
   "source": []
  },
  {
   "cell_type": "code",
   "execution_count": null,
   "metadata": {
    "collapsed": true
   },
   "outputs": [],
   "source": []
  },
  {
   "cell_type": "markdown",
   "metadata": {},
   "source": [
    "# Old Code\n",
    "computes all interpolations first, then plots slices of matrix. prohibitively memory-intensive"
   ]
  },
  {
   "cell_type": "code",
   "execution_count": 6,
   "metadata": {},
   "outputs": [
    {
     "name": "stdout",
     "output_type": "stream",
     "text": [
      "7, prodsize=1.64e+04\n"
     ]
    }
   ],
   "source": [
    "Nfit = 4\n",
    "fcoords = [] # interpolated index locations of values in dataset\n",
    "fvals = [] # values in dataset \n",
    "fnames = [] # names of fit axes\n",
    "for ind in ri_pd.index.levels:\n",
    "    vals = ind.values\n",
    "    fnames.append(ind.name)\n",
    "    mi = vals.min()\n",
    "    ma = vals.max()\n",
    "    fitvals = np.linspace(mi,ma,Nfit)\n",
    "    fitcoords = np.interp(fitvals, vals, range(len(vals)))\n",
    "    fcoords.append(fitcoords)\n",
    "    fvals.append(fitvals)\n",
    "    \n",
    "# warning, if prodsize is > 10^7 it might take a LONG time\n",
    "print('{}, prodsize={:.2e}'.format(len(fcoords), Nfit**len(fcoords)))\n",
    "prod = it.product(*fcoords, repeat=1)"
   ]
  },
  {
   "cell_type": "code",
   "execution_count": 7,
   "metadata": {},
   "outputs": [],
   "source": [
    "# compute the inner core radius by interpolating between data\n",
    "fit_ri = []\n",
    "for p in prod:\n",
    "    fit_ri.append(sim.map_coordinates(ri_arr, np.array([p]).T, order=1))\n",
    "fit_ri = np.array(fit_ri)\n",
    "fit_ri = fit_ri.reshape([len(c) for c in fcoords])"
   ]
  },
  {
   "cell_type": "code",
   "execution_count": null,
   "metadata": {
    "collapsed": true
   },
   "outputs": [],
   "source": [
    "# percent misfit from real inner core radius\n",
    "real_ri = 1220e3\n",
    "ri_poff = (fit_ri-real_ri)/real_ri-1"
   ]
  },
  {
   "cell_type": "code",
   "execution_count": null,
   "metadata": {
    "collapsed": true
   },
   "outputs": [],
   "source": [
    "# names of parameters that vary\n",
    "fnames"
   ]
  },
  {
   "cell_type": "code",
   "execution_count": null,
   "metadata": {
    "collapsed": true
   },
   "outputs": [],
   "source": [
    "def plot_2ax_setothers(name1,name2, set_vals):\n",
    "    '''plot 2 vars vs each other, while keeping others constant'''\n",
    "    arr2plt = np.copy(ri_poff)\n",
    "    i = np.array(range(arr2plt.shape[0]))\n",
    "    ii,jj = np.meshgrid(i,i)\n",
    "    inds = [[]]*len(arr2plt.shape)\n",
    "    #inds = []*len(arr2plt.shape)\n",
    "    title = ''\n",
    "    for n,v in set_vals.items():\n",
    "        find = fnames.index(n)\n",
    "        ci = int(np.interp(v,fvals[find],range(Nfit)))\n",
    "        inds[find] = ci\n",
    "        if n =='nu_present':\n",
    "            title +=' {}={}'.format(n,np.log10(v*5500))\n",
    "        else:\n",
    "            title +=' {}={}'.format(n,v)\n",
    "    inds[fnames.index(name1)] = ii\n",
    "    inds[fnames.index(name2)] = jj\n",
    "#     print(arr2plt.shape)\n",
    "    arr2plt = arr2plt[tuple(inds)]\n",
    "#     print(arr2plt.shape)\n",
    "    fi1 = fnames.index(name1)\n",
    "    fi2 = fnames.index(name2)\n",
    "    if name1 == 'nu_present':\n",
    "        x = np.log10(fvals[fi1]*5500.)\n",
    "    else:\n",
    "        x = fvals[fi1]\n",
    "    if name2 == 'nu_present':\n",
    "        y = np.log10(fvals[fi2]*5500.)\n",
    "    else:\n",
    "        y = fvals[fi2]\n",
    "    plt.pcolormesh(x,y,arr2plt, vmin=-.5, vmax=.5, cmap=plt.cm.RdBu)\n",
    "    plt.colorbar(label='Ri % misfit')\n",
    "    plt.xlabel(name1)\n",
    "    plt.ylabel(name2)\n",
    "    plt.title(title)\n",
    "    "
   ]
  },
  {
   "cell_type": "code",
   "execution_count": null,
   "metadata": {
    "collapsed": true
   },
   "outputs": [],
   "source": [
    "name1 = 'T_cmb0'\n",
    "name2 = 'nu_present'\n",
    "set_vals = {'X_Mg_0':1e-5, 'X_Si_0':1e-5, 'layer_thickness':100,'deltaT0':2800,'overturn':800}\n",
    "plt.figure(figsize=(28,14))\n",
    "Xvs = [1e-5, 0.01, 0.25, 0.05]\n",
    "n = len(Xvs)\n",
    "for i in range(n):\n",
    "    for j in range(n):\n",
    "        set_vals['X_Mg_0'] = Xvs[i]\n",
    "        set_vals['X_Si_0'] = Xvs[j]\n",
    "        plt.subplot(n,n,i*n+j+1)\n",
    "        plot_2ax_setothers(name1, name2, set_vals)\n",
    "plt.tight_layout()\n",
    "plt.savefig('../computed_solutions_new/plots/TvsNu.png')\n",
    "plt.close()"
   ]
  },
  {
   "cell_type": "code",
   "execution_count": null,
   "metadata": {
    "collapsed": true
   },
   "outputs": [],
   "source": [
    "name1 = 'X_Si_0'\n",
    "name2 = 'X_Mg_0'\n",
    "set_vals = {'T_cmb0':5200, 'nu_present':10**20.5/5500, 'layer_thickness':100,'deltaT0':2800,'overturn':800}\n",
    "plt.figure(figsize=(28,16))\n",
    "Tcmbs = [5000,5100,5200,5300,5400]\n",
    "n = len(Tcmbs)\n",
    "nus = (10**np.linspace(20,21,n))/5500\n",
    "for i in range(n):\n",
    "    for j in range(n):\n",
    "        set_vals['T_cmb0'] = Tcmbs[i]\n",
    "        set_vals['nu_present'] = nus[j]\n",
    "        plt.subplot(n,n,i*n+j+1)\n",
    "        plot_2ax_setothers(name1, name2, set_vals)\n",
    "#         plt.colorbar(label=None)\n",
    "        if i==0 and j==0:\n",
    "            plt.title('Tc={},nu={}'.format(Tcmbs[i], np.log10(nus[j]*5500)))\n",
    "        elif i==0:\n",
    "            plt.title('nu={}'.format(np.log10(nus[j]*5500)))\n",
    "        elif j==0:\n",
    "            plt.title('Tc={}'.format(Tcmbs[i]))\n",
    "        else:\n",
    "            plt.title('')\n",
    "            \n",
    "        if j==0:\n",
    "            plt.ylabel('X_Mg')\n",
    "        else:\n",
    "            plt.ylabel('')\n",
    "            \n",
    "        if i==n-1:\n",
    "            plt.xlabel('X_Si')\n",
    "        else:\n",
    "            plt.xlabel('')\n",
    "plt.tight_layout()\n",
    "plt.savefig('../computed_solutions_new/plots/MgvsSi_h{:4.0f}m.png'.format(set_vals['layer_thickness']))\n",
    "plt.close()\n",
    "#############################################################\n",
    "\n",
    "name1 = 'X_Si_0'\n",
    "name2 = 'X_Mg_0'\n",
    "set_vals = {'T_cmb0':5200, 'nu_present':10**20.5/5500, 'layer_thickness':100,'deltaT0':2800,'overturn':800}\n",
    "plt.figure(figsize=(28,16))\n",
    "Tcmbs = [5500,5600,5700,5800,5900]\n",
    "n = len(Tcmbs)\n",
    "nus = (10**np.linspace(20,21,n))/5500\n",
    "for i in range(n):\n",
    "    for j in range(n):\n",
    "        set_vals['T_cmb0'] = Tcmbs[i]\n",
    "        set_vals['nu_present'] = nus[j]\n",
    "        plt.subplot(n,n,i*n+j+1)\n",
    "        plot_2ax_setothers(name1, name2, set_vals)\n",
    "#         plt.colorbar(label=None)\n",
    "        if i==0 and j==0:\n",
    "            plt.title('Tc={},nu={}'.format(Tcmbs[i], np.log10(nus[j]*5500)))\n",
    "        elif i==0:\n",
    "            plt.title('nu={}'.format(np.log10(nus[j]*5500)))\n",
    "        elif j==0:\n",
    "            plt.title('Tc={}'.format(Tcmbs[i]))\n",
    "        else:\n",
    "            plt.title('')\n",
    "            \n",
    "        if j==0:\n",
    "            plt.ylabel('X_Mg')\n",
    "        else:\n",
    "            plt.ylabel('')\n",
    "            \n",
    "        if i==n-1:\n",
    "            plt.xlabel('X_Si')\n",
    "        else:\n",
    "            plt.xlabel('')\n",
    "plt.tight_layout()\n",
    "plt.savefig('../computed_solutions_new/plots/MgvsSi2_h{:4.0f}m.png'.format(set_vals['layer_thickness']))\n",
    "plt.close()"
   ]
  },
  {
   "cell_type": "code",
   "execution_count": null,
   "metadata": {
    "collapsed": true
   },
   "outputs": [],
   "source": [
    "def plot_2ax_sumelse(a1, a2):\n",
    "    ''' plot 2 vars vs each other, with number of runs \n",
    "    within a certain % summed over other variables'''\n",
    "    sax = list(range(len(ri_close.shape)))\n",
    "    sax.remove(a1)\n",
    "    sax.remove(a2)\n",
    "    s = np.sum(ri_close, axis=tuple(sax))\n",
    "    if fnames[a1] == 'nu_present':\n",
    "        x = np.log10(fvals[a1]*5500.)\n",
    "    else:\n",
    "        x = fvals[a1]\n",
    "    if fnames[a2] == 'nu_present':\n",
    "        y = np.log10(fvals[a2]*5500.)\n",
    "    else:\n",
    "        y = fvals[a2]        \n",
    "    xx,yy = np.meshgrid(x, y)\n",
    "    plt.pcolormesh(xx,yy,s, cmap=plt.cm.jet)\n",
    "    plt.xlabel(fnames[a1])\n",
    "    plt.ylabel(fnames[a2])\n",
    "    plt.colorbar(label='# of runs')\n",
    "#     plt.title('Inner Core Radius within 10%')"
   ]
  },
  {
   "cell_type": "code",
   "execution_count": null,
   "metadata": {
    "collapsed": true
   },
   "outputs": [],
   "source": [
    "# compute the number of runs within a certain % of the real inner core size\n",
    "# at various parameters\n",
    "p_cutoff = 0.05\n",
    "for p_cutoff in [0.01, 0.05, 0.1, 0.2, 0.5]:\n",
    "    ri_close = np.zeros_like(fit_ri)\n",
    "    ri_close[np.where(np.abs(ri_poff)<p_cutoff)] = 1.\n",
    "    plt.figure(figsize=(18,14))\n",
    "    # plt.suptitle('IC R within 10%')\n",
    "    for a1 in range(5):\n",
    "        for a2 in range(a1+1,5):\n",
    "            plt.subplot(5,5,a1+a2*5+1)\n",
    "            plot_2ax_sumelse(a1,a2)\n",
    "    plt.tight_layout()\n",
    "    plt.savefig('../computed_solutions_new/plots/Ri_within{:.0f}p.png'.format(p_cutoff*100))\n",
    "    plt.close()"
   ]
  },
  {
   "cell_type": "code",
   "execution_count": null,
   "metadata": {
    "collapsed": true
   },
   "outputs": [],
   "source": []
  },
  {
   "cell_type": "code",
   "execution_count": null,
   "metadata": {
    "collapsed": true
   },
   "outputs": [],
   "source": []
  },
  {
   "cell_type": "code",
   "execution_count": null,
   "metadata": {
    "collapsed": true
   },
   "outputs": [],
   "source": []
  },
  {
   "cell_type": "code",
   "execution_count": null,
   "metadata": {
    "collapsed": true
   },
   "outputs": [],
   "source": []
  },
  {
   "cell_type": "code",
   "execution_count": null,
   "metadata": {
    "collapsed": true
   },
   "outputs": [],
   "source": []
  }
 ],
 "metadata": {
  "kernelspec": {
   "display_name": "Python 3",
   "language": "python",
   "name": "python3"
  },
  "language_info": {
   "codemirror_mode": {
    "name": "ipython",
    "version": 3
   },
   "file_extension": ".py",
   "mimetype": "text/x-python",
   "name": "python",
   "nbconvert_exporter": "python",
   "pygments_lexer": "ipython3",
   "version": "3.5.2"
  }
 },
 "nbformat": 4,
 "nbformat_minor": 2
}
