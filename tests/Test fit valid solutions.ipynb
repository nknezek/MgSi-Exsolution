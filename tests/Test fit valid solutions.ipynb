{
 "cells": [
  {
   "cell_type": "code",
   "execution_count": null,
   "metadata": {},
   "outputs": [],
   "source": [
    "import numpy as np\n",
    "import matplotlib.pyplot as plt\n",
    "%matplotlib inline\n",
    "import sys, os\n",
    "sys.path.append('../')\n",
    "import mg_si\n",
    "from imp import reload\n",
    "reload(mg_si)\n",
    "import pandas as pd\n",
    "import scipy.interpolate as sint\n",
    "import scipy.ndimage as sim\n",
    "import itertools as it"
   ]
  },
  {
   "cell_type": "code",
   "execution_count": 2,
   "metadata": {},
   "outputs": [
    {
     "data": {
      "text/plain": [
       "Index(['Time-date', 'time', 'T_cmb0', 'deltaT0', 'r_i', 'X_Mg_0', 'X_Si_0',\n",
       "       'X_O_0', 'fraction_MgFe_b', 'X_MgFeO_b', 'X_SiO2_b', 'nu_present',\n",
       "       'layer_thickness', 'overturn'],\n",
       "      dtype='object')"
      ]
     },
     "execution_count": 2,
     "metadata": {},
     "output_type": "execute_result"
    }
   ],
   "source": [
    "df = pd.read_csv('../computed_solutions_new/run_data.csv')\n",
    "df.columns"
   ]
  },
  {
   "cell_type": "code",
   "execution_count": 3,
   "metadata": {},
   "outputs": [],
   "source": [
    "# Choose which columns to compute variations over\n",
    "cols_to_ind = ['T_cmb0', 'deltaT0', 'X_Mg_0', 'X_Si_0',\n",
    "       'X_O_0', 'fraction_MgFe_b', 'X_MgFeO_b', 'X_SiO2_b', 'nu_present',\n",
    "       'layer_thickness', 'overturn']\n",
    "\n",
    "# convert dataframe to multiindex\n",
    "ri_pd = df.set_index(cols_to_ind)\n",
    "\n",
    "# drop any column which only has one value in the dataset\n",
    "for i,l in enumerate(ri_pd.index.levels):\n",
    "    if len(l) ==1:\n",
    "        ri_pd.index = ri_pd.index.droplevel(l.name)\n",
    "\n",
    "# drop the time and date column\n",
    "ri_pd.drop(['time','Time-date'], axis=1, inplace=True)\n",
    "\n",
    "# convert the pandas dataframe into a numpy nd-array\n",
    "shape = list(map(len,ri_pd.index.levels))\n",
    "ri_arr = np.full(shape, np.nan)\n",
    "ri_arr[ri_pd.index.labels] = ri_pd.values.flat"
   ]
  },
  {
   "cell_type": "markdown",
   "metadata": {},
   "source": [
    "# Interpolate "
   ]
  },
  {
   "cell_type": "code",
   "execution_count": 4,
   "metadata": {},
   "outputs": [
    {
     "name": "stdout",
     "output_type": "stream",
     "text": [
      "7, prodsize=1.71e+08\n"
     ]
    }
   ],
   "source": [
    "Nfit = 15\n",
    "fcoords = [] # interpolated index locations of values in dataset\n",
    "fvals = [] # values in dataset \n",
    "fnames = [] # names of fit axes\n",
    "for ind in ri_pd.index.levels:\n",
    "    vals = ind.values\n",
    "    fnames.append(ind.name)\n",
    "    mi = vals.min()\n",
    "    ma = vals.max()\n",
    "    fitvals = np.linspace(mi,ma,Nfit)\n",
    "    fitcoords = np.interp(fitvals, vals, range(len(vals)))\n",
    "    fcoords.append(fitcoords)\n",
    "    fvals.append(fitvals)\n",
    "    \n",
    "# warning, if prodsize is > 10^7 it might take a LONG time\n",
    "print('{}, prodsize={:.2e}'.format(len(fcoords), Nfit**len(fcoords)))\n",
    "prod = it.product(*fcoords, repeat=1)"
   ]
  },
  {
   "cell_type": "code",
   "execution_count": null,
   "metadata": {},
   "outputs": [],
   "source": [
    "# compute the inner core radius by interpolating between data\n",
    "fit_ri = []\n",
    "for p in prod:\n",
    "    fit_ri.append(sim.map_coordinates(ri_arr, np.array([p]).T, order=1))\n",
    "fit_ri = np.array(fit_ri)\n",
    "fit_ri = fit_ri.reshape([len(c) for c in fcoords])"
   ]
  },
  {
   "cell_type": "code",
   "execution_count": null,
   "metadata": {},
   "outputs": [],
   "source": [
    "# percent misfit from real inner core radius\n",
    "real_ri = 1220e3\n",
    "ri_poff = (fit_ri-real_ri)/real_ri-1"
   ]
  },
  {
   "cell_type": "code",
   "execution_count": null,
   "metadata": {},
   "outputs": [],
   "source": [
    "# names of parameters that vary\n",
    "fnames"
   ]
  },
  {
   "cell_type": "code",
   "execution_count": null,
   "metadata": {},
   "outputs": [],
   "source": [
    "def plot_2ax_setothers(name1,name2, set_vals):\n",
    "    '''plot 2 vars vs each other, while keeping others constant'''\n",
    "    arr2plt = np.copy(ri_poff)\n",
    "    i = np.array(range(arr2plt.shape[0]))\n",
    "    ii,jj = np.meshgrid(i,i)\n",
    "    inds = [[]]*len(arr2plt.shape)\n",
    "    #inds = []*len(arr2plt.shape)\n",
    "    title = ''\n",
    "    for n,v in set_vals.items():\n",
    "        find = fnames.index(n)\n",
    "        ci = int(np.interp(v,fvals[find],range(Nfit)))\n",
    "        inds[find] = ci\n",
    "        if n =='nu_present':\n",
    "            title +=' {}={}'.format(n,np.log10(v*5500))\n",
    "        else:\n",
    "            title +=' {}={}'.format(n,v)\n",
    "    inds[fnames.index(name1)] = ii\n",
    "    inds[fnames.index(name2)] = jj\n",
    "#     print(arr2plt.shape)\n",
    "    arr2plt = arr2plt[tuple(inds)]\n",
    "#     print(arr2plt.shape)\n",
    "    fi1 = fnames.index(name1)\n",
    "    fi2 = fnames.index(name2)\n",
    "    if name1 == 'nu_present':\n",
    "        x = np.log10(fvals[fi1]*5500.)\n",
    "    else:\n",
    "        x = fvals[fi1]\n",
    "    if name2 == 'nu_present':\n",
    "        y = np.log10(fvals[fi2]*5500.)\n",
    "    else:\n",
    "        y = fvals[fi2]\n",
    "    plt.pcolormesh(x,y,arr2plt, vmin=-.5, vmax=.5, cmap=plt.cm.RdBu)\n",
    "    plt.colorbar(label='Ri % misfit')\n",
    "    plt.xlabel(name1)\n",
    "    plt.ylabel(name2)\n",
    "    plt.title(title)\n",
    "    "
   ]
  },
  {
   "cell_type": "code",
   "execution_count": null,
   "metadata": {},
   "outputs": [],
   "source": [
    "name1 = 'T_cmb0'\n",
    "name2 = 'nu_present'\n",
    "set_vals = {'X_Mg_0':1e-5, 'X_Si_0':1e-5, 'layer_thickness':100,'deltaT0':2800,'overturn':800}\n",
    "plt.figure(figsize=(28,14))\n",
    "Xvs = [1e-5, 0.01, 0.25, 0.05]\n",
    "n = len(Xvs)\n",
    "for i in range(n):\n",
    "    for j in range(n):\n",
    "        set_vals['X_Mg_0'] = Xvs[i]\n",
    "        set_vals['X_Si_0'] = Xvs[j]\n",
    "        plt.subplot(n,n,i*n+j+1)\n",
    "        plot_2ax_setothers(name1, name2, set_vals)\n",
    "plt.tight_layout()\n",
    "plt.savefig('../computed_solutions_new/plots/TvsNu.png')\n",
    "plt.close()"
   ]
  },
  {
   "cell_type": "code",
   "execution_count": null,
   "metadata": {},
   "outputs": [],
   "source": [
    "name1 = 'X_Si_0'\n",
    "name2 = 'X_Mg_0'\n",
    "set_vals = {'T_cmb0':5200, 'nu_present':10**20.5/5500, 'layer_thickness':100,'deltaT0':2800,'overturn':800}\n",
    "plt.figure(figsize=(28,16))\n",
    "Tcmbs = [5000,5100,5200,5300,5400]\n",
    "n = len(Tcmbs)\n",
    "nus = (10**np.linspace(20,21,n))/5500\n",
    "for i in range(n):\n",
    "    for j in range(n):\n",
    "        set_vals['T_cmb0'] = Tcmbs[i]\n",
    "        set_vals['nu_present'] = nus[j]\n",
    "        plt.subplot(n,n,i*n+j+1)\n",
    "        plot_2ax_setothers(name1, name2, set_vals)\n",
    "#         plt.colorbar(label=None)\n",
    "        if i==0 and j==0:\n",
    "            plt.title('Tc={},nu={}'.format(Tcmbs[i], np.log10(nus[j]*5500)))\n",
    "        elif i==0:\n",
    "            plt.title('nu={}'.format(np.log10(nus[j]*5500)))\n",
    "        elif j==0:\n",
    "            plt.title('Tc={}'.format(Tcmbs[i]))\n",
    "        else:\n",
    "            plt.title('')\n",
    "            \n",
    "        if j==0:\n",
    "            plt.ylabel('X_Mg')\n",
    "        else:\n",
    "            plt.ylabel('')\n",
    "            \n",
    "        if i==n-1:\n",
    "            plt.xlabel('X_Si')\n",
    "        else:\n",
    "            plt.xlabel('')\n",
    "plt.tight_layout()\n",
    "plt.savefig('../computed_solutions_new/plots/MgvsSi_h{:4.0f}m.png'.format(set_vals['layer_thickness']))\n",
    "plt.close()\n",
    "#############################################################\n",
    "\n",
    "name1 = 'X_Si_0'\n",
    "name2 = 'X_Mg_0'\n",
    "set_vals = {'T_cmb0':5200, 'nu_present':10**20.5/5500, 'layer_thickness':100,'deltaT0':2800,'overturn':800}\n",
    "plt.figure(figsize=(28,16))\n",
    "Tcmbs = [5500,5600,5700,5800,5900]\n",
    "n = len(Tcmbs)\n",
    "nus = (10**np.linspace(20,21,n))/5500\n",
    "for i in range(n):\n",
    "    for j in range(n):\n",
    "        set_vals['T_cmb0'] = Tcmbs[i]\n",
    "        set_vals['nu_present'] = nus[j]\n",
    "        plt.subplot(n,n,i*n+j+1)\n",
    "        plot_2ax_setothers(name1, name2, set_vals)\n",
    "#         plt.colorbar(label=None)\n",
    "        if i==0 and j==0:\n",
    "            plt.title('Tc={},nu={}'.format(Tcmbs[i], np.log10(nus[j]*5500)))\n",
    "        elif i==0:\n",
    "            plt.title('nu={}'.format(np.log10(nus[j]*5500)))\n",
    "        elif j==0:\n",
    "            plt.title('Tc={}'.format(Tcmbs[i]))\n",
    "        else:\n",
    "            plt.title('')\n",
    "            \n",
    "        if j==0:\n",
    "            plt.ylabel('X_Mg')\n",
    "        else:\n",
    "            plt.ylabel('')\n",
    "            \n",
    "        if i==n-1:\n",
    "            plt.xlabel('X_Si')\n",
    "        else:\n",
    "            plt.xlabel('')\n",
    "plt.tight_layout()\n",
    "plt.savefig('../computed_solutions_new/plots/MgvsSi2_h{:4.0f}m.png'.format(set_vals['layer_thickness']))\n",
    "plt.close()"
   ]
  },
  {
   "cell_type": "code",
   "execution_count": null,
   "metadata": {},
   "outputs": [],
   "source": [
    "def plot_2ax_sumelse(a1, a2):\n",
    "    ''' plot 2 vars vs each other, with number of runs \n",
    "    within a certain % summed over other variables'''\n",
    "    sax = list(range(len(ri_close.shape)))\n",
    "    sax.remove(a1)\n",
    "    sax.remove(a2)\n",
    "    s = np.sum(ri_close, axis=tuple(sax))\n",
    "    if fnames[a1] == 'nu_present':\n",
    "        x = np.log10(fvals[a1]*5500.)\n",
    "    else:\n",
    "        x = fvals[a1]\n",
    "    if fnames[a2] == 'nu_present':\n",
    "        y = np.log10(fvals[a2]*5500.)\n",
    "    else:\n",
    "        y = fvals[a2]        \n",
    "    xx,yy = np.meshgrid(x, y)\n",
    "    plt.pcolormesh(xx,yy,s, cmap=plt.cm.jet)\n",
    "    plt.xlabel(fnames[a1])\n",
    "    plt.ylabel(fnames[a2])\n",
    "    plt.colorbar(label='# of runs')\n",
    "#     plt.title('Inner Core Radius within 10%')"
   ]
  },
  {
   "cell_type": "code",
   "execution_count": null,
   "metadata": {},
   "outputs": [],
   "source": [
    "# compute the number of runs within a certain % of the real inner core size\n",
    "# at various parameters\n",
    "p_cutoff = 0.05\n",
    "for p_cutoff in [0.01, 0.05, 0.1, 0.2, 0.5]:\n",
    "    ri_close = np.zeros_like(fit_ri)\n",
    "    ri_close[np.where(np.abs(ri_poff)<p_cutoff)] = 1.\n",
    "    plt.figure(figsize=(18,14))\n",
    "    # plt.suptitle('IC R within 10%')\n",
    "    for a1 in range(5):\n",
    "        for a2 in range(a1+1,5):\n",
    "            plt.subplot(5,5,a1+a2*5+1)\n",
    "            plot_2ax_sumelse(a1,a2)\n",
    "    plt.tight_layout()\n",
    "    plt.savefig('../computed_solutions_new/plots/Ri_within{:.0f}p.png'.format(p_cutoff*100))\n",
    "    plt.close()"
   ]
  },
  {
   "cell_type": "code",
   "execution_count": null,
   "metadata": {},
   "outputs": [],
   "source": []
  },
  {
   "cell_type": "code",
   "execution_count": null,
   "metadata": {},
   "outputs": [],
   "source": []
  },
  {
   "cell_type": "code",
   "execution_count": null,
   "metadata": {},
   "outputs": [],
   "source": []
  },
  {
   "cell_type": "code",
   "execution_count": null,
   "metadata": {},
   "outputs": [],
   "source": []
  },
  {
   "cell_type": "code",
   "execution_count": null,
   "metadata": {},
   "outputs": [],
   "source": []
  }
 ],
 "metadata": {
  "kernelspec": {
   "display_name": "Python 3",
   "language": "python",
   "name": "python3"
  },
  "language_info": {
   "codemirror_mode": {
    "name": "ipython",
    "version": 3
   },
   "file_extension": ".py",
   "mimetype": "text/x-python",
   "name": "python",
   "nbconvert_exporter": "python",
   "pygments_lexer": "ipython3",
   "version": "3.6.3"
  }
 },
 "nbformat": 4,
 "nbformat_minor": 2
}
