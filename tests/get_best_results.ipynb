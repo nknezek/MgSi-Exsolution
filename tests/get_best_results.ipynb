{
 "cells": [
  {
   "cell_type": "code",
   "execution_count": 9,
   "metadata": {
    "collapsed": true
   },
   "outputs": [],
   "source": [
    "import pandas as pd\n",
    "import os"
   ]
  },
  {
   "cell_type": "code",
   "execution_count": null,
   "metadata": {
    "collapsed": true
   },
   "outputs": [],
   "source": [
    "def change_in_core_wt(pl,t,solution):\n",
    "    wt0 = np.sum(pl.reactions.core.M2wt(solution[0,2:6]))\n",
    "    wte = np.sum(pl.reactions.core.M2wt(solution[-1,2:6]))\n",
    "    return (wte-wt0)/wt0    "
   ]
  },
  {
   "cell_type": "code",
   "execution_count": null,
   "metadata": {
    "collapsed": true
   },
   "outputs": [],
   "source": [
    "names = np.array(['time', 'T_cmb0', 'T_um0', 'r_i', 'wpms','wpss','wpos', 'fraction_MgFe_b', 'X_MgFeO_b','X_SiO2_b', 'nu_present','layer_thickness','overturn','X_Mg_0', 'X_Si_0', 'X_O_0'])\n",
    "data = pd.read_csv('run_data_200.csv', names = names)\n",
    "data['ratio_ri'] = data['r_i']/1290./1e3\n",
    "\n",
    "tmp1 = np.where(( data['ratio_ri'] <1.1) & ( data['ratio_ri'] > 0.9)) \n",
    "\n",
    "fraction_MgFe_b = 0.8\n",
    "X_MgFeO_b = 0.16\n",
    "X_SiO2_b = 0.01\n",
    "tofile = './valid_results/'\n",
    "for i in range(0,tmp1[0].shape[0]):\n",
    "    T_cmb0,wpms,wpss,wpos, fraction_MgFe_b, X_MgFeO_b, X_SiO2_b, nu_present,layer_thickness,overturn = data.loc[tmp1[0][i],['T_cmb0', 'wpms', 'wpss', 'wpos', 'fraction_MgFe_b','X_MgFeO_b','X_SiO2_b','nu_present','layer_thickness','overturn']]\n",
    "    foldername = \"./Tc{Tc:d}_WtMg{wtmg:.3f}_WtSi{wtsi:.3f}_WtO{wto:.3f}_fMb{fmb:.2f}_Xmb{xmb:.2f}_XSb{xsb:.2f}_nu{nu:.2e}_lthck{lthck:.0e}_ovt{ovt:.0e}\".format(Tc=T_cmb0, wtmg=wpms,wtsi=wpss,wto=wpos, fmb=fraction_MgFe_b, xmb=X_MgFeO_b, xsb=X_SiO2_b, nu=nu_present,lthck=layer_thickness,ovt=overturn)\n",
    "    print(foldername)\n",
    "#     os.system('cp -r {fr} {to}'.format(fr=foldername, to=tofile))"
   ]
  }
 ],
 "metadata": {
  "kernelspec": {
   "display_name": "Python 3",
   "language": "python",
   "name": "python3"
  },
  "language_info": {
   "codemirror_mode": {
    "name": "ipython",
    "version": 3
   },
   "file_extension": ".py",
   "mimetype": "text/x-python",
   "name": "python",
   "nbconvert_exporter": "python",
   "pygments_lexer": "ipython3",
   "version": "3.5.2"
  }
 },
 "nbformat": 4,
 "nbformat_minor": 2
}
