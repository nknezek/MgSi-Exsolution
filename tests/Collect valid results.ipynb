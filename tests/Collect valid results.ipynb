{
 "cells": [
  {
   "cell_type": "code",
   "execution_count": 8,
   "metadata": {},
   "outputs": [],
   "source": [
    "import numpy as np\n",
    "import csv\n",
    "import os\n",
    "import pandas as pd"
   ]
  },
  {
   "cell_type": "code",
   "execution_count": 6,
   "metadata": {},
   "outputs": [],
   "source": [
    "datadir = '../computed_solutions_nature/'\n",
    "alldata = csv.writer(open(datadir+'all_data.csv','w'))\n",
    "validdata = csv.writer(open(datadir+'validdata.csv','w'))"
   ]
  },
  {
   "cell_type": "code",
   "execution_count": 7,
   "metadata": {},
   "outputs": [],
   "source": [
    "percent_ric = 0.05\n",
    "# row = reader.__next__()\n",
    "tofile = './valid_results/'\n",
    "for i in [0,1,2,3,4]:\n",
    "    reader = csv.reader(open(datadir+'run_data{}.csv'.format(i),'r'))\n",
    "\n",
    "    for row in reader:\n",
    "        alldata.writerow(row)\n",
    "        if np.abs(float(row[1])/1220e3-1) < percent_ric:\n",
    "            validdata.writerow(row)\n",
    "            foldername = \"./Tc{:.1f}_XM{:.3f}_XS{:.3f}_XO{:.3f}/\".format(float(row[2]), float(row[3]), float(row[4]), float(row[5]))\n",
    "            os.system('cp {fr} {to}'.format(fr=foldername, to=tofile))"
   ]
  },
  {
   "cell_type": "code",
   "execution_count": 15,
   "metadata": {},
   "outputs": [],
   "source": [
    "dfall = pd.read_csv('../computed_solutions_nature/all_data.csv', names=['time', 'r_i', 'T_cmb0', 'X_Mg_0', 'X_Si_0', 'X_O_0', 'MgNumFp', 'MgNumPv', 'X_MgFeO_b', 'X_SiO2_b', 'nu_present', 'deltaT0', 'layer_thickness', 'overturn'])"
   ]
  },
  {
   "cell_type": "code",
   "execution_count": 19,
   "metadata": {},
   "outputs": [
    {
     "data": {
      "text/plain": [
       "array([4800., 5100., 5400., 5700., 6000.])"
      ]
     },
     "execution_count": 19,
     "metadata": {},
     "output_type": "execute_result"
    }
   ],
   "source": [
    "dfall['T_cmb0'].unique()"
   ]
  },
  {
   "cell_type": "code",
   "execution_count": null,
   "metadata": {},
   "outputs": [],
   "source": []
  }
 ],
 "metadata": {
  "kernelspec": {
   "display_name": "Python 3",
   "language": "python",
   "name": "python3"
  },
  "language_info": {
   "codemirror_mode": {
    "name": "ipython",
    "version": 3
   },
   "file_extension": ".py",
   "mimetype": "text/x-python",
   "name": "python",
   "nbconvert_exporter": "python",
   "pygments_lexer": "ipython3",
   "version": "3.6.5"
  }
 },
 "nbformat": 4,
 "nbformat_minor": 2
}
