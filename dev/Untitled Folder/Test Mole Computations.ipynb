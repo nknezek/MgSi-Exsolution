{
 "cells": [
  {
   "cell_type": "code",
   "execution_count": 142,
   "metadata": {},
   "outputs": [],
   "source": [
    "import solubility_library as sol\n",
    "from imp import reload\n",
    "reload(sol)\n",
    "import numpy as np"
   ]
  },
  {
   "cell_type": "code",
   "execution_count": 143,
   "metadata": {},
   "outputs": [],
   "source": [
    "c = solubility_library.Core_MgSi()"
   ]
  },
  {
   "cell_type": "code",
   "execution_count": 171,
   "metadata": {},
   "outputs": [
    {
     "name": "stdout",
     "output_type": "stream",
     "text": [
      "['Mg', 'Si', 'O', 'Fe']\n",
      "[ 0.0411438   0.07121112  0.18750703  0.07162682] 0.371488776509\n",
      "[ 0.11075381  0.19169118  0.50474481  0.1928102 ] 1.0\n",
      "[ 1.  2.  3.  4.] 10.0\n",
      "[ 0.1  0.2  0.3  0.4] 1.0\n"
     ]
    }
   ],
   "source": [
    "wt0 = np.array([1,2,3,4])\n",
    "M = c.wt2M(wt0)\n",
    "M_tot = np.sum(M)\n",
    "X = c.M2X(M)\n",
    "wt = c.M2wt(M)\n",
    "wtp = c.M2wtp(M)\n",
    "print(c.species)\n",
    "print(M, np.sum(M))\n",
    "print(X, np.sum(X))\n",
    "print(wt, np.sum(wt))\n",
    "print(wtp, np.sum(wtp))"
   ]
  },
  {
   "cell_type": "code",
   "execution_count": 172,
   "metadata": {},
   "outputs": [
    {
     "name": "stdout",
     "output_type": "stream",
     "text": [
      "['Mg', 'Si', 'O', 'Fe']\n",
      "[ 0.0411438   0.07121112  0.18750703  0.07162682] 0.371488776509\n",
      "[ 0.11075381  0.19169118  0.50474481  0.1928102 ] 1.0\n",
      "[ 1.  2.  3.  4.] 10.0\n",
      "[ 0.1  0.2  0.3  0.4] 1.0\n"
     ]
    }
   ],
   "source": [
    "M_tot = np.sum(M)\n",
    "M = c.X2M(X, M_tot=M_tot)\n",
    "wt = c.X2wt(X, M_tot=M_tot)\n",
    "wt_tot = np.sum(wt)\n",
    "wtp = c.X2wtp(X)\n",
    "print(c.species)\n",
    "print(M, np.sum(M))\n",
    "print(X, np.sum(X))\n",
    "print(wt, np.sum(wt))\n",
    "print(wtp, np.sum(wtp))"
   ]
  },
  {
   "cell_type": "code",
   "execution_count": 173,
   "metadata": {},
   "outputs": [
    {
     "name": "stdout",
     "output_type": "stream",
     "text": [
      "['Mg', 'Si', 'O', 'Fe']\n",
      "[ 0.0411438   0.07121112  0.18750703  0.07162682] 0.371488776509\n",
      "[ 0.11075381  0.19169118  0.50474481  0.1928102 ] 1.0\n",
      "[ 1.  2.  3.  4.] 10.0\n",
      "[ 0.1  0.2  0.3  0.4] 1.0\n"
     ]
    }
   ],
   "source": [
    "M_tot = np.sum(M)\n",
    "M = c.X2M(X, wt_tot=wt_tot)\n",
    "wt = c.X2wt(X, wt_tot=wt_tot)\n",
    "wtp = c.X2wtp(X)\n",
    "print(c.species)\n",
    "print(M, np.sum(M))\n",
    "print(X, np.sum(X))\n",
    "print(wt, np.sum(wt))\n",
    "print(wtp, np.sum(wtp))"
   ]
  },
  {
   "cell_type": "code",
   "execution_count": 174,
   "metadata": {},
   "outputs": [
    {
     "name": "stdout",
     "output_type": "stream",
     "text": [
      "['Mg', 'Si', 'O', 'Fe']\n",
      "[ 0.0411438   0.07121112  0.18750703  0.07162682] 0.371488776509\n",
      "[ 0.11075381  0.19169118  0.50474481  0.1928102 ] 1.0\n",
      "[ 1.  2.  3.  4.] 10.0\n",
      "[ 0.1  0.2  0.3  0.4] 1.0\n"
     ]
    }
   ],
   "source": [
    "M = c.wt2M(wt)\n",
    "X = c.wt2X(wt)\n",
    "wtp = c.wt2wtp(wt)\n",
    "print(c.species)\n",
    "print(M, np.sum(M))\n",
    "print(X, np.sum(X))\n",
    "print(wt, np.sum(wt))\n",
    "print(wtp, np.sum(wtp))"
   ]
  },
  {
   "cell_type": "code",
   "execution_count": 175,
   "metadata": {},
   "outputs": [
    {
     "name": "stdout",
     "output_type": "stream",
     "text": [
      "['Mg', 'Si', 'O', 'Fe']\n",
      "[ 0.0411438   0.07121112  0.18750703  0.07162682] 0.371488776509\n",
      "[ 0.11075381  0.19169118  0.50474481  0.1928102 ] 1.0\n",
      "[ 1.  2.  3.  4.] 10.0\n",
      "[ 0.1  0.2  0.3  0.4] 1.0\n"
     ]
    }
   ],
   "source": [
    "wt_tot = np.sum(wt)\n",
    "M = c.wtp2M(wtp, wt_tot=wt_tot)\n",
    "X = c.wtp2X(wtp)\n",
    "wt = c.wtp2wt(wtp, wt_tot=wt_tot)\n",
    "print(c.species)\n",
    "print(M, np.sum(M))\n",
    "print(X, np.sum(X))\n",
    "print(wt, np.sum(wt))\n",
    "print(wtp, np.sum(wtp))"
   ]
  },
  {
   "cell_type": "code",
   "execution_count": 176,
   "metadata": {},
   "outputs": [
    {
     "name": "stdout",
     "output_type": "stream",
     "text": [
      "['Mg', 'Si', 'O', 'Fe']\n",
      "[ 0.0411438   0.07121112  0.18750703  0.07162682] 0.371488776509\n",
      "[ 0.11075381  0.19169118  0.50474481  0.1928102 ] 1.0\n",
      "[ 1.  2.  3.  4.] 10.0\n",
      "[ 0.1  0.2  0.3  0.4] 1.0\n"
     ]
    }
   ],
   "source": [
    "wt_tot = np.sum(wt)\n",
    "M = c.wtp2M(wtp, M_tot=M_tot)\n",
    "X = c.wtp2X(wtp)\n",
    "wt = c.wtp2wt(wtp, M_tot=M_tot)\n",
    "print(c.species)\n",
    "print(M, np.sum(M))\n",
    "print(X, np.sum(X))\n",
    "print(wt, np.sum(wt))\n",
    "print(wtp, np.sum(wtp))"
   ]
  },
  {
   "cell_type": "markdown",
   "metadata": {},
   "source": [
    "# Mantle"
   ]
  },
  {
   "cell_type": "code",
   "execution_count": 77,
   "metadata": {
    "collapsed": true
   },
   "outputs": [],
   "source": [
    "m = solubility_library.Mantle_MgSi()"
   ]
  },
  {
   "cell_type": "code",
   "execution_count": 78,
   "metadata": {},
   "outputs": [
    {
     "name": "stdout",
     "output_type": "stream",
     "text": [
      "['MgO', 'FeO', 'SiO2', 'MgSiO3', 'FeSiO3']\n",
      "[1 1 1 1 1] 5\n",
      "[ 0.2  0.2  0.2  0.2  0.2] 1.0\n",
      "[  40.3044   71.8444   60.0843  100.3887  131.9287] 404.5505\n",
      "[ 0.09962761  0.17759068  0.14852114  0.24814875  0.32611182] 1.0\n"
     ]
    }
   ],
   "source": [
    "# wt0 = np.array([1,1,1,1,1])\n",
    "# M = m.wt2M(wt0)\n",
    "M = np.array([1,1,1,1,1])\n",
    "X = m.M2X(M)\n",
    "wt = m.M2wt(M)\n",
    "wtp = m.M2wtp(M)\n",
    "print(m.species)\n",
    "print(M, np.sum(M))\n",
    "print(X, np.sum(X))\n",
    "print(wt, np.sum(wt))\n",
    "print(wtp, np.sum(wtp))"
   ]
  },
  {
   "cell_type": "code",
   "execution_count": 79,
   "metadata": {},
   "outputs": [
    {
     "name": "stdout",
     "output_type": "stream",
     "text": [
      "['MgO', 'FeO', 'SiO2', 'MgSiO3', 'FeSiO3']\n",
      "[ 1.  1.  1.  1.  1.] 5.0\n",
      "[ 0.2  0.2  0.2  0.2  0.2] 1.0\n",
      "[  40.3044   71.8444   60.0843  100.3887  131.9287] 404.5505\n",
      "[ 0.09962761  0.17759068  0.14852114  0.24814875  0.32611182] 1.0\n"
     ]
    }
   ],
   "source": [
    "M_tot = np.sum(M)\n",
    "M = m.X2M(X,M_tot)\n",
    "wt = m.X2wt(X,M_tot)\n",
    "wtp = m.X2wtp(X,M_tot)\n",
    "print(m.species)\n",
    "print(M, np.sum(M))\n",
    "print(X, np.sum(X))\n",
    "print(wt, np.sum(wt))\n",
    "print(wtp, np.sum(wtp))"
   ]
  },
  {
   "cell_type": "code",
   "execution_count": 80,
   "metadata": {},
   "outputs": [
    {
     "name": "stdout",
     "output_type": "stream",
     "text": [
      "['MgO', 'FeO', 'SiO2', 'MgSiO3', 'FeSiO3']\n",
      "[ 1.  1.  1.  1.  1.] 5.0\n",
      "[ 0.2  0.2  0.2  0.2  0.2] 1.0\n",
      "[  40.3044   71.8444   60.0843  100.3887  131.9287] 404.5505\n",
      "[ 0.09962761  0.17759068  0.14852114  0.24814875  0.32611182] 1.0\n"
     ]
    }
   ],
   "source": [
    "M = m.wt2M(wt)\n",
    "X = m.wt2X(wt)\n",
    "wtp = m.wt2wtp(wt)\n",
    "print(m.species)\n",
    "print(M, np.sum(M))\n",
    "print(X, np.sum(X))\n",
    "print(wt, np.sum(wt))\n",
    "print(wtp, np.sum(wtp))"
   ]
  },
  {
   "cell_type": "code",
   "execution_count": 81,
   "metadata": {},
   "outputs": [
    {
     "name": "stdout",
     "output_type": "stream",
     "text": [
      "['MgO', 'FeO', 'SiO2', 'MgSiO3', 'FeSiO3']\n",
      "[ 1.  1.  1.  1.  1.] 5.0\n",
      "[ 0.2  0.2  0.2  0.2  0.2] 1.0\n",
      "[  40.3044   71.8444   60.0843  100.3887  131.9287] 404.5505\n",
      "[ 0.09962761  0.17759068  0.14852114  0.24814875  0.32611182] 1.0\n"
     ]
    }
   ],
   "source": [
    "wt_tot = np.sum(wt)\n",
    "M = m.wtp2M(wtp, wt_tot)\n",
    "X = m.wtp2X(wtp, wt_tot)\n",
    "wt = m.wtp2wt(wtp, wt_tot)\n",
    "print(m.species)\n",
    "print(M, np.sum(M))\n",
    "print(X, np.sum(X))\n",
    "print(wt, np.sum(wt))\n",
    "print(wtp, np.sum(wtp))"
   ]
  },
  {
   "cell_type": "code",
   "execution_count": null,
   "metadata": {
    "collapsed": true
   },
   "outputs": [],
   "source": []
  }
 ],
 "metadata": {
  "kernelspec": {
   "display_name": "Python 3",
   "language": "python",
   "name": "python3"
  },
  "language_info": {
   "codemirror_mode": {
    "name": "ipython",
    "version": 3
   },
   "file_extension": ".py",
   "mimetype": "text/x-python",
   "name": "python",
   "nbconvert_exporter": "python",
   "pygments_lexer": "ipython3",
   "version": "3.5.2"
  }
 },
 "nbformat": 4,
 "nbformat_minor": 2
}
