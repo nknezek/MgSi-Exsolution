{
 "cells": [
  {
   "cell_type": "code",
   "execution_count": 1,
   "metadata": {
    "collapsed": true
   },
   "outputs": [],
   "source": [
    "import numpy as np\n",
    "import sympy as sym\n",
    "from sympy.abc import x,y,z,a,b,c"
   ]
  },
  {
   "cell_type": "markdown",
   "metadata": {},
   "source": [
    "# Toy Problem"
   ]
  },
  {
   "cell_type": "code",
   "execution_count": 16,
   "metadata": {},
   "outputs": [
    {
     "name": "stdout",
     "output_type": "stream",
     "text": [
      "42\n"
     ]
    },
    {
     "data": {
      "text/plain": [
       "a*(b*c*x*y*z + b*c*x*y + b*c*x*z + 3*b*x*y + b*x*z + c*x*y*z + 5*c*x*y + c*x*z + 3*x*y*z + x*z)/(b*c*x*y*z)"
      ]
     },
     "execution_count": 16,
     "metadata": {},
     "output_type": "execute_result"
    }
   ],
   "source": [
    "expression = a*(2*x*y*z + 3*x*y*b + x*y*b*c + 5*x*y*c + x*z + x*z*b*c + x*z*b + x*z*c + x*y*z + x*y*z*b*c + x*y*z*c)/(x*y*z*b*c)\n",
    "print(sym.count_ops(expression))\n",
    "expression"
   ]
  },
  {
   "cell_type": "code",
   "execution_count": 5,
   "metadata": {},
   "outputs": [
    {
     "name": "stdout",
     "output_type": "stream",
     "text": [
      "46\n"
     ]
    },
    {
     "data": {
      "text/plain": [
       "a*b*c*x*y*z + a*b*c*x*y + a*b*c*x*z + 3*a*b*x*y + a*b*x*z + a*c*x*y*z + 5*a*c*x*y + a*c*x*z + 3*a*x*y*z + a*x*z"
      ]
     },
     "execution_count": 5,
     "metadata": {},
     "output_type": "execute_result"
    }
   ],
   "source": [
    "exp_expand = sym.expand(expression)\n",
    "print(sym.count_ops(exp_expand))\n",
    "expression = exp_expand\n",
    "exp_expand"
   ]
  },
  {
   "cell_type": "code",
   "execution_count": 6,
   "metadata": {},
   "outputs": [
    {
     "data": {
      "text/plain": [
       "18"
      ]
     },
     "execution_count": 6,
     "metadata": {},
     "output_type": "execute_result"
    }
   ],
   "source": [
    "exp_handsimp = a*x*(y*(c*(b + 5) + 3*b) + z*(c*(b*y + b + y + 1) + b + 3*y + 1))\n",
    "# exp_handsimp = a*x*(y*(2*z + b*(3 + c) + 5*c) + z + z*b*c + z*b + z*c)\n",
    "sym.count_ops(exp_handsimp)"
   ]
  },
  {
   "cell_type": "code",
   "execution_count": 7,
   "metadata": {},
   "outputs": [
    {
     "name": "stdout",
     "output_type": "stream",
     "text": [
      "28\n"
     ]
    },
    {
     "data": {
      "text/plain": [
       "a*x*(b*c*y*z + b*c*y + b*c*z + 3*b*y + b*z + c*y*z + 5*c*y + c*z + 3*y*z + z)"
      ]
     },
     "execution_count": 7,
     "metadata": {},
     "output_type": "execute_result"
    }
   ],
   "source": [
    "exp_simp = sym.simplify(expression)\n",
    "print(sym.count_ops(exp_simp))\n",
    "exp_simp"
   ]
  },
  {
   "cell_type": "code",
   "execution_count": 8,
   "metadata": {},
   "outputs": [
    {
     "name": "stdout",
     "output_type": "stream",
     "text": [
      "37\n"
     ]
    },
    {
     "data": {
      "text/plain": [
       "x*(a*b*c*y*z + a*b*c*y + a*b*c*z + 3*a*b*y + a*b*z + a*c*y*z + 5*a*c*y + a*c*z + 3*a*y*z + a*z)"
      ]
     },
     "execution_count": 8,
     "metadata": {},
     "output_type": "execute_result"
    }
   ],
   "source": [
    "exp_col = sym.collect(expression, x)\n",
    "print(sym.count_ops(exp_col))\n",
    "exp_col"
   ]
  },
  {
   "cell_type": "code",
   "execution_count": 46,
   "metadata": {
    "collapsed": true
   },
   "outputs": [],
   "source": [
    "def collect_by_list(expr_in, sort_list):\n",
    "    expr = sym.expand(expr_in)\n",
    "    res = expr\n",
    "    for s in sort_list:\n",
    "        res = sym.rcollect(res, s)\n",
    "    return res\n",
    "\n",
    "def get_symbol_list(expr_in, return_counts=False):\n",
    "    expr = sym.expand(expr_in)\n",
    "    syms = {}\n",
    "    for a in expr.atoms():\n",
    "        if type(a) is sym.Symbol:\n",
    "            syms[a] = expr.count(a)\n",
    "    symlist = list(sorted(syms, key=syms.__getitem__, reverse=True))\n",
    "    if return_counts:\n",
    "        countlist = list(sorted(syms.values(), reverse=True))\n",
    "        return symlist, countlist\n",
    "    else:\n",
    "        return symlist\n",
    "\n",
    "def collect_auto(expr_in, print_ops=False, syms_to_prioritize=[]):\n",
    "    slist = get_symbol_list(expr_in)\n",
    "    sort_list = syms_to_prioritize\n",
    "    for s in slist:\n",
    "        if s not in syms_to_prioritize:\n",
    "            sort_list.append(s)\n",
    "    res = collect_by_list(expr_in, sort_list)\n",
    "    if print_ops:\n",
    "        print(sym.count_ops(res))\n",
    "    return res\n",
    "\n",
    "def collect_terms_in_fraction(expr_in, terms_to_prioritize=[]):\n",
    "    numerator, denominator = sym.fraction(expr_in)\n",
    "    num_simp = collect_auto(numerator, syms_to_prioritize=terms_to_prioritize)\n",
    "    den_simp = collect_auto(denominator, syms_to_prioritize=terms_to_prioritize)\n",
    "    return num_simp/den_simp"
   ]
  },
  {
   "cell_type": "code",
   "execution_count": 49,
   "metadata": {},
   "outputs": [
    {
     "data": {
      "text/plain": [
       "a*(y*(b*(c + 3) + 5*c) + z*(b*(c*(y + 1) + 1) + c*(y + 1) + 3*y + 1))/(b*c*y*z)"
      ]
     },
     "execution_count": 49,
     "metadata": {},
     "output_type": "execute_result"
    }
   ],
   "source": [
    "terms_to_prioritize = [z,b,c,y]\n",
    "full_simp = collect_terms_in_fraction(expression, terms_to_prioritize=terms_to_prioritize)\n",
    "full_simp"
   ]
  },
  {
   "cell_type": "code",
   "execution_count": 10,
   "metadata": {},
   "outputs": [
    {
     "name": "stdout",
     "output_type": "stream",
     "text": [
      "9\n"
     ]
    },
    {
     "data": {
      "text/plain": [
       "b + c*(b + y*(b + 1) + 1) + 3*y + 1"
      ]
     },
     "execution_count": 10,
     "metadata": {},
     "output_type": "execute_result"
    }
   ],
   "source": [
    "e2 = b*c*y + b*c + b + c*y + c + 3*y + 1\n",
    "collect_auto(e2)"
   ]
  },
  {
   "cell_type": "code",
   "execution_count": 11,
   "metadata": {},
   "outputs": [
    {
     "name": "stdout",
     "output_type": "stream",
     "text": [
      "[a, x, z, c, y, b] [10, 10, 7, 6, 6, 5]\n",
      "18\n"
     ]
    },
    {
     "data": {
      "text/plain": [
       "a*x*(y*(3*b + c*(b + 5)) + z*(b + c*(b + y*(b + 1) + 1) + 3*y + 1))"
      ]
     },
     "execution_count": 11,
     "metadata": {},
     "output_type": "execute_result"
    }
   ],
   "source": [
    "slist, clist = get_symbol_list(expression, return_counts=True)\n",
    "print(slist, clist)\n",
    "expr_srcol = collect_by_list(expression, slist)\n",
    "print(sym.count_ops(expr_srcol))\n",
    "expr_srcol"
   ]
  },
  {
   "cell_type": "markdown",
   "metadata": {},
   "source": [
    "# Real Problem"
   ]
  },
  {
   "cell_type": "code",
   "execution_count": 12,
   "metadata": {
    "collapsed": true
   },
   "outputs": [],
   "source": [
    "dKMgO_KMgO = sym.Symbol('dKMgO_KMgO')\n",
    "dKFeO_KFeO = sym.Symbol('dKFeO_KFeO')\n",
    "dKSiO2_KSiO2 = sym.Symbol('dKSiO2_KSiO2')\n",
    "dKMgSiO3_KMgSiO3 = sym.Symbol('dKMgSiO3_KMgSiO3')\n",
    "dKFeSiO3_KFeSiO3 = sym.Symbol('dKFeSiO3_KFeSiO3')\n",
    "\n",
    "dM_Mg = sym.Symbol('dM_Mg')\n",
    "dM_Fe = sym.Symbol('dM_Fe')\n",
    "dM_Si = sym.Symbol('dM_Si')\n",
    "dM_O = sym.Symbol('dM_O')\n",
    "dM_c = sym.Symbol('dM_c')\n",
    "\n",
    "dM_MgO = sym.Symbol('dM_MgO')\n",
    "dM_FeO = sym.Symbol('dM_FeO')\n",
    "dM_SiO2 = sym.Symbol('dM_SiO2')\n",
    "dM_MgSiO3 = sym.Symbol('dM_MgSiO3')\n",
    "dM_FeSiO3 = sym.Symbol('dM_FeSiO3')\n",
    "dM_m = sym.Symbol('dM_m')\n",
    "\n",
    "M_Mg = sym.Symbol('M_Mg')\n",
    "M_Fe = sym.Symbol('M_Fe')\n",
    "M_Si = sym.Symbol('M_Si')\n",
    "M_O = sym.Symbol('M_O')\n",
    "M_c = sym.Symbol('M_c')\n",
    "\n",
    "M_MgO = sym.Symbol('M_MgO')\n",
    "M_FeO = sym.Symbol('M_FeO')\n",
    "M_SiO2 = sym.Symbol('M_SiO2')\n",
    "M_MgSiO3 = sym.Symbol('M_MgSiO3')\n",
    "M_FeSiO3 = sym.Symbol('M_FeSiO3')\n",
    "M_m = sym.Symbol('M_m')\n",
    "\n",
    "terms_to_collect = [dKMgO_KMgO, dKFeO_KFeO, dKSiO2_KSiO2, dKFeSiO3_KFeSiO3, \n",
    "                    M_Mg, M_Fe, M_Si, M_O, M_c, \n",
    "                    M_MgO, M_FeO, M_SiO2, M_MgSiO3, M_FeSiO3, M_m]"
   ]
  },
  {
   "cell_type": "code",
   "execution_count": 13,
   "metadata": {
    "collapsed": true
   },
   "outputs": [],
   "source": [
    "sol_dM_c = M_c*(-M_Fe*dKFeO_KFeO*(2*M_FeO*M_FeSiO3*M_Mg*M_O*M_SiO2 - 2*M_FeO*M_FeSiO3*M_Mg*M_O*M_m + 2*M_FeO*M_FeSiO3*M_Mg*M_Si*M_SiO2 - 2*M_FeO*M_FeSiO3*M_Mg*M_Si*M_m - 2*M_FeO*M_FeSiO3*M_MgO*M_O*M_SiO2 + 2*M_FeO*M_FeSiO3*M_MgO*M_O*M_m - 2*M_FeO*M_FeSiO3*M_MgO*M_Si*M_SiO2 + 2*M_FeO*M_FeSiO3*M_MgO*M_Si*M_m - 2*M_FeO*M_FeSiO3*M_MgSiO3*M_O*M_SiO2 + 2*M_FeO*M_FeSiO3*M_MgSiO3*M_O*M_m - 2*M_FeO*M_FeSiO3*M_MgSiO3*M_Si*M_SiO2 + 2*M_FeO*M_FeSiO3*M_MgSiO3*M_Si*M_m + 3*M_FeO*M_Mg*M_MgSiO3*M_O*M_Si - 2*M_FeO*M_Mg*M_MgSiO3*M_O*M_m + M_FeO*M_Mg*M_MgSiO3*M_Si*M_SiO2 - 3*M_FeO*M_Mg*M_MgSiO3*M_Si*M_m + M_FeO*M_Mg*M_O*M_Si*M_SiO2 + 2*M_FeO*M_Mg*M_O*M_Si*M_m - 2*M_FeO*M_Mg*M_O*M_SiO2*M_m - 2*M_FeO*M_Mg*M_Si*M_SiO2*M_m - 2*M_FeO*M_MgO*M_MgSiO3*M_O*M_SiO2 + 2*M_FeO*M_MgO*M_MgSiO3*M_O*M_m - 2*M_FeO*M_MgO*M_MgSiO3*M_Si*M_SiO2 + 2*M_FeO*M_MgO*M_MgSiO3*M_Si*M_m - M_FeO*M_MgO*M_O*M_Si*M_SiO2 - 2*M_FeO*M_MgO*M_O*M_Si*M_m + 2*M_FeO*M_MgO*M_O*M_SiO2*M_m + 2*M_FeO*M_MgO*M_Si*M_SiO2*M_m - M_FeO*M_MgSiO3*M_O*M_Si*M_SiO2 - 2*M_FeO*M_MgSiO3*M_O*M_Si*M_m + 2*M_FeO*M_MgSiO3*M_O*M_SiO2*M_m + 2*M_FeO*M_MgSiO3*M_Si*M_SiO2*M_m - 3*M_FeSiO3*M_Mg*M_MgO*M_O*M_Si + 2*M_FeSiO3*M_Mg*M_MgO*M_O*M_SiO2 + M_FeSiO3*M_Mg*M_MgO*M_Si*M_SiO2 + M_FeSiO3*M_Mg*M_MgO*M_Si*M_m - 2*M_FeSiO3*M_Mg*M_O*M_Si*M_SiO2 + 5*M_FeSiO3*M_Mg*M_O*M_Si*M_m - 2*M_FeSiO3*M_Mg*M_O*M_SiO2*M_m - 2*M_FeSiO3*M_Mg*M_Si*M_SiO2*M_m - 2*M_FeSiO3*M_MgO*M_MgSiO3*M_O*M_SiO2 + 2*M_FeSiO3*M_MgO*M_MgSiO3*M_O*M_m - 2*M_FeSiO3*M_MgO*M_MgSiO3*M_Si*M_SiO2 + 2*M_FeSiO3*M_MgO*M_MgSiO3*M_Si*M_m + 2*M_FeSiO3*M_MgO*M_O*M_Si*M_SiO2 - 5*M_FeSiO3*M_MgO*M_O*M_Si*M_m + 2*M_FeSiO3*M_MgO*M_O*M_SiO2*M_m + 2*M_FeSiO3*M_MgO*M_Si*M_SiO2*M_m + 2*M_FeSiO3*M_MgSiO3*M_O*M_Si*M_SiO2 - 5*M_FeSiO3*M_MgSiO3*M_O*M_Si*M_m + 2*M_FeSiO3*M_MgSiO3*M_O*M_SiO2*M_m + 2*M_FeSiO3*M_MgSiO3*M_Si*M_SiO2*M_m) + M_FeSiO3*dKFeSiO3_KFeSiO3*(3*M_Fe*M_FeO*M_Mg*M_O*M_Si - 2*M_Fe*M_FeO*M_Mg*M_O*M_SiO2 - M_Fe*M_FeO*M_Mg*M_Si*M_SiO2 - M_Fe*M_FeO*M_Mg*M_Si*M_m - 3*M_Fe*M_FeO*M_MgO*M_O*M_Si + 2*M_Fe*M_FeO*M_MgO*M_O*M_SiO2 + M_Fe*M_FeO*M_MgO*M_Si*M_SiO2 + M_Fe*M_FeO*M_MgO*M_Si*M_m - 3*M_Fe*M_FeO*M_MgSiO3*M_O*M_Si + 2*M_Fe*M_FeO*M_MgSiO3*M_O*M_SiO2 + M_Fe*M_FeO*M_MgSiO3*M_Si*M_SiO2 + M_Fe*M_FeO*M_MgSiO3*M_Si*M_m + 3*M_Fe*M_Mg*M_MgO*M_O*M_Si - 2*M_Fe*M_Mg*M_MgO*M_O*M_SiO2 - M_Fe*M_Mg*M_MgO*M_Si*M_SiO2 - M_Fe*M_Mg*M_MgO*M_Si*M_m + 2*M_Fe*M_Mg*M_O*M_Si*M_SiO2 - 5*M_Fe*M_Mg*M_O*M_Si*M_m + 2*M_Fe*M_Mg*M_O*M_SiO2*M_m + 2*M_Fe*M_Mg*M_Si*M_SiO2*M_m + 2*M_Fe*M_MgO*M_MgSiO3*M_O*M_SiO2 - 2*M_Fe*M_MgO*M_MgSiO3*M_O*M_m + 2*M_Fe*M_MgO*M_MgSiO3*M_Si*M_SiO2 - 2*M_Fe*M_MgO*M_MgSiO3*M_Si*M_m - 2*M_Fe*M_MgO*M_O*M_Si*M_SiO2 + 5*M_Fe*M_MgO*M_O*M_Si*M_m - 2*M_Fe*M_MgO*M_O*M_SiO2*M_m - 2*M_Fe*M_MgO*M_Si*M_SiO2*M_m - 2*M_Fe*M_MgSiO3*M_O*M_Si*M_SiO2 + 5*M_Fe*M_MgSiO3*M_O*M_Si*M_m - 2*M_Fe*M_MgSiO3*M_O*M_SiO2*M_m - 2*M_Fe*M_MgSiO3*M_Si*M_SiO2*M_m - 3*M_FeO*M_Mg*M_MgO*M_O*M_Si + 2*M_FeO*M_Mg*M_MgO*M_O*M_SiO2 + M_FeO*M_Mg*M_MgO*M_Si*M_SiO2 + M_FeO*M_Mg*M_MgO*M_Si*M_m - 3*M_FeO*M_Mg*M_MgSiO3*M_O*M_Si + 2*M_FeO*M_Mg*M_MgSiO3*M_O*M_m - M_FeO*M_Mg*M_MgSiO3*M_Si*M_SiO2 + 3*M_FeO*M_Mg*M_MgSiO3*M_Si*M_m - 3*M_FeO*M_Mg*M_O*M_Si*M_SiO2 + 3*M_FeO*M_Mg*M_O*M_Si*M_m + 3*M_FeO*M_MgO*M_O*M_Si*M_SiO2 - 3*M_FeO*M_MgO*M_O*M_Si*M_m + 3*M_FeO*M_MgSiO3*M_O*M_Si*M_SiO2 - 3*M_FeO*M_MgSiO3*M_O*M_Si*M_m) - M_Mg*dKMgO_KMgO*(-3*M_Fe*M_FeO*M_MgSiO3*M_O*M_Si + 2*M_Fe*M_FeO*M_MgSiO3*M_O*M_SiO2 + M_Fe*M_FeO*M_MgSiO3*M_Si*M_SiO2 + M_Fe*M_FeO*M_MgSiO3*M_Si*M_m + 3*M_Fe*M_FeSiO3*M_MgO*M_O*M_Si - 2*M_Fe*M_FeSiO3*M_MgO*M_O*M_m + M_Fe*M_FeSiO3*M_MgO*M_Si*M_SiO2 - 3*M_Fe*M_FeSiO3*M_MgO*M_Si*M_m + 2*M_Fe*M_MgO*M_MgSiO3*M_O*M_SiO2 - 2*M_Fe*M_MgO*M_MgSiO3*M_O*M_m + 2*M_Fe*M_MgO*M_MgSiO3*M_Si*M_SiO2 - 2*M_Fe*M_MgO*M_MgSiO3*M_Si*M_m + M_Fe*M_MgO*M_O*M_Si*M_SiO2 + 2*M_Fe*M_MgO*M_O*M_Si*M_m - 2*M_Fe*M_MgO*M_O*M_SiO2*M_m - 2*M_Fe*M_MgO*M_Si*M_SiO2*M_m - 2*M_Fe*M_MgSiO3*M_O*M_Si*M_SiO2 + 5*M_Fe*M_MgSiO3*M_O*M_Si*M_m - 2*M_Fe*M_MgSiO3*M_O*M_SiO2*M_m - 2*M_Fe*M_MgSiO3*M_Si*M_SiO2*M_m - 2*M_FeO*M_FeSiO3*M_MgO*M_O*M_SiO2 + 2*M_FeO*M_FeSiO3*M_MgO*M_O*M_m - 2*M_FeO*M_FeSiO3*M_MgO*M_Si*M_SiO2 + 2*M_FeO*M_FeSiO3*M_MgO*M_Si*M_m - 2*M_FeO*M_FeSiO3*M_MgSiO3*M_O*M_SiO2 + 2*M_FeO*M_FeSiO3*M_MgSiO3*M_O*M_m - 2*M_FeO*M_FeSiO3*M_MgSiO3*M_Si*M_SiO2 + 2*M_FeO*M_FeSiO3*M_MgSiO3*M_Si*M_m - 2*M_FeO*M_MgO*M_MgSiO3*M_O*M_SiO2 + 2*M_FeO*M_MgO*M_MgSiO3*M_O*M_m - 2*M_FeO*M_MgO*M_MgSiO3*M_Si*M_SiO2 + 2*M_FeO*M_MgO*M_MgSiO3*M_Si*M_m - M_FeO*M_MgO*M_O*M_Si*M_SiO2 - 2*M_FeO*M_MgO*M_O*M_Si*M_m + 2*M_FeO*M_MgO*M_O*M_SiO2*M_m + 2*M_FeO*M_MgO*M_Si*M_SiO2*M_m + 2*M_FeO*M_MgSiO3*M_O*M_Si*M_SiO2 - 5*M_FeO*M_MgSiO3*M_O*M_Si*M_m + 2*M_FeO*M_MgSiO3*M_O*M_SiO2*M_m + 2*M_FeO*M_MgSiO3*M_Si*M_SiO2*M_m - 2*M_FeSiO3*M_MgO*M_MgSiO3*M_O*M_SiO2 + 2*M_FeSiO3*M_MgO*M_MgSiO3*M_O*M_m - 2*M_FeSiO3*M_MgO*M_MgSiO3*M_Si*M_SiO2 + 2*M_FeSiO3*M_MgO*M_MgSiO3*M_Si*M_m - M_FeSiO3*M_MgO*M_O*M_Si*M_SiO2 - 2*M_FeSiO3*M_MgO*M_O*M_Si*M_m + 2*M_FeSiO3*M_MgO*M_O*M_SiO2*M_m + 2*M_FeSiO3*M_MgO*M_Si*M_SiO2*M_m + 2*M_FeSiO3*M_MgSiO3*M_O*M_Si*M_SiO2 - 5*M_FeSiO3*M_MgSiO3*M_O*M_Si*M_m + 2*M_FeSiO3*M_MgSiO3*M_O*M_SiO2*M_m + 2*M_FeSiO3*M_MgSiO3*M_Si*M_SiO2*M_m) + M_MgSiO3*dKMgSiO3_KMgSiO3*(3*M_Fe*M_FeO*M_Mg*M_O*M_Si - 2*M_Fe*M_FeO*M_Mg*M_O*M_SiO2 - M_Fe*M_FeO*M_Mg*M_Si*M_SiO2 - M_Fe*M_FeO*M_Mg*M_Si*M_m - 3*M_Fe*M_FeO*M_MgO*M_O*M_Si + 2*M_Fe*M_FeO*M_MgO*M_O*M_SiO2 + M_Fe*M_FeO*M_MgO*M_Si*M_SiO2 + M_Fe*M_FeO*M_MgO*M_Si*M_m - 3*M_Fe*M_FeSiO3*M_MgO*M_O*M_Si + 2*M_Fe*M_FeSiO3*M_MgO*M_O*M_m - M_Fe*M_FeSiO3*M_MgO*M_Si*M_SiO2 + 3*M_Fe*M_FeSiO3*M_MgO*M_Si*M_m + 3*M_Fe*M_Mg*M_MgO*M_O*M_Si - 2*M_Fe*M_Mg*M_MgO*M_O*M_SiO2 - M_Fe*M_Mg*M_MgO*M_Si*M_SiO2 - M_Fe*M_Mg*M_MgO*M_Si*M_m + 2*M_Fe*M_Mg*M_O*M_Si*M_SiO2 - 5*M_Fe*M_Mg*M_O*M_Si*M_m + 2*M_Fe*M_Mg*M_O*M_SiO2*M_m + 2*M_Fe*M_Mg*M_Si*M_SiO2*M_m - 3*M_Fe*M_MgO*M_O*M_Si*M_SiO2 + 3*M_Fe*M_MgO*M_O*M_Si*M_m + 2*M_FeO*M_FeSiO3*M_Mg*M_O*M_SiO2 - 2*M_FeO*M_FeSiO3*M_Mg*M_O*M_m + 2*M_FeO*M_FeSiO3*M_Mg*M_Si*M_SiO2 - 2*M_FeO*M_FeSiO3*M_Mg*M_Si*M_m - 3*M_FeO*M_Mg*M_MgO*M_O*M_Si + 2*M_FeO*M_Mg*M_MgO*M_O*M_SiO2 + M_FeO*M_Mg*M_MgO*M_Si*M_SiO2 + M_FeO*M_Mg*M_MgO*M_Si*M_m - 2*M_FeO*M_Mg*M_O*M_Si*M_SiO2 + 5*M_FeO*M_Mg*M_O*M_Si*M_m - 2*M_FeO*M_Mg*M_O*M_SiO2*M_m - 2*M_FeO*M_Mg*M_Si*M_SiO2*M_m + 3*M_FeO*M_MgO*M_O*M_Si*M_SiO2 - 3*M_FeO*M_MgO*M_O*M_Si*M_m - 3*M_FeSiO3*M_Mg*M_MgO*M_O*M_Si + 2*M_FeSiO3*M_Mg*M_MgO*M_O*M_SiO2 + M_FeSiO3*M_Mg*M_MgO*M_Si*M_SiO2 + M_FeSiO3*M_Mg*M_MgO*M_Si*M_m - 2*M_FeSiO3*M_Mg*M_O*M_Si*M_SiO2 + 5*M_FeSiO3*M_Mg*M_O*M_Si*M_m - 2*M_FeSiO3*M_Mg*M_O*M_SiO2*M_m - 2*M_FeSiO3*M_Mg*M_Si*M_SiO2*M_m + 3*M_FeSiO3*M_MgO*M_O*M_Si*M_SiO2 - 3*M_FeSiO3*M_MgO*M_O*M_Si*M_m) - M_Si*dKSiO2_KSiO2*(-3*M_Fe*M_FeO*M_FeSiO3*M_Mg*M_O - M_Fe*M_FeO*M_FeSiO3*M_Mg*M_SiO2 + M_Fe*M_FeO*M_FeSiO3*M_Mg*M_m + 3*M_Fe*M_FeO*M_FeSiO3*M_MgO*M_O + M_Fe*M_FeO*M_FeSiO3*M_MgO*M_SiO2 - M_Fe*M_FeO*M_FeSiO3*M_MgO*M_m + 3*M_Fe*M_FeO*M_FeSiO3*M_MgSiO3*M_O + M_Fe*M_FeO*M_FeSiO3*M_MgSiO3*M_SiO2 - M_Fe*M_FeO*M_FeSiO3*M_MgSiO3*M_m - 3*M_Fe*M_FeO*M_Mg*M_MgSiO3*M_O - M_Fe*M_FeO*M_Mg*M_MgSiO3*M_SiO2 + M_Fe*M_FeO*M_Mg*M_MgSiO3*M_m - M_Fe*M_FeO*M_Mg*M_O*M_SiO2 + M_Fe*M_FeO*M_Mg*M_SiO2*M_m + 3*M_Fe*M_FeO*M_MgO*M_MgSiO3*M_O + M_Fe*M_FeO*M_MgO*M_MgSiO3*M_SiO2 - M_Fe*M_FeO*M_MgO*M_MgSiO3*M_m + M_Fe*M_FeO*M_MgO*M_O*M_SiO2 - M_Fe*M_FeO*M_MgO*M_SiO2*M_m + M_Fe*M_FeO*M_MgSiO3*M_O*M_SiO2 - M_Fe*M_FeO*M_MgSiO3*M_SiO2*M_m - 3*M_Fe*M_FeSiO3*M_Mg*M_MgO*M_O - M_Fe*M_FeSiO3*M_Mg*M_MgO*M_SiO2 + M_Fe*M_FeSiO3*M_Mg*M_MgO*M_m + 5*M_Fe*M_FeSiO3*M_Mg*M_O*M_m + M_Fe*M_FeSiO3*M_Mg*M_SiO2*M_m + 3*M_Fe*M_FeSiO3*M_MgO*M_MgSiO3*M_O + M_Fe*M_FeSiO3*M_MgO*M_MgSiO3*M_SiO2 - M_Fe*M_FeSiO3*M_MgO*M_MgSiO3*M_m - 5*M_Fe*M_FeSiO3*M_MgO*M_O*M_m - M_Fe*M_FeSiO3*M_MgO*M_SiO2*M_m - 5*M_Fe*M_FeSiO3*M_MgSiO3*M_O*M_m - M_Fe*M_FeSiO3*M_MgSiO3*M_SiO2*M_m - 3*M_Fe*M_Mg*M_MgO*M_MgSiO3*M_O - M_Fe*M_Mg*M_MgO*M_MgSiO3*M_SiO2 + M_Fe*M_Mg*M_MgO*M_MgSiO3*M_m - M_Fe*M_Mg*M_MgO*M_O*M_SiO2 + M_Fe*M_Mg*M_MgO*M_SiO2*M_m + 5*M_Fe*M_Mg*M_MgSiO3*M_O*M_m + M_Fe*M_Mg*M_MgSiO3*M_SiO2*M_m + 3*M_Fe*M_Mg*M_O*M_SiO2*M_m + 3*M_Fe*M_MgO*M_MgSiO3*M_O*M_SiO2 - 3*M_Fe*M_MgO*M_MgSiO3*M_O*M_m - 3*M_Fe*M_MgO*M_O*M_SiO2*M_m - 3*M_Fe*M_MgSiO3*M_O*M_SiO2*M_m + 3*M_FeO*M_FeSiO3*M_Mg*M_MgO*M_O + M_FeO*M_FeSiO3*M_Mg*M_MgO*M_SiO2 - M_FeO*M_FeSiO3*M_Mg*M_MgO*M_m + 3*M_FeO*M_FeSiO3*M_Mg*M_MgSiO3*M_O + M_FeO*M_FeSiO3*M_Mg*M_MgSiO3*M_SiO2 - M_FeO*M_FeSiO3*M_Mg*M_MgSiO3*M_m + 3*M_FeO*M_FeSiO3*M_Mg*M_O*M_SiO2 - 3*M_FeO*M_FeSiO3*M_Mg*M_O*M_m - 3*M_FeO*M_FeSiO3*M_MgO*M_O*M_SiO2 + 3*M_FeO*M_FeSiO3*M_MgO*M_O*M_m - 3*M_FeO*M_FeSiO3*M_MgSiO3*M_O*M_SiO2 + 3*M_FeO*M_FeSiO3*M_MgSiO3*M_O*M_m + 3*M_FeO*M_Mg*M_MgO*M_MgSiO3*M_O + M_FeO*M_Mg*M_MgO*M_MgSiO3*M_SiO2 - M_FeO*M_Mg*M_MgO*M_MgSiO3*M_m + M_FeO*M_Mg*M_MgO*M_O*M_SiO2 - M_FeO*M_Mg*M_MgO*M_SiO2*M_m - 5*M_FeO*M_Mg*M_MgSiO3*M_O*M_m - M_FeO*M_Mg*M_MgSiO3*M_SiO2*M_m - 3*M_FeO*M_Mg*M_O*M_SiO2*M_m - 3*M_FeO*M_MgO*M_MgSiO3*M_O*M_SiO2 + 3*M_FeO*M_MgO*M_MgSiO3*M_O*M_m + 3*M_FeO*M_MgO*M_O*M_SiO2*M_m + 3*M_FeO*M_MgSiO3*M_O*M_SiO2*M_m + 3*M_FeSiO3*M_Mg*M_MgO*M_MgSiO3*M_O + M_FeSiO3*M_Mg*M_MgO*M_MgSiO3*M_SiO2 - M_FeSiO3*M_Mg*M_MgO*M_MgSiO3*M_m + M_FeSiO3*M_Mg*M_MgO*M_O*M_SiO2 - M_FeSiO3*M_Mg*M_MgO*M_SiO2*M_m - 5*M_FeSiO3*M_Mg*M_MgSiO3*M_O*M_m - M_FeSiO3*M_Mg*M_MgSiO3*M_SiO2*M_m - 3*M_FeSiO3*M_Mg*M_O*M_SiO2*M_m - 3*M_FeSiO3*M_MgO*M_MgSiO3*M_O*M_SiO2 + 3*M_FeSiO3*M_MgO*M_MgSiO3*M_O*M_m + 3*M_FeSiO3*M_MgO*M_O*M_SiO2*M_m + 3*M_FeSiO3*M_MgSiO3*M_O*M_SiO2*M_m))/(-9*M_Fe*M_FeO*M_FeSiO3*M_Mg*M_O*M_Si + 4*M_Fe*M_FeO*M_FeSiO3*M_Mg*M_O*M_SiO2 + M_Fe*M_FeO*M_FeSiO3*M_Mg*M_O*M_c - 4*M_Fe*M_FeO*M_FeSiO3*M_Mg*M_O*M_m + M_Fe*M_FeO*M_FeSiO3*M_Mg*M_Si*M_SiO2 + 4*M_Fe*M_FeO*M_FeSiO3*M_Mg*M_Si*M_c - M_Fe*M_FeO*M_FeSiO3*M_Mg*M_Si*M_m - M_Fe*M_FeO*M_FeSiO3*M_Mg*M_SiO2*M_c + M_Fe*M_FeO*M_FeSiO3*M_Mg*M_c*M_m + 9*M_Fe*M_FeO*M_FeSiO3*M_MgO*M_O*M_Si - 4*M_Fe*M_FeO*M_FeSiO3*M_MgO*M_O*M_SiO2 - M_Fe*M_FeO*M_FeSiO3*M_MgO*M_O*M_c + 4*M_Fe*M_FeO*M_FeSiO3*M_MgO*M_O*M_m - M_Fe*M_FeO*M_FeSiO3*M_MgO*M_Si*M_SiO2 - 4*M_Fe*M_FeO*M_FeSiO3*M_MgO*M_Si*M_c + M_Fe*M_FeO*M_FeSiO3*M_MgO*M_Si*M_m + M_Fe*M_FeO*M_FeSiO3*M_MgO*M_SiO2*M_c - M_Fe*M_FeO*M_FeSiO3*M_MgO*M_c*M_m + 9*M_Fe*M_FeO*M_FeSiO3*M_MgSiO3*M_O*M_Si - 4*M_Fe*M_FeO*M_FeSiO3*M_MgSiO3*M_O*M_SiO2 - M_Fe*M_FeO*M_FeSiO3*M_MgSiO3*M_O*M_c + 4*M_Fe*M_FeO*M_FeSiO3*M_MgSiO3*M_O*M_m - M_Fe*M_FeO*M_FeSiO3*M_MgSiO3*M_Si*M_SiO2 - 4*M_Fe*M_FeO*M_FeSiO3*M_MgSiO3*M_Si*M_c + M_Fe*M_FeO*M_FeSiO3*M_MgSiO3*M_Si*M_m + M_Fe*M_FeO*M_FeSiO3*M_MgSiO3*M_SiO2*M_c - M_Fe*M_FeO*M_FeSiO3*M_MgSiO3*M_c*M_m - 9*M_Fe*M_FeO*M_Mg*M_MgSiO3*M_O*M_Si + 4*M_Fe*M_FeO*M_Mg*M_MgSiO3*M_O*M_SiO2 + M_Fe*M_FeO*M_Mg*M_MgSiO3*M_O*M_c - 4*M_Fe*M_FeO*M_Mg*M_MgSiO3*M_O*M_m + M_Fe*M_FeO*M_Mg*M_MgSiO3*M_Si*M_SiO2 + 4*M_Fe*M_FeO*M_Mg*M_MgSiO3*M_Si*M_c - M_Fe*M_FeO*M_Mg*M_MgSiO3*M_Si*M_m - M_Fe*M_FeO*M_Mg*M_MgSiO3*M_SiO2*M_c + M_Fe*M_FeO*M_Mg*M_MgSiO3*M_c*M_m - M_Fe*M_FeO*M_Mg*M_O*M_Si*M_SiO2 - M_Fe*M_FeO*M_Mg*M_O*M_Si*M_c + 4*M_Fe*M_FeO*M_Mg*M_O*M_Si*M_m + M_Fe*M_FeO*M_Mg*M_O*M_SiO2*M_c - 4*M_Fe*M_FeO*M_Mg*M_O*M_SiO2*M_m + M_Fe*M_FeO*M_Mg*M_Si*M_SiO2*M_c - M_Fe*M_FeO*M_Mg*M_Si*M_SiO2*M_m - M_Fe*M_FeO*M_Mg*M_Si*M_c*M_m + M_Fe*M_FeO*M_Mg*M_SiO2*M_c*M_m + 9*M_Fe*M_FeO*M_MgO*M_MgSiO3*M_O*M_Si - 4*M_Fe*M_FeO*M_MgO*M_MgSiO3*M_O*M_SiO2 - M_Fe*M_FeO*M_MgO*M_MgSiO3*M_O*M_c + 4*M_Fe*M_FeO*M_MgO*M_MgSiO3*M_O*M_m - M_Fe*M_FeO*M_MgO*M_MgSiO3*M_Si*M_SiO2 - 4*M_Fe*M_FeO*M_MgO*M_MgSiO3*M_Si*M_c + M_Fe*M_FeO*M_MgO*M_MgSiO3*M_Si*M_m + M_Fe*M_FeO*M_MgO*M_MgSiO3*M_SiO2*M_c - M_Fe*M_FeO*M_MgO*M_MgSiO3*M_c*M_m + M_Fe*M_FeO*M_MgO*M_O*M_Si*M_SiO2 + M_Fe*M_FeO*M_MgO*M_O*M_Si*M_c - 4*M_Fe*M_FeO*M_MgO*M_O*M_Si*M_m - M_Fe*M_FeO*M_MgO*M_O*M_SiO2*M_c + 4*M_Fe*M_FeO*M_MgO*M_O*M_SiO2*M_m - M_Fe*M_FeO*M_MgO*M_Si*M_SiO2*M_c + M_Fe*M_FeO*M_MgO*M_Si*M_SiO2*M_m + M_Fe*M_FeO*M_MgO*M_Si*M_c*M_m - M_Fe*M_FeO*M_MgO*M_SiO2*M_c*M_m + M_Fe*M_FeO*M_MgSiO3*M_O*M_Si*M_SiO2 + M_Fe*M_FeO*M_MgSiO3*M_O*M_Si*M_c - 4*M_Fe*M_FeO*M_MgSiO3*M_O*M_Si*M_m - M_Fe*M_FeO*M_MgSiO3*M_O*M_SiO2*M_c + 4*M_Fe*M_FeO*M_MgSiO3*M_O*M_SiO2*M_m - M_Fe*M_FeO*M_MgSiO3*M_Si*M_SiO2*M_c + M_Fe*M_FeO*M_MgSiO3*M_Si*M_SiO2*M_m + M_Fe*M_FeO*M_MgSiO3*M_Si*M_c*M_m - M_Fe*M_FeO*M_MgSiO3*M_SiO2*M_c*M_m - 9*M_Fe*M_FeSiO3*M_Mg*M_MgO*M_O*M_Si + 4*M_Fe*M_FeSiO3*M_Mg*M_MgO*M_O*M_SiO2 + M_Fe*M_FeSiO3*M_Mg*M_MgO*M_O*M_c - 4*M_Fe*M_FeSiO3*M_Mg*M_MgO*M_O*M_m + M_Fe*M_FeSiO3*M_Mg*M_MgO*M_Si*M_SiO2 + 4*M_Fe*M_FeSiO3*M_Mg*M_MgO*M_Si*M_c - M_Fe*M_FeSiO3*M_Mg*M_MgO*M_Si*M_m - M_Fe*M_FeSiO3*M_Mg*M_MgO*M_SiO2*M_c + M_Fe*M_FeSiO3*M_Mg*M_MgO*M_c*M_m - 4*M_Fe*M_FeSiO3*M_Mg*M_O*M_Si*M_SiO2 - M_Fe*M_FeSiO3*M_Mg*M_O*M_Si*M_c + 25*M_Fe*M_FeSiO3*M_Mg*M_O*M_Si*M_m - 4*M_Fe*M_FeSiO3*M_Mg*M_O*M_SiO2*M_m - M_Fe*M_FeSiO3*M_Mg*M_O*M_c*M_m + M_Fe*M_FeSiO3*M_Mg*M_Si*M_SiO2*M_c - M_Fe*M_FeSiO3*M_Mg*M_Si*M_SiO2*M_m - 9*M_Fe*M_FeSiO3*M_Mg*M_Si*M_c*M_m + M_Fe*M_FeSiO3*M_Mg*M_SiO2*M_c*M_m + 9*M_Fe*M_FeSiO3*M_MgO*M_MgSiO3*M_O*M_Si - 4*M_Fe*M_FeSiO3*M_MgO*M_MgSiO3*M_O*M_SiO2 - M_Fe*M_FeSiO3*M_MgO*M_MgSiO3*M_O*M_c + 4*M_Fe*M_FeSiO3*M_MgO*M_MgSiO3*M_O*M_m - M_Fe*M_FeSiO3*M_MgO*M_MgSiO3*M_Si*M_SiO2 - 4*M_Fe*M_FeSiO3*M_MgO*M_MgSiO3*M_Si*M_c + M_Fe*M_FeSiO3*M_MgO*M_MgSiO3*M_Si*M_m + M_Fe*M_FeSiO3*M_MgO*M_MgSiO3*M_SiO2*M_c - M_Fe*M_FeSiO3*M_MgO*M_MgSiO3*M_c*M_m + 4*M_Fe*M_FeSiO3*M_MgO*M_O*M_Si*M_SiO2 + M_Fe*M_FeSiO3*M_MgO*M_O*M_Si*M_c - 25*M_Fe*M_FeSiO3*M_MgO*M_O*M_Si*M_m + 4*M_Fe*M_FeSiO3*M_MgO*M_O*M_SiO2*M_m + M_Fe*M_FeSiO3*M_MgO*M_O*M_c*M_m - M_Fe*M_FeSiO3*M_MgO*M_Si*M_SiO2*M_c + M_Fe*M_FeSiO3*M_MgO*M_Si*M_SiO2*M_m + 9*M_Fe*M_FeSiO3*M_MgO*M_Si*M_c*M_m - M_Fe*M_FeSiO3*M_MgO*M_SiO2*M_c*M_m + 4*M_Fe*M_FeSiO3*M_MgSiO3*M_O*M_Si*M_SiO2 + M_Fe*M_FeSiO3*M_MgSiO3*M_O*M_Si*M_c - 25*M_Fe*M_FeSiO3*M_MgSiO3*M_O*M_Si*M_m + 4*M_Fe*M_FeSiO3*M_MgSiO3*M_O*M_SiO2*M_m + M_Fe*M_FeSiO3*M_MgSiO3*M_O*M_c*M_m - M_Fe*M_FeSiO3*M_MgSiO3*M_Si*M_SiO2*M_c + M_Fe*M_FeSiO3*M_MgSiO3*M_Si*M_SiO2*M_m + 9*M_Fe*M_FeSiO3*M_MgSiO3*M_Si*M_c*M_m - M_Fe*M_FeSiO3*M_MgSiO3*M_SiO2*M_c*M_m - 9*M_Fe*M_Mg*M_MgO*M_MgSiO3*M_O*M_Si + 4*M_Fe*M_Mg*M_MgO*M_MgSiO3*M_O*M_SiO2 + M_Fe*M_Mg*M_MgO*M_MgSiO3*M_O*M_c - 4*M_Fe*M_Mg*M_MgO*M_MgSiO3*M_O*M_m + M_Fe*M_Mg*M_MgO*M_MgSiO3*M_Si*M_SiO2 + 4*M_Fe*M_Mg*M_MgO*M_MgSiO3*M_Si*M_c - M_Fe*M_Mg*M_MgO*M_MgSiO3*M_Si*M_m - M_Fe*M_Mg*M_MgO*M_MgSiO3*M_SiO2*M_c + M_Fe*M_Mg*M_MgO*M_MgSiO3*M_c*M_m - M_Fe*M_Mg*M_MgO*M_O*M_Si*M_SiO2 - M_Fe*M_Mg*M_MgO*M_O*M_Si*M_c + 4*M_Fe*M_Mg*M_MgO*M_O*M_Si*M_m + M_Fe*M_Mg*M_MgO*M_O*M_SiO2*M_c - 4*M_Fe*M_Mg*M_MgO*M_O*M_SiO2*M_m + M_Fe*M_Mg*M_MgO*M_Si*M_SiO2*M_c - M_Fe*M_Mg*M_MgO*M_Si*M_SiO2*M_m - M_Fe*M_Mg*M_MgO*M_Si*M_c*M_m + M_Fe*M_Mg*M_MgO*M_SiO2*M_c*M_m - 4*M_Fe*M_Mg*M_MgSiO3*M_O*M_Si*M_SiO2 - M_Fe*M_Mg*M_MgSiO3*M_O*M_Si*M_c + 25*M_Fe*M_Mg*M_MgSiO3*M_O*M_Si*M_m - 4*M_Fe*M_Mg*M_MgSiO3*M_O*M_SiO2*M_m - M_Fe*M_Mg*M_MgSiO3*M_O*M_c*M_m + M_Fe*M_Mg*M_MgSiO3*M_Si*M_SiO2*M_c - M_Fe*M_Mg*M_MgSiO3*M_Si*M_SiO2*M_m - 9*M_Fe*M_Mg*M_MgSiO3*M_Si*M_c*M_m + M_Fe*M_Mg*M_MgSiO3*M_SiO2*M_c*M_m - M_Fe*M_Mg*M_O*M_Si*M_SiO2*M_c + 9*M_Fe*M_Mg*M_O*M_Si*M_SiO2*M_m + M_Fe*M_Mg*M_O*M_Si*M_c*M_m - M_Fe*M_Mg*M_O*M_SiO2*M_c*M_m - 4*M_Fe*M_Mg*M_Si*M_SiO2*M_c*M_m + 9*M_Fe*M_MgO*M_MgSiO3*M_O*M_Si*M_SiO2 - 9*M_Fe*M_MgO*M_MgSiO3*M_O*M_Si*M_m - M_Fe*M_MgO*M_MgSiO3*M_O*M_SiO2*M_c + M_Fe*M_MgO*M_MgSiO3*M_O*M_c*M_m - 4*M_Fe*M_MgO*M_MgSiO3*M_Si*M_SiO2*M_c + 4*M_Fe*M_MgO*M_MgSiO3*M_Si*M_c*M_m + M_Fe*M_MgO*M_O*M_Si*M_SiO2*M_c - 9*M_Fe*M_MgO*M_O*M_Si*M_SiO2*M_m - M_Fe*M_MgO*M_O*M_Si*M_c*M_m + M_Fe*M_MgO*M_O*M_SiO2*M_c*M_m + 4*M_Fe*M_MgO*M_Si*M_SiO2*M_c*M_m + M_Fe*M_MgSiO3*M_O*M_Si*M_SiO2*M_c - 9*M_Fe*M_MgSiO3*M_O*M_Si*M_SiO2*M_m - M_Fe*M_MgSiO3*M_O*M_Si*M_c*M_m + M_Fe*M_MgSiO3*M_O*M_SiO2*M_c*M_m + 4*M_Fe*M_MgSiO3*M_Si*M_SiO2*M_c*M_m + 9*M_FeO*M_FeSiO3*M_Mg*M_MgO*M_O*M_Si - 4*M_FeO*M_FeSiO3*M_Mg*M_MgO*M_O*M_SiO2 - M_FeO*M_FeSiO3*M_Mg*M_MgO*M_O*M_c + 4*M_FeO*M_FeSiO3*M_Mg*M_MgO*M_O*M_m - M_FeO*M_FeSiO3*M_Mg*M_MgO*M_Si*M_SiO2 - 4*M_FeO*M_FeSiO3*M_Mg*M_MgO*M_Si*M_c + M_FeO*M_FeSiO3*M_Mg*M_MgO*M_Si*M_m + M_FeO*M_FeSiO3*M_Mg*M_MgO*M_SiO2*M_c - M_FeO*M_FeSiO3*M_Mg*M_MgO*M_c*M_m + 9*M_FeO*M_FeSiO3*M_Mg*M_MgSiO3*M_O*M_Si - 4*M_FeO*M_FeSiO3*M_Mg*M_MgSiO3*M_O*M_SiO2 - M_FeO*M_FeSiO3*M_Mg*M_MgSiO3*M_O*M_c + 4*M_FeO*M_FeSiO3*M_Mg*M_MgSiO3*M_O*M_m - M_FeO*M_FeSiO3*M_Mg*M_MgSiO3*M_Si*M_SiO2 - 4*M_FeO*M_FeSiO3*M_Mg*M_MgSiO3*M_Si*M_c + M_FeO*M_FeSiO3*M_Mg*M_MgSiO3*M_Si*M_m + M_FeO*M_FeSiO3*M_Mg*M_MgSiO3*M_SiO2*M_c - M_FeO*M_FeSiO3*M_Mg*M_MgSiO3*M_c*M_m + 9*M_FeO*M_FeSiO3*M_Mg*M_O*M_Si*M_SiO2 - 9*M_FeO*M_FeSiO3*M_Mg*M_O*M_Si*M_m - M_FeO*M_FeSiO3*M_Mg*M_O*M_SiO2*M_c + M_FeO*M_FeSiO3*M_Mg*M_O*M_c*M_m - 4*M_FeO*M_FeSiO3*M_Mg*M_Si*M_SiO2*M_c + 4*M_FeO*M_FeSiO3*M_Mg*M_Si*M_c*M_m - 9*M_FeO*M_FeSiO3*M_MgO*M_O*M_Si*M_SiO2 + 9*M_FeO*M_FeSiO3*M_MgO*M_O*M_Si*M_m + M_FeO*M_FeSiO3*M_MgO*M_O*M_SiO2*M_c - M_FeO*M_FeSiO3*M_MgO*M_O*M_c*M_m + 4*M_FeO*M_FeSiO3*M_MgO*M_Si*M_SiO2*M_c - 4*M_FeO*M_FeSiO3*M_MgO*M_Si*M_c*M_m - 9*M_FeO*M_FeSiO3*M_MgSiO3*M_O*M_Si*M_SiO2 + 9*M_FeO*M_FeSiO3*M_MgSiO3*M_O*M_Si*M_m + M_FeO*M_FeSiO3*M_MgSiO3*M_O*M_SiO2*M_c - M_FeO*M_FeSiO3*M_MgSiO3*M_O*M_c*M_m + 4*M_FeO*M_FeSiO3*M_MgSiO3*M_Si*M_SiO2*M_c - 4*M_FeO*M_FeSiO3*M_MgSiO3*M_Si*M_c*M_m + 9*M_FeO*M_Mg*M_MgO*M_MgSiO3*M_O*M_Si - 4*M_FeO*M_Mg*M_MgO*M_MgSiO3*M_O*M_SiO2 - M_FeO*M_Mg*M_MgO*M_MgSiO3*M_O*M_c + 4*M_FeO*M_Mg*M_MgO*M_MgSiO3*M_O*M_m - M_FeO*M_Mg*M_MgO*M_MgSiO3*M_Si*M_SiO2 - 4*M_FeO*M_Mg*M_MgO*M_MgSiO3*M_Si*M_c + M_FeO*M_Mg*M_MgO*M_MgSiO3*M_Si*M_m + M_FeO*M_Mg*M_MgO*M_MgSiO3*M_SiO2*M_c - M_FeO*M_Mg*M_MgO*M_MgSiO3*M_c*M_m + M_FeO*M_Mg*M_MgO*M_O*M_Si*M_SiO2 + M_FeO*M_Mg*M_MgO*M_O*M_Si*M_c - 4*M_FeO*M_Mg*M_MgO*M_O*M_Si*M_m - M_FeO*M_Mg*M_MgO*M_O*M_SiO2*M_c + 4*M_FeO*M_Mg*M_MgO*M_O*M_SiO2*M_m - M_FeO*M_Mg*M_MgO*M_Si*M_SiO2*M_c + M_FeO*M_Mg*M_MgO*M_Si*M_SiO2*M_m + M_FeO*M_Mg*M_MgO*M_Si*M_c*M_m - M_FeO*M_Mg*M_MgO*M_SiO2*M_c*M_m + 4*M_FeO*M_Mg*M_MgSiO3*M_O*M_Si*M_SiO2 + M_FeO*M_Mg*M_MgSiO3*M_O*M_Si*M_c - 25*M_FeO*M_Mg*M_MgSiO3*M_O*M_Si*M_m + 4*M_FeO*M_Mg*M_MgSiO3*M_O*M_SiO2*M_m + M_FeO*M_Mg*M_MgSiO3*M_O*M_c*M_m - M_FeO*M_Mg*M_MgSiO3*M_Si*M_SiO2*M_c + M_FeO*M_Mg*M_MgSiO3*M_Si*M_SiO2*M_m + 9*M_FeO*M_Mg*M_MgSiO3*M_Si*M_c*M_m - M_FeO*M_Mg*M_MgSiO3*M_SiO2*M_c*M_m + M_FeO*M_Mg*M_O*M_Si*M_SiO2*M_c - 9*M_FeO*M_Mg*M_O*M_Si*M_SiO2*M_m - M_FeO*M_Mg*M_O*M_Si*M_c*M_m + M_FeO*M_Mg*M_O*M_SiO2*M_c*M_m + 4*M_FeO*M_Mg*M_Si*M_SiO2*M_c*M_m - 9*M_FeO*M_MgO*M_MgSiO3*M_O*M_Si*M_SiO2 + 9*M_FeO*M_MgO*M_MgSiO3*M_O*M_Si*M_m + M_FeO*M_MgO*M_MgSiO3*M_O*M_SiO2*M_c - M_FeO*M_MgO*M_MgSiO3*M_O*M_c*M_m + 4*M_FeO*M_MgO*M_MgSiO3*M_Si*M_SiO2*M_c - 4*M_FeO*M_MgO*M_MgSiO3*M_Si*M_c*M_m - M_FeO*M_MgO*M_O*M_Si*M_SiO2*M_c + 9*M_FeO*M_MgO*M_O*M_Si*M_SiO2*M_m + M_FeO*M_MgO*M_O*M_Si*M_c*M_m - M_FeO*M_MgO*M_O*M_SiO2*M_c*M_m - 4*M_FeO*M_MgO*M_Si*M_SiO2*M_c*M_m - M_FeO*M_MgSiO3*M_O*M_Si*M_SiO2*M_c + 9*M_FeO*M_MgSiO3*M_O*M_Si*M_SiO2*M_m + M_FeO*M_MgSiO3*M_O*M_Si*M_c*M_m - M_FeO*M_MgSiO3*M_O*M_SiO2*M_c*M_m - 4*M_FeO*M_MgSiO3*M_Si*M_SiO2*M_c*M_m + 9*M_FeSiO3*M_Mg*M_MgO*M_MgSiO3*M_O*M_Si - 4*M_FeSiO3*M_Mg*M_MgO*M_MgSiO3*M_O*M_SiO2 - M_FeSiO3*M_Mg*M_MgO*M_MgSiO3*M_O*M_c + 4*M_FeSiO3*M_Mg*M_MgO*M_MgSiO3*M_O*M_m - M_FeSiO3*M_Mg*M_MgO*M_MgSiO3*M_Si*M_SiO2 - 4*M_FeSiO3*M_Mg*M_MgO*M_MgSiO3*M_Si*M_c + M_FeSiO3*M_Mg*M_MgO*M_MgSiO3*M_Si*M_m + M_FeSiO3*M_Mg*M_MgO*M_MgSiO3*M_SiO2*M_c - M_FeSiO3*M_Mg*M_MgO*M_MgSiO3*M_c*M_m + M_FeSiO3*M_Mg*M_MgO*M_O*M_Si*M_SiO2 + M_FeSiO3*M_Mg*M_MgO*M_O*M_Si*M_c - 4*M_FeSiO3*M_Mg*M_MgO*M_O*M_Si*M_m - M_FeSiO3*M_Mg*M_MgO*M_O*M_SiO2*M_c + 4*M_FeSiO3*M_Mg*M_MgO*M_O*M_SiO2*M_m - M_FeSiO3*M_Mg*M_MgO*M_Si*M_SiO2*M_c + M_FeSiO3*M_Mg*M_MgO*M_Si*M_SiO2*M_m + M_FeSiO3*M_Mg*M_MgO*M_Si*M_c*M_m - M_FeSiO3*M_Mg*M_MgO*M_SiO2*M_c*M_m + 4*M_FeSiO3*M_Mg*M_MgSiO3*M_O*M_Si*M_SiO2 + M_FeSiO3*M_Mg*M_MgSiO3*M_O*M_Si*M_c - 25*M_FeSiO3*M_Mg*M_MgSiO3*M_O*M_Si*M_m + 4*M_FeSiO3*M_Mg*M_MgSiO3*M_O*M_SiO2*M_m + M_FeSiO3*M_Mg*M_MgSiO3*M_O*M_c*M_m - M_FeSiO3*M_Mg*M_MgSiO3*M_Si*M_SiO2*M_c + M_FeSiO3*M_Mg*M_MgSiO3*M_Si*M_SiO2*M_m + 9*M_FeSiO3*M_Mg*M_MgSiO3*M_Si*M_c*M_m - M_FeSiO3*M_Mg*M_MgSiO3*M_SiO2*M_c*M_m + M_FeSiO3*M_Mg*M_O*M_Si*M_SiO2*M_c - 9*M_FeSiO3*M_Mg*M_O*M_Si*M_SiO2*M_m - M_FeSiO3*M_Mg*M_O*M_Si*M_c*M_m + M_FeSiO3*M_Mg*M_O*M_SiO2*M_c*M_m + 4*M_FeSiO3*M_Mg*M_Si*M_SiO2*M_c*M_m - 9*M_FeSiO3*M_MgO*M_MgSiO3*M_O*M_Si*M_SiO2 + 9*M_FeSiO3*M_MgO*M_MgSiO3*M_O*M_Si*M_m + M_FeSiO3*M_MgO*M_MgSiO3*M_O*M_SiO2*M_c - M_FeSiO3*M_MgO*M_MgSiO3*M_O*M_c*M_m + 4*M_FeSiO3*M_MgO*M_MgSiO3*M_Si*M_SiO2*M_c - 4*M_FeSiO3*M_MgO*M_MgSiO3*M_Si*M_c*M_m - M_FeSiO3*M_MgO*M_O*M_Si*M_SiO2*M_c + 9*M_FeSiO3*M_MgO*M_O*M_Si*M_SiO2*M_m + M_FeSiO3*M_MgO*M_O*M_Si*M_c*M_m - M_FeSiO3*M_MgO*M_O*M_SiO2*M_c*M_m - 4*M_FeSiO3*M_MgO*M_Si*M_SiO2*M_c*M_m - M_FeSiO3*M_MgSiO3*M_O*M_Si*M_SiO2*M_c + 9*M_FeSiO3*M_MgSiO3*M_O*M_Si*M_SiO2*M_m + M_FeSiO3*M_MgSiO3*M_O*M_Si*M_c*M_m - M_FeSiO3*M_MgSiO3*M_O*M_SiO2*M_c*M_m - 4*M_FeSiO3*M_MgSiO3*M_Si*M_SiO2*M_c*M_m)\n",
    "sol_dM_c_numerator = M_c*(-M_Fe*dKFeO_KFeO*(2*M_FeO*M_FeSiO3*M_Mg*M_O*M_SiO2 - 2*M_FeO*M_FeSiO3*M_Mg*M_O*M_m + 2*M_FeO*M_FeSiO3*M_Mg*M_Si*M_SiO2 - 2*M_FeO*M_FeSiO3*M_Mg*M_Si*M_m - 2*M_FeO*M_FeSiO3*M_MgO*M_O*M_SiO2 + 2*M_FeO*M_FeSiO3*M_MgO*M_O*M_m - 2*M_FeO*M_FeSiO3*M_MgO*M_Si*M_SiO2 + 2*M_FeO*M_FeSiO3*M_MgO*M_Si*M_m - 2*M_FeO*M_FeSiO3*M_MgSiO3*M_O*M_SiO2 + 2*M_FeO*M_FeSiO3*M_MgSiO3*M_O*M_m - 2*M_FeO*M_FeSiO3*M_MgSiO3*M_Si*M_SiO2 + 2*M_FeO*M_FeSiO3*M_MgSiO3*M_Si*M_m + 3*M_FeO*M_Mg*M_MgSiO3*M_O*M_Si - 2*M_FeO*M_Mg*M_MgSiO3*M_O*M_m + M_FeO*M_Mg*M_MgSiO3*M_Si*M_SiO2 - 3*M_FeO*M_Mg*M_MgSiO3*M_Si*M_m + M_FeO*M_Mg*M_O*M_Si*M_SiO2 + 2*M_FeO*M_Mg*M_O*M_Si*M_m - 2*M_FeO*M_Mg*M_O*M_SiO2*M_m - 2*M_FeO*M_Mg*M_Si*M_SiO2*M_m - 2*M_FeO*M_MgO*M_MgSiO3*M_O*M_SiO2 + 2*M_FeO*M_MgO*M_MgSiO3*M_O*M_m - 2*M_FeO*M_MgO*M_MgSiO3*M_Si*M_SiO2 + 2*M_FeO*M_MgO*M_MgSiO3*M_Si*M_m - M_FeO*M_MgO*M_O*M_Si*M_SiO2 - 2*M_FeO*M_MgO*M_O*M_Si*M_m + 2*M_FeO*M_MgO*M_O*M_SiO2*M_m + 2*M_FeO*M_MgO*M_Si*M_SiO2*M_m - M_FeO*M_MgSiO3*M_O*M_Si*M_SiO2 - 2*M_FeO*M_MgSiO3*M_O*M_Si*M_m + 2*M_FeO*M_MgSiO3*M_O*M_SiO2*M_m + 2*M_FeO*M_MgSiO3*M_Si*M_SiO2*M_m - 3*M_FeSiO3*M_Mg*M_MgO*M_O*M_Si + 2*M_FeSiO3*M_Mg*M_MgO*M_O*M_SiO2 + M_FeSiO3*M_Mg*M_MgO*M_Si*M_SiO2 + M_FeSiO3*M_Mg*M_MgO*M_Si*M_m - 2*M_FeSiO3*M_Mg*M_O*M_Si*M_SiO2 + 5*M_FeSiO3*M_Mg*M_O*M_Si*M_m - 2*M_FeSiO3*M_Mg*M_O*M_SiO2*M_m - 2*M_FeSiO3*M_Mg*M_Si*M_SiO2*M_m - 2*M_FeSiO3*M_MgO*M_MgSiO3*M_O*M_SiO2 + 2*M_FeSiO3*M_MgO*M_MgSiO3*M_O*M_m - 2*M_FeSiO3*M_MgO*M_MgSiO3*M_Si*M_SiO2 + 2*M_FeSiO3*M_MgO*M_MgSiO3*M_Si*M_m + 2*M_FeSiO3*M_MgO*M_O*M_Si*M_SiO2 - 5*M_FeSiO3*M_MgO*M_O*M_Si*M_m + 2*M_FeSiO3*M_MgO*M_O*M_SiO2*M_m + 2*M_FeSiO3*M_MgO*M_Si*M_SiO2*M_m + 2*M_FeSiO3*M_MgSiO3*M_O*M_Si*M_SiO2 - 5*M_FeSiO3*M_MgSiO3*M_O*M_Si*M_m + 2*M_FeSiO3*M_MgSiO3*M_O*M_SiO2*M_m + 2*M_FeSiO3*M_MgSiO3*M_Si*M_SiO2*M_m) + M_FeSiO3*dKFeSiO3_KFeSiO3*(3*M_Fe*M_FeO*M_Mg*M_O*M_Si - 2*M_Fe*M_FeO*M_Mg*M_O*M_SiO2 - M_Fe*M_FeO*M_Mg*M_Si*M_SiO2 - M_Fe*M_FeO*M_Mg*M_Si*M_m - 3*M_Fe*M_FeO*M_MgO*M_O*M_Si + 2*M_Fe*M_FeO*M_MgO*M_O*M_SiO2 + M_Fe*M_FeO*M_MgO*M_Si*M_SiO2 + M_Fe*M_FeO*M_MgO*M_Si*M_m - 3*M_Fe*M_FeO*M_MgSiO3*M_O*M_Si + 2*M_Fe*M_FeO*M_MgSiO3*M_O*M_SiO2 + M_Fe*M_FeO*M_MgSiO3*M_Si*M_SiO2 + M_Fe*M_FeO*M_MgSiO3*M_Si*M_m + 3*M_Fe*M_Mg*M_MgO*M_O*M_Si - 2*M_Fe*M_Mg*M_MgO*M_O*M_SiO2 - M_Fe*M_Mg*M_MgO*M_Si*M_SiO2 - M_Fe*M_Mg*M_MgO*M_Si*M_m + 2*M_Fe*M_Mg*M_O*M_Si*M_SiO2 - 5*M_Fe*M_Mg*M_O*M_Si*M_m + 2*M_Fe*M_Mg*M_O*M_SiO2*M_m + 2*M_Fe*M_Mg*M_Si*M_SiO2*M_m + 2*M_Fe*M_MgO*M_MgSiO3*M_O*M_SiO2 - 2*M_Fe*M_MgO*M_MgSiO3*M_O*M_m + 2*M_Fe*M_MgO*M_MgSiO3*M_Si*M_SiO2 - 2*M_Fe*M_MgO*M_MgSiO3*M_Si*M_m - 2*M_Fe*M_MgO*M_O*M_Si*M_SiO2 + 5*M_Fe*M_MgO*M_O*M_Si*M_m - 2*M_Fe*M_MgO*M_O*M_SiO2*M_m - 2*M_Fe*M_MgO*M_Si*M_SiO2*M_m - 2*M_Fe*M_MgSiO3*M_O*M_Si*M_SiO2 + 5*M_Fe*M_MgSiO3*M_O*M_Si*M_m - 2*M_Fe*M_MgSiO3*M_O*M_SiO2*M_m - 2*M_Fe*M_MgSiO3*M_Si*M_SiO2*M_m - 3*M_FeO*M_Mg*M_MgO*M_O*M_Si + 2*M_FeO*M_Mg*M_MgO*M_O*M_SiO2 + M_FeO*M_Mg*M_MgO*M_Si*M_SiO2 + M_FeO*M_Mg*M_MgO*M_Si*M_m - 3*M_FeO*M_Mg*M_MgSiO3*M_O*M_Si + 2*M_FeO*M_Mg*M_MgSiO3*M_O*M_m - M_FeO*M_Mg*M_MgSiO3*M_Si*M_SiO2 + 3*M_FeO*M_Mg*M_MgSiO3*M_Si*M_m - 3*M_FeO*M_Mg*M_O*M_Si*M_SiO2 + 3*M_FeO*M_Mg*M_O*M_Si*M_m + 3*M_FeO*M_MgO*M_O*M_Si*M_SiO2 - 3*M_FeO*M_MgO*M_O*M_Si*M_m + 3*M_FeO*M_MgSiO3*M_O*M_Si*M_SiO2 - 3*M_FeO*M_MgSiO3*M_O*M_Si*M_m) - M_Mg*dKMgO_KMgO*(-3*M_Fe*M_FeO*M_MgSiO3*M_O*M_Si + 2*M_Fe*M_FeO*M_MgSiO3*M_O*M_SiO2 + M_Fe*M_FeO*M_MgSiO3*M_Si*M_SiO2 + M_Fe*M_FeO*M_MgSiO3*M_Si*M_m + 3*M_Fe*M_FeSiO3*M_MgO*M_O*M_Si - 2*M_Fe*M_FeSiO3*M_MgO*M_O*M_m + M_Fe*M_FeSiO3*M_MgO*M_Si*M_SiO2 - 3*M_Fe*M_FeSiO3*M_MgO*M_Si*M_m + 2*M_Fe*M_MgO*M_MgSiO3*M_O*M_SiO2 - 2*M_Fe*M_MgO*M_MgSiO3*M_O*M_m + 2*M_Fe*M_MgO*M_MgSiO3*M_Si*M_SiO2 - 2*M_Fe*M_MgO*M_MgSiO3*M_Si*M_m + M_Fe*M_MgO*M_O*M_Si*M_SiO2 + 2*M_Fe*M_MgO*M_O*M_Si*M_m - 2*M_Fe*M_MgO*M_O*M_SiO2*M_m - 2*M_Fe*M_MgO*M_Si*M_SiO2*M_m - 2*M_Fe*M_MgSiO3*M_O*M_Si*M_SiO2 + 5*M_Fe*M_MgSiO3*M_O*M_Si*M_m - 2*M_Fe*M_MgSiO3*M_O*M_SiO2*M_m - 2*M_Fe*M_MgSiO3*M_Si*M_SiO2*M_m - 2*M_FeO*M_FeSiO3*M_MgO*M_O*M_SiO2 + 2*M_FeO*M_FeSiO3*M_MgO*M_O*M_m - 2*M_FeO*M_FeSiO3*M_MgO*M_Si*M_SiO2 + 2*M_FeO*M_FeSiO3*M_MgO*M_Si*M_m - 2*M_FeO*M_FeSiO3*M_MgSiO3*M_O*M_SiO2 + 2*M_FeO*M_FeSiO3*M_MgSiO3*M_O*M_m - 2*M_FeO*M_FeSiO3*M_MgSiO3*M_Si*M_SiO2 + 2*M_FeO*M_FeSiO3*M_MgSiO3*M_Si*M_m - 2*M_FeO*M_MgO*M_MgSiO3*M_O*M_SiO2 + 2*M_FeO*M_MgO*M_MgSiO3*M_O*M_m - 2*M_FeO*M_MgO*M_MgSiO3*M_Si*M_SiO2 + 2*M_FeO*M_MgO*M_MgSiO3*M_Si*M_m - M_FeO*M_MgO*M_O*M_Si*M_SiO2 - 2*M_FeO*M_MgO*M_O*M_Si*M_m + 2*M_FeO*M_MgO*M_O*M_SiO2*M_m + 2*M_FeO*M_MgO*M_Si*M_SiO2*M_m + 2*M_FeO*M_MgSiO3*M_O*M_Si*M_SiO2 - 5*M_FeO*M_MgSiO3*M_O*M_Si*M_m + 2*M_FeO*M_MgSiO3*M_O*M_SiO2*M_m + 2*M_FeO*M_MgSiO3*M_Si*M_SiO2*M_m - 2*M_FeSiO3*M_MgO*M_MgSiO3*M_O*M_SiO2 + 2*M_FeSiO3*M_MgO*M_MgSiO3*M_O*M_m - 2*M_FeSiO3*M_MgO*M_MgSiO3*M_Si*M_SiO2 + 2*M_FeSiO3*M_MgO*M_MgSiO3*M_Si*M_m - M_FeSiO3*M_MgO*M_O*M_Si*M_SiO2 - 2*M_FeSiO3*M_MgO*M_O*M_Si*M_m + 2*M_FeSiO3*M_MgO*M_O*M_SiO2*M_m + 2*M_FeSiO3*M_MgO*M_Si*M_SiO2*M_m + 2*M_FeSiO3*M_MgSiO3*M_O*M_Si*M_SiO2 - 5*M_FeSiO3*M_MgSiO3*M_O*M_Si*M_m + 2*M_FeSiO3*M_MgSiO3*M_O*M_SiO2*M_m + 2*M_FeSiO3*M_MgSiO3*M_Si*M_SiO2*M_m) + M_MgSiO3*dKMgSiO3_KMgSiO3*(3*M_Fe*M_FeO*M_Mg*M_O*M_Si - 2*M_Fe*M_FeO*M_Mg*M_O*M_SiO2 - M_Fe*M_FeO*M_Mg*M_Si*M_SiO2 - M_Fe*M_FeO*M_Mg*M_Si*M_m - 3*M_Fe*M_FeO*M_MgO*M_O*M_Si + 2*M_Fe*M_FeO*M_MgO*M_O*M_SiO2 + M_Fe*M_FeO*M_MgO*M_Si*M_SiO2 + M_Fe*M_FeO*M_MgO*M_Si*M_m - 3*M_Fe*M_FeSiO3*M_MgO*M_O*M_Si + 2*M_Fe*M_FeSiO3*M_MgO*M_O*M_m - M_Fe*M_FeSiO3*M_MgO*M_Si*M_SiO2 + 3*M_Fe*M_FeSiO3*M_MgO*M_Si*M_m + 3*M_Fe*M_Mg*M_MgO*M_O*M_Si - 2*M_Fe*M_Mg*M_MgO*M_O*M_SiO2 - M_Fe*M_Mg*M_MgO*M_Si*M_SiO2 - M_Fe*M_Mg*M_MgO*M_Si*M_m + 2*M_Fe*M_Mg*M_O*M_Si*M_SiO2 - 5*M_Fe*M_Mg*M_O*M_Si*M_m + 2*M_Fe*M_Mg*M_O*M_SiO2*M_m + 2*M_Fe*M_Mg*M_Si*M_SiO2*M_m - 3*M_Fe*M_MgO*M_O*M_Si*M_SiO2 + 3*M_Fe*M_MgO*M_O*M_Si*M_m + 2*M_FeO*M_FeSiO3*M_Mg*M_O*M_SiO2 - 2*M_FeO*M_FeSiO3*M_Mg*M_O*M_m + 2*M_FeO*M_FeSiO3*M_Mg*M_Si*M_SiO2 - 2*M_FeO*M_FeSiO3*M_Mg*M_Si*M_m - 3*M_FeO*M_Mg*M_MgO*M_O*M_Si + 2*M_FeO*M_Mg*M_MgO*M_O*M_SiO2 + M_FeO*M_Mg*M_MgO*M_Si*M_SiO2 + M_FeO*M_Mg*M_MgO*M_Si*M_m - 2*M_FeO*M_Mg*M_O*M_Si*M_SiO2 + 5*M_FeO*M_Mg*M_O*M_Si*M_m - 2*M_FeO*M_Mg*M_O*M_SiO2*M_m - 2*M_FeO*M_Mg*M_Si*M_SiO2*M_m + 3*M_FeO*M_MgO*M_O*M_Si*M_SiO2 - 3*M_FeO*M_MgO*M_O*M_Si*M_m - 3*M_FeSiO3*M_Mg*M_MgO*M_O*M_Si + 2*M_FeSiO3*M_Mg*M_MgO*M_O*M_SiO2 + M_FeSiO3*M_Mg*M_MgO*M_Si*M_SiO2 + M_FeSiO3*M_Mg*M_MgO*M_Si*M_m - 2*M_FeSiO3*M_Mg*M_O*M_Si*M_SiO2 + 5*M_FeSiO3*M_Mg*M_O*M_Si*M_m - 2*M_FeSiO3*M_Mg*M_O*M_SiO2*M_m - 2*M_FeSiO3*M_Mg*M_Si*M_SiO2*M_m + 3*M_FeSiO3*M_MgO*M_O*M_Si*M_SiO2 - 3*M_FeSiO3*M_MgO*M_O*M_Si*M_m) - M_Si*dKSiO2_KSiO2*(-3*M_Fe*M_FeO*M_FeSiO3*M_Mg*M_O - M_Fe*M_FeO*M_FeSiO3*M_Mg*M_SiO2 + M_Fe*M_FeO*M_FeSiO3*M_Mg*M_m + 3*M_Fe*M_FeO*M_FeSiO3*M_MgO*M_O + M_Fe*M_FeO*M_FeSiO3*M_MgO*M_SiO2 - M_Fe*M_FeO*M_FeSiO3*M_MgO*M_m + 3*M_Fe*M_FeO*M_FeSiO3*M_MgSiO3*M_O + M_Fe*M_FeO*M_FeSiO3*M_MgSiO3*M_SiO2 - M_Fe*M_FeO*M_FeSiO3*M_MgSiO3*M_m - 3*M_Fe*M_FeO*M_Mg*M_MgSiO3*M_O - M_Fe*M_FeO*M_Mg*M_MgSiO3*M_SiO2 + M_Fe*M_FeO*M_Mg*M_MgSiO3*M_m - M_Fe*M_FeO*M_Mg*M_O*M_SiO2 + M_Fe*M_FeO*M_Mg*M_SiO2*M_m + 3*M_Fe*M_FeO*M_MgO*M_MgSiO3*M_O + M_Fe*M_FeO*M_MgO*M_MgSiO3*M_SiO2 - M_Fe*M_FeO*M_MgO*M_MgSiO3*M_m + M_Fe*M_FeO*M_MgO*M_O*M_SiO2 - M_Fe*M_FeO*M_MgO*M_SiO2*M_m + M_Fe*M_FeO*M_MgSiO3*M_O*M_SiO2 - M_Fe*M_FeO*M_MgSiO3*M_SiO2*M_m - 3*M_Fe*M_FeSiO3*M_Mg*M_MgO*M_O - M_Fe*M_FeSiO3*M_Mg*M_MgO*M_SiO2 + M_Fe*M_FeSiO3*M_Mg*M_MgO*M_m + 5*M_Fe*M_FeSiO3*M_Mg*M_O*M_m + M_Fe*M_FeSiO3*M_Mg*M_SiO2*M_m + 3*M_Fe*M_FeSiO3*M_MgO*M_MgSiO3*M_O + M_Fe*M_FeSiO3*M_MgO*M_MgSiO3*M_SiO2 - M_Fe*M_FeSiO3*M_MgO*M_MgSiO3*M_m - 5*M_Fe*M_FeSiO3*M_MgO*M_O*M_m - M_Fe*M_FeSiO3*M_MgO*M_SiO2*M_m - 5*M_Fe*M_FeSiO3*M_MgSiO3*M_O*M_m - M_Fe*M_FeSiO3*M_MgSiO3*M_SiO2*M_m - 3*M_Fe*M_Mg*M_MgO*M_MgSiO3*M_O - M_Fe*M_Mg*M_MgO*M_MgSiO3*M_SiO2 + M_Fe*M_Mg*M_MgO*M_MgSiO3*M_m - M_Fe*M_Mg*M_MgO*M_O*M_SiO2 + M_Fe*M_Mg*M_MgO*M_SiO2*M_m + 5*M_Fe*M_Mg*M_MgSiO3*M_O*M_m + M_Fe*M_Mg*M_MgSiO3*M_SiO2*M_m + 3*M_Fe*M_Mg*M_O*M_SiO2*M_m + 3*M_Fe*M_MgO*M_MgSiO3*M_O*M_SiO2 - 3*M_Fe*M_MgO*M_MgSiO3*M_O*M_m - 3*M_Fe*M_MgO*M_O*M_SiO2*M_m - 3*M_Fe*M_MgSiO3*M_O*M_SiO2*M_m + 3*M_FeO*M_FeSiO3*M_Mg*M_MgO*M_O + M_FeO*M_FeSiO3*M_Mg*M_MgO*M_SiO2 - M_FeO*M_FeSiO3*M_Mg*M_MgO*M_m + 3*M_FeO*M_FeSiO3*M_Mg*M_MgSiO3*M_O + M_FeO*M_FeSiO3*M_Mg*M_MgSiO3*M_SiO2 - M_FeO*M_FeSiO3*M_Mg*M_MgSiO3*M_m + 3*M_FeO*M_FeSiO3*M_Mg*M_O*M_SiO2 - 3*M_FeO*M_FeSiO3*M_Mg*M_O*M_m - 3*M_FeO*M_FeSiO3*M_MgO*M_O*M_SiO2 + 3*M_FeO*M_FeSiO3*M_MgO*M_O*M_m - 3*M_FeO*M_FeSiO3*M_MgSiO3*M_O*M_SiO2 + 3*M_FeO*M_FeSiO3*M_MgSiO3*M_O*M_m + 3*M_FeO*M_Mg*M_MgO*M_MgSiO3*M_O + M_FeO*M_Mg*M_MgO*M_MgSiO3*M_SiO2 - M_FeO*M_Mg*M_MgO*M_MgSiO3*M_m + M_FeO*M_Mg*M_MgO*M_O*M_SiO2 - M_FeO*M_Mg*M_MgO*M_SiO2*M_m - 5*M_FeO*M_Mg*M_MgSiO3*M_O*M_m - M_FeO*M_Mg*M_MgSiO3*M_SiO2*M_m - 3*M_FeO*M_Mg*M_O*M_SiO2*M_m - 3*M_FeO*M_MgO*M_MgSiO3*M_O*M_SiO2 + 3*M_FeO*M_MgO*M_MgSiO3*M_O*M_m + 3*M_FeO*M_MgO*M_O*M_SiO2*M_m + 3*M_FeO*M_MgSiO3*M_O*M_SiO2*M_m + 3*M_FeSiO3*M_Mg*M_MgO*M_MgSiO3*M_O + M_FeSiO3*M_Mg*M_MgO*M_MgSiO3*M_SiO2 - M_FeSiO3*M_Mg*M_MgO*M_MgSiO3*M_m + M_FeSiO3*M_Mg*M_MgO*M_O*M_SiO2 - M_FeSiO3*M_Mg*M_MgO*M_SiO2*M_m - 5*M_FeSiO3*M_Mg*M_MgSiO3*M_O*M_m - M_FeSiO3*M_Mg*M_MgSiO3*M_SiO2*M_m - 3*M_FeSiO3*M_Mg*M_O*M_SiO2*M_m - 3*M_FeSiO3*M_MgO*M_MgSiO3*M_O*M_SiO2 + 3*M_FeSiO3*M_MgO*M_MgSiO3*M_O*M_m + 3*M_FeSiO3*M_MgO*M_O*M_SiO2*M_m + 3*M_FeSiO3*M_MgSiO3*M_O*M_SiO2*M_m))"
   ]
  },
  {
   "cell_type": "code",
   "execution_count": 14,
   "metadata": {},
   "outputs": [
    {
     "name": "stdout",
     "output_type": "stream",
     "text": [
      "752\n"
     ]
    }
   ],
   "source": [
    "sol_scol = collect_auto(sol_dM_c_numerator)"
   ]
  },
  {
   "cell_type": "code",
   "execution_count": 194,
   "metadata": {
    "scrolled": false
   },
   "outputs": [
    {
     "data": {
      "text/plain": [
       "M_c*(M_O*(M_Fe*(M_FeO*(-2*M_MgO*M_SiO2*M_m*dKFeO_KFeO + M_MgSiO3*(-2*M_MgO*M_m*dKFeO_KFeO + M_SiO2*(M_MgO*(2*dKFeO_KFeO + 2*dKMgSiO3_KMgSiO3) - 2*M_m*dKFeO_KFeO))) + M_FeSiO3*(M_MgO*(-2*M_FeO*M_m*dKFeO_KFeO + M_SiO2*(M_FeO*(2*dKFeO_KFeO + 2*dKFeSiO3_KFeSiO3) + M_m*(-2*dKFeO_KFeO - 2*dKFeSiO3_KFeSiO3))) + M_MgSiO3*(M_SiO2*(M_FeO*(2*dKFeO_KFeO + 2*dKFeSiO3_KFeSiO3) + M_MgO*(2*dKFeO_KFeO + 2*dKFeSiO3_KFeSiO3) + M_m*(-2*dKFeO_KFeO - 2*dKFeSiO3_KFeSiO3)) + M_m*(-2*M_FeO*dKFeO_KFeO + M_MgO*(-2*dKFeO_KFeO - 2*dKFeSiO3_KFeSiO3 + 2*dKMgSiO3_KMgSiO3)))) + M_Mg*(M_FeSiO3*(M_SiO2*(M_FeO*(-2*dKFeO_KFeO - 2*dKFeSiO3_KFeSiO3) + M_MgO*(-2*dKFeO_KFeO - 2*dKFeSiO3_KFeSiO3) + M_m*(2*dKFeO_KFeO + 2*dKFeSiO3_KFeSiO3)) + M_m*(2*M_FeO*dKFeO_KFeO + 2*M_MgO*dKMgO_KMgO)) + M_MgSiO3*(M_SiO2*(M_FeO*(-2*dKMgO_KMgO - 2*dKMgSiO3_KMgSiO3) + M_MgO*(-2*dKMgO_KMgO - 2*dKMgSiO3_KMgSiO3) + M_m*(2*dKMgO_KMgO + 2*dKMgSiO3_KMgSiO3)) + M_m*(2*M_FeO*dKFeO_KFeO + 2*M_MgO*dKMgO_KMgO)) + M_SiO2*M_m*(2*M_FeO*dKFeO_KFeO + 2*M_MgO*dKMgO_KMgO))) + M_Mg*(M_FeO*(-2*M_MgO*M_SiO2*M_m*dKMgO_KMgO + M_MgSiO3*(-2*M_MgO*M_m*dKMgO_KMgO + M_SiO2*(M_MgO*(2*dKMgO_KMgO + 2*dKMgSiO3_KMgSiO3) + M_m*(-2*dKMgO_KMgO - 2*dKMgSiO3_KMgSiO3)))) + M_FeSiO3*(M_MgO*(-2*M_FeO*M_m*dKMgO_KMgO + M_SiO2*(M_FeO*(2*dKFeSiO3_KFeSiO3 + 2*dKMgO_KMgO) - 2*M_m*dKMgO_KMgO)) + M_MgSiO3*(M_SiO2*(M_FeO*(2*dKMgO_KMgO + 2*dKMgSiO3_KMgSiO3) + M_MgO*(2*dKMgO_KMgO + 2*dKMgSiO3_KMgSiO3) + M_m*(-2*dKMgO_KMgO - 2*dKMgSiO3_KMgSiO3)) + M_m*(M_FeO*(2*dKFeSiO3_KFeSiO3 - 2*dKMgO_KMgO - 2*dKMgSiO3_KMgSiO3) - 2*M_MgO*dKMgO_KMgO))))) + M_Si*(M_Fe*(M_FeO*(M_MgO*M_SiO2*M_m*(-2*dKFeO_KFeO + dKSiO2_KSiO2) + M_MgSiO3*(M_MgO*M_m*(-2*dKFeO_KFeO + dKMgSiO3_KMgSiO3 + dKSiO2_KSiO2) + M_SiO2*(M_MgO*(2*dKFeO_KFeO + dKMgSiO3_KMgSiO3 - dKSiO2_KSiO2) + M_m*(-2*dKFeO_KFeO + dKSiO2_KSiO2)))) + M_FeSiO3*(M_MgO*(M_FeO*M_m*(-2*dKFeO_KFeO + dKFeSiO3_KFeSiO3 + dKSiO2_KSiO2) + M_SiO2*(M_FeO*(2*dKFeO_KFeO + dKFeSiO3_KFeSiO3 - dKSiO2_KSiO2) + M_m*(-2*dKFeO_KFeO - 2*dKFeSiO3_KFeSiO3 + dKSiO2_KSiO2))) + M_MgSiO3*(M_SiO2*(M_FeO*(2*dKFeO_KFeO + dKFeSiO3_KFeSiO3 - dKSiO2_KSiO2) + M_MgO*(2*dKFeO_KFeO + 2*dKFeSiO3_KFeSiO3 - dKMgSiO3_KMgSiO3 - dKSiO2_KSiO2) + M_m*(-2*dKFeO_KFeO - 2*dKFeSiO3_KFeSiO3 + dKSiO2_KSiO2)) + M_m*(M_FeO*(-2*dKFeO_KFeO + dKFeSiO3_KFeSiO3 + dKSiO2_KSiO2) + M_MgO*(-2*dKFeO_KFeO - 2*dKFeSiO3_KFeSiO3 + 3*dKMgSiO3_KMgSiO3 + dKSiO2_KSiO2)))) + M_Mg*(M_FeSiO3*(M_SiO2*(M_FeO*(-2*dKFeO_KFeO - dKFeSiO3_KFeSiO3 + dKSiO2_KSiO2) + M_MgO*(-dKFeO_KFeO - dKFeSiO3_KFeSiO3 - dKMgO_KMgO + dKSiO2_KSiO2) + M_m*(2*dKFeO_KFeO + 2*dKFeSiO3_KFeSiO3 - dKSiO2_KSiO2)) + M_m*(M_FeO*(2*dKFeO_KFeO - dKFeSiO3_KFeSiO3 - dKSiO2_KSiO2) + M_MgO*(-dKFeO_KFeO - dKFeSiO3_KFeSiO3 + 3*dKMgO_KMgO - dKSiO2_KSiO2))) + M_MgSiO3*(M_SiO2*(M_FeO*(-dKFeO_KFeO - dKMgO_KMgO - dKMgSiO3_KMgSiO3 + dKSiO2_KSiO2) + M_MgO*(-2*dKMgO_KMgO - dKMgSiO3_KMgSiO3 + dKSiO2_KSiO2) + M_m*(2*dKMgO_KMgO + 2*dKMgSiO3_KMgSiO3 - dKSiO2_KSiO2)) + M_m*(M_FeO*(3*dKFeO_KFeO - dKMgO_KMgO - dKMgSiO3_KMgSiO3 - dKSiO2_KSiO2) + M_MgO*(2*dKMgO_KMgO - dKMgSiO3_KMgSiO3 - dKSiO2_KSiO2))) + M_O*(M_FeSiO3*(M_FeO*(3*dKFeSiO3_KFeSiO3 + 3*dKSiO2_KSiO2) + M_MgO*(3*dKFeO_KFeO + 3*dKFeSiO3_KFeSiO3 - 3*dKMgO_KMgO + 3*dKSiO2_KSiO2) + M_SiO2*(2*dKFeO_KFeO + 2*dKFeSiO3_KFeSiO3) + M_m*(-5*dKFeO_KFeO - 5*dKFeSiO3_KFeSiO3 - 5*dKSiO2_KSiO2)) + M_MgSiO3*(M_FeO*(-3*dKFeO_KFeO + 3*dKMgO_KMgO + 3*dKMgSiO3_KMgSiO3 + 3*dKSiO2_KSiO2) + M_MgO*(3*dKMgSiO3_KMgSiO3 + 3*dKSiO2_KSiO2) + M_SiO2*(2*dKMgO_KMgO + 2*dKMgSiO3_KMgSiO3) + M_m*(-5*dKMgO_KMgO - 5*dKMgSiO3_KMgSiO3 - 5*dKSiO2_KSiO2)) + M_SiO2*(M_FeO*(-dKFeO_KFeO + dKSiO2_KSiO2) + M_MgO*(-dKMgO_KMgO + dKSiO2_KSiO2) - 3*M_m*dKSiO2_KSiO2) + M_m*(-2*M_FeO*dKFeO_KFeO - 2*M_MgO*dKMgO_KMgO)) + M_SiO2*M_m*(M_FeO*(2*dKFeO_KFeO - dKSiO2_KSiO2) + M_MgO*(2*dKMgO_KMgO - dKSiO2_KSiO2))) + M_O*(M_FeSiO3*(M_MgO*(M_FeO*(-3*dKFeSiO3_KFeSiO3 - 3*dKSiO2_KSiO2) + M_SiO2*(-2*dKFeO_KFeO - 2*dKFeSiO3_KFeSiO3) + M_m*(5*dKFeO_KFeO + 5*dKFeSiO3_KFeSiO3 + 5*dKSiO2_KSiO2)) + M_MgSiO3*(M_FeO*(-3*dKFeSiO3_KFeSiO3 - 3*dKSiO2_KSiO2) + M_MgO*(-3*dKMgSiO3_KMgSiO3 - 3*dKSiO2_KSiO2) + M_SiO2*(-2*dKFeO_KFeO - 2*dKFeSiO3_KFeSiO3) + M_m*(5*dKFeO_KFeO + 5*dKFeSiO3_KFeSiO3 + 5*dKSiO2_KSiO2))) + M_MgO*(2*M_FeO*M_m*dKFeO_KFeO + M_SiO2*(M_FeO*(dKFeO_KFeO - dKSiO2_KSiO2) + 3*M_m*dKSiO2_KSiO2)) + M_MgSiO3*(M_FeO*(M_MgO*(-3*dKMgSiO3_KMgSiO3 - 3*dKSiO2_KSiO2) + 2*M_m*dKFeO_KFeO) + M_MgO*M_m*(3*dKMgSiO3_KMgSiO3 + 3*dKSiO2_KSiO2) + M_SiO2*(M_FeO*(dKFeO_KFeO - dKSiO2_KSiO2) + M_MgO*(-3*dKMgSiO3_KMgSiO3 - 3*dKSiO2_KSiO2) + 3*M_m*dKSiO2_KSiO2)))) + M_Mg*(M_FeO*(M_MgO*M_SiO2*M_m*(-2*dKMgO_KMgO + dKSiO2_KSiO2) + M_MgSiO3*(M_MgO*M_m*(-2*dKMgO_KMgO + dKMgSiO3_KMgSiO3 + dKSiO2_KSiO2) + M_SiO2*(M_MgO*(2*dKMgO_KMgO + dKMgSiO3_KMgSiO3 - dKSiO2_KSiO2) + M_m*(-2*dKMgO_KMgO - 2*dKMgSiO3_KMgSiO3 + dKSiO2_KSiO2)))) + M_FeSiO3*(M_MgO*(M_FeO*M_m*(dKFeSiO3_KFeSiO3 - 2*dKMgO_KMgO + dKSiO2_KSiO2) + M_SiO2*(M_FeO*(dKFeSiO3_KFeSiO3 + 2*dKMgO_KMgO - dKSiO2_KSiO2) + M_m*(-2*dKMgO_KMgO + dKSiO2_KSiO2))) + M_MgSiO3*(M_SiO2*(M_FeO*(-dKFeSiO3_KFeSiO3 + 2*dKMgO_KMgO + 2*dKMgSiO3_KMgSiO3 - dKSiO2_KSiO2) + M_MgO*(2*dKMgO_KMgO + dKMgSiO3_KMgSiO3 - dKSiO2_KSiO2) + M_m*(-2*dKMgO_KMgO - 2*dKMgSiO3_KMgSiO3 + dKSiO2_KSiO2)) + M_m*(M_FeO*(3*dKFeSiO3_KFeSiO3 - 2*dKMgO_KMgO - 2*dKMgSiO3_KMgSiO3 + dKSiO2_KSiO2) + M_MgO*(-2*dKMgO_KMgO + dKMgSiO3_KMgSiO3 + dKSiO2_KSiO2)))) + M_O*(M_FeO*(2*M_MgO*M_m*dKMgO_KMgO + M_MgSiO3*(M_MgO*(-3*dKMgSiO3_KMgSiO3 - 3*dKSiO2_KSiO2) + M_SiO2*(-2*dKMgO_KMgO - 2*dKMgSiO3_KMgSiO3) + M_m*(5*dKMgO_KMgO + 5*dKMgSiO3_KMgSiO3 + 5*dKSiO2_KSiO2)) + M_SiO2*(M_MgO*(dKMgO_KMgO - dKSiO2_KSiO2) + 3*M_m*dKSiO2_KSiO2)) + M_FeSiO3*(M_FeO*(M_MgO*(-3*dKFeSiO3_KFeSiO3 - 3*dKSiO2_KSiO2) + M_m*(3*dKFeSiO3_KFeSiO3 + 3*dKSiO2_KSiO2)) + 2*M_MgO*M_m*dKMgO_KMgO + M_MgSiO3*(M_FeO*(-3*dKFeSiO3_KFeSiO3 - 3*dKSiO2_KSiO2) + M_MgO*(-3*dKMgSiO3_KMgSiO3 - 3*dKSiO2_KSiO2) + M_SiO2*(-2*dKMgO_KMgO - 2*dKMgSiO3_KMgSiO3) + M_m*(5*dKMgO_KMgO + 5*dKMgSiO3_KMgSiO3 + 5*dKSiO2_KSiO2)) + M_SiO2*(M_FeO*(-3*dKFeSiO3_KFeSiO3 - 3*dKSiO2_KSiO2) + M_MgO*(dKMgO_KMgO - dKSiO2_KSiO2) + 3*M_m*dKSiO2_KSiO2)))) + M_O*(M_FeO*(-3*M_MgO*M_SiO2*M_m*dKSiO2_KSiO2 + M_MgSiO3*(M_MgO*M_m*(-3*dKMgSiO3_KMgSiO3 - 3*dKSiO2_KSiO2) + M_SiO2*(M_MgO*(3*dKMgSiO3_KMgSiO3 + 3*dKSiO2_KSiO2) - 3*M_m*dKSiO2_KSiO2))) + M_FeSiO3*(M_MgO*(M_FeO*M_m*(-3*dKFeSiO3_KFeSiO3 - 3*dKSiO2_KSiO2) + M_SiO2*(M_FeO*(3*dKFeSiO3_KFeSiO3 + 3*dKSiO2_KSiO2) - 3*M_m*dKSiO2_KSiO2)) + M_MgSiO3*(M_SiO2*(M_FeO*(3*dKFeSiO3_KFeSiO3 + 3*dKSiO2_KSiO2) + M_MgO*(3*dKMgSiO3_KMgSiO3 + 3*dKSiO2_KSiO2) - 3*M_m*dKSiO2_KSiO2) + M_m*(M_FeO*(-3*dKFeSiO3_KFeSiO3 - 3*dKSiO2_KSiO2) + M_MgO*(-3*dKMgSiO3_KMgSiO3 - 3*dKSiO2_KSiO2)))))))"
      ]
     },
     "execution_count": 194,
     "metadata": {},
     "output_type": "execute_result"
    }
   ],
   "source": [
    "sol_scol"
   ]
  },
  {
   "cell_type": "code",
   "execution_count": null,
   "metadata": {
    "collapsed": true
   },
   "outputs": [],
   "source": []
  }
 ],
 "metadata": {
  "kernelspec": {
   "display_name": "Python 3",
   "language": "python",
   "name": "python3"
  },
  "language_info": {
   "codemirror_mode": {
    "name": "ipython",
    "version": 3
   },
   "file_extension": ".py",
   "mimetype": "text/x-python",
   "name": "python",
   "nbconvert_exporter": "python",
   "pygments_lexer": "ipython3",
   "version": "3.5.2"
  }
 },
 "nbformat": 4,
 "nbformat_minor": 2
}
