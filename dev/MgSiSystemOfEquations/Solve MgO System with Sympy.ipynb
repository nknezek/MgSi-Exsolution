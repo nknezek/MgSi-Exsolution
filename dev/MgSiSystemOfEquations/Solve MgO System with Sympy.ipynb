{
 "cells": [
  {
   "cell_type": "code",
   "execution_count": 1,
   "metadata": {
    "collapsed": true
   },
   "outputs": [],
   "source": [
    "import sympy as sym\n",
    "from sympy.solvers import solve\n",
    "from sympy import Symbol\n",
    "from sympy.abc import x,y,z,a,b,c,d,e,f,g,h,i,j,k,l\n",
    "import dill\n",
    "import time\n",
    "import numpy as np"
   ]
  },
  {
   "cell_type": "code",
   "execution_count": 2,
   "metadata": {
    "collapsed": true
   },
   "outputs": [],
   "source": [
    "# Helper functions to simplify final expressions\n",
    "def collect_by_list(expr_in, sort_list):\n",
    "    expr = sym.expand(expr_in)\n",
    "    res = expr\n",
    "    for s in sort_list:\n",
    "        res = sym.rcollect(res, s)\n",
    "    return res\n",
    "\n",
    "def get_symbol_list(expr_in, return_counts=False):\n",
    "    expr = sym.expand(expr_in)\n",
    "    syms = {}\n",
    "    for a in expr.atoms():\n",
    "        if type(a) is sym.Symbol:\n",
    "            syms[a] = expr.count(a)\n",
    "    symlist = list(sorted(syms, key=syms.__getitem__, reverse=True))\n",
    "    if return_counts:\n",
    "        countlist = list(sorted(syms.values(), reverse=True))\n",
    "        return symlist, countlist\n",
    "    else:\n",
    "        return symlist\n",
    "\n",
    "def collect_auto(expr_in, print_ops=False, syms_to_prioritize=[]):\n",
    "    slist = get_symbol_list(expr_in)\n",
    "    sort_list = syms_to_prioritize\n",
    "    for s in slist:\n",
    "        if s not in syms_to_prioritize:\n",
    "            sort_list.append(s)\n",
    "    res = collect_by_list(expr_in, sort_list)\n",
    "    if print_ops:\n",
    "        print(sym.count_ops(res))\n",
    "    return res\n",
    "\n",
    "def collect_terms_in_fraction(expr_in, terms_to_prioritize=[]):\n",
    "    numerator, denominator = sym.fraction(expr_in)\n",
    "    num_simp = collect_auto(numerator, syms_to_prioritize=terms_to_prioritize)\n",
    "    den_simp = collect_auto(denominator, syms_to_prioritize=terms_to_prioritize)\n",
    "    return num_simp/den_simp"
   ]
  },
  {
   "cell_type": "markdown",
   "metadata": {},
   "source": [
    "# Full System of Equations"
   ]
  },
  {
   "cell_type": "code",
   "execution_count": 3,
   "metadata": {
    "collapsed": true
   },
   "outputs": [],
   "source": [
    "dKMgO_KMgO = Symbol('dKMgO_KMgO')\n",
    "dKFeO_KFeO = Symbol('dKFeO_KFeO')\n",
    "dKSiO2_KSiO2 = Symbol('dKSiO2_KSiO2')\n",
    "dKMgSiO3_KMgSiO3 = Symbol('dKMgSiO3_KMgSiO3')\n",
    "dKFeSiO3_KFeSiO3 = Symbol('dKFeSiO3_KFeSiO3')\n",
    "\n",
    "dM_Mg = Symbol('dM_Mg')\n",
    "dM_Fe = Symbol('dM_Fe')\n",
    "dM_Si = Symbol('dM_Si')\n",
    "dM_O = Symbol('dM_O')\n",
    "dM_c = Symbol('dM_c')\n",
    "\n",
    "dM_MgO = Symbol('dM_MgO')\n",
    "dM_FeO = Symbol('dM_FeO')\n",
    "dM_SiO2 = Symbol('dM_SiO2')\n",
    "dM_MgSiO3 = Symbol('dM_MgSiO3')\n",
    "dM_FeSiO3 = Symbol('dM_FeSiO3')\n",
    "dM_m = Symbol('dM_m')\n",
    "\n",
    "M_Mg = Symbol('M_Mg')\n",
    "M_Fe = Symbol('M_Fe')\n",
    "M_Si = Symbol('M_Si')\n",
    "M_O = Symbol('M_O')\n",
    "M_c = Symbol('M_c')\n",
    "\n",
    "M_MgO = Symbol('M_MgO')\n",
    "M_FeO = Symbol('M_FeO')\n",
    "M_SiO2 = Symbol('M_SiO2')\n",
    "M_MgSiO3 = Symbol('M_MgSiO3')\n",
    "M_FeSiO3 = Symbol('M_FeSiO3')\n",
    "M_m = Symbol('M_m')"
   ]
  },
  {
   "cell_type": "code",
   "execution_count": 5,
   "metadata": {
    "collapsed": true
   },
   "outputs": [],
   "source": [
    "# Total Moles\n",
    "# eq_mantle_total_moles = M_MgO + M_FeO + M_SiO2 + M_MgSiO3 + M_FeSiO3 - M_m\n",
    "# eq_core_total_moles = M_Mg + M_Fe + M_Si + M_O - M_c\n",
    "eq_mantle_dtotal_moles = dM_MgO + dM_FeO + dM_SiO2 + dM_MgSiO3 + dM_FeSiO3 - dM_m\n",
    "eq_core_dtotal_moles = dM_Mg + dM_Fe + dM_Si + dM_O - dM_c\n",
    "\n",
    "# mantle interactions\n",
    "eq_K_MgSiO3 = dM_MgO/M_MgO + dM_SiO2/M_SiO2 - dM_MgSiO3/M_MgSiO3 - dM_m/M_m - dKMgSiO3_KMgSiO3\n",
    "eq_K_FeSiO3 = dM_FeO/M_FeO + dM_SiO2/M_SiO2 - dM_FeSiO3/M_FeSiO3 - dM_m/M_m - dKFeSiO3_KFeSiO3\n",
    "\n",
    "# core interactions\n",
    "eq_K_MgO = dM_Mg/M_Mg + dM_O/M_O + dM_m/M_m - 2*dM_c/M_c - dM_MgO/M_MgO - dKMgO_KMgO\n",
    "eq_K_FeO = dM_Fe/M_Fe + dM_O/M_O + dM_m/M_m - 2*dM_c/M_c - dM_FeO/M_FeO - dKFeO_KFeO\n",
    "eq_K_SiO2 = dM_Si/M_Si + 2*dM_O/M_O + dM_m/M_m - 3*dM_c/M_c - dM_SiO2/M_SiO2 - dKSiO2_KSiO2\n",
    "\n",
    "# species continuity\n",
    "eq_dM_Mg = dM_MgO + dM_MgSiO3 + dM_Mg\n",
    "eq_dM_Fe = dM_FeO + dM_FeSiO3 + dM_Fe\n",
    "eq_dM_Si = dM_SiO2 + dM_MgSiO3 + dM_FeSiO3 + dM_Si\n",
    "eq_dM_O =  dM_MgO + dM_FeO + 2*dM_SiO2 + 3*dM_MgSiO3 + 3*dM_FeSiO3 + dM_O\n",
    "\n",
    "equations = [eq_mantle_dtotal_moles, eq_core_dtotal_moles, \n",
    "            eq_K_MgSiO3, eq_K_FeSiO3,\n",
    "            eq_K_MgO, eq_K_FeO, eq_K_SiO2,\n",
    "            eq_dM_Fe, eq_dM_Mg, eq_dM_O, eq_dM_Si]\n",
    "solve_for = [dM_c, dM_Fe, dM_FeO, dM_FeSiO3, dM_m, dM_Mg, dM_MgO, dM_MgSiO3, dM_O, dM_Si, dM_SiO2]"
   ]
  },
  {
   "cell_type": "code",
   "execution_count": 8,
   "metadata": {
    "collapsed": true
   },
   "outputs": [],
   "source": [
    "start = -time.time()\n",
    "solution = solve(equations, solve_for)\n",
    "time_elapsed = start+time.time()"
   ]
  },
  {
   "cell_type": "code",
   "execution_count": 61,
   "metadata": {},
   "outputs": [
    {
     "name": "stdout",
     "output_type": "stream",
     "text": [
      "1.9 hrs to compute full solution\n"
     ]
    }
   ],
   "source": [
    "print('{:.1f} hrs to compute full solution'.format(time_elapsed/60/60))"
   ]
  },
  {
   "cell_type": "code",
   "execution_count": 12,
   "metadata": {
    "collapsed": true
   },
   "outputs": [],
   "source": [
    "# Save unsimplified full solution straight from the computation\n",
    "dill.dump(solution,open('computed_solution.m','wb'))"
   ]
  },
  {
   "cell_type": "code",
   "execution_count": 7,
   "metadata": {
    "collapsed": true
   },
   "outputs": [],
   "source": [
    "solution = dill.load(open('computed_solution.m','rb'))"
   ]
  },
  {
   "cell_type": "markdown",
   "metadata": {},
   "source": [
    "# Simplify Solution"
   ]
  },
  {
   "cell_type": "code",
   "execution_count": 8,
   "metadata": {
    "collapsed": true
   },
   "outputs": [],
   "source": [
    "# Simplify the solution using the helper functions at the top\n",
    "terms_to_prioritize = [dKMgO_KMgO, dKFeO_KFeO, dKSiO2_KSiO2, dKMgSiO3_KMgSiO3, dKFeSiO3_KFeSiO3]\n",
    "simplified = {}\n",
    "for k,v in solution.items():\n",
    "    simplified[k] = collect_terms_in_fraction(v, terms_to_prioritize=terms_to_prioritize)"
   ]
  },
  {
   "cell_type": "code",
   "execution_count": 9,
   "metadata": {},
   "outputs": [
    {
     "name": "stdout",
     "output_type": "stream",
     "text": [
      "3745 operations in full solution\n",
      "1507 operations in simplified solution\n"
     ]
    }
   ],
   "source": [
    "# Demonstrate how much simpler the solutions are compared to those computed by sympy\n",
    "print('{:.0f} operations in full solution'.format(sym.count_ops(solution[dM_Si])))\n",
    "print('{:.0f} operations in simplified solution'.format(sym.count_ops(simplified[dM_Si])))"
   ]
  },
  {
   "cell_type": "code",
   "execution_count": 10,
   "metadata": {
    "collapsed": true
   },
   "outputs": [],
   "source": [
    "# save simplified solution\n",
    "dill.dump(simplified, open('simplified_solution.m','wb'))"
   ]
  },
  {
   "cell_type": "markdown",
   "metadata": {},
   "source": [
    "# Check by plugging in random values into Variables"
   ]
  },
  {
   "cell_type": "code",
   "execution_count": 48,
   "metadata": {
    "collapsed": true
   },
   "outputs": [],
   "source": [
    "def gen_and_check_rand_values(eqns, vars_to_rand=None):\n",
    "    rand_values = gen_rand_vals(vars_to_rand=vars_to_rand)\n",
    "    results = eval_eqns(eqns, rand_values)\n",
    "    return rand_values, results\n",
    "\n",
    "def gen_rand_vals(vars_to_rand = None):\n",
    "    if vars_to_rand is None:\n",
    "        vars_to_rand = [M_Mg, M_Fe, M_Si, M_O, M_c, M_MgO, M_FeO, M_SiO2, M_MgSiO3, M_FeSiO3, M_m, dKMgO_KMgO, dKFeO_KFeO, dKSiO2_KSiO2, dKMgSiO3_KMgSiO3, dKFeSiO3_KFeSiO3]\n",
    "    rand_values = {}\n",
    "    for v in vars_to_rand:\n",
    "        rand_values[v] = np.random.rand()\n",
    "    return rand_values\n",
    "\n",
    "def eval_eqns(eqns, rand_values_dict):\n",
    "    results = {}\n",
    "    for symb in eqns.keys():\n",
    "        results[symb] = eq_rand_values[symb].subs(rand_values_dict)\n",
    "    return results\n"
   ]
  },
  {
   "cell_type": "code",
   "execution_count": 53,
   "metadata": {
    "collapsed": true
   },
   "outputs": [],
   "source": [
    "rand_values0, results0 = gen_and_check_rand_values(simplified)\n",
    "rand_values1, results1 = gen_and_check_rand_values(simplified)"
   ]
  },
  {
   "cell_type": "code",
   "execution_count": 54,
   "metadata": {
    "collapsed": true
   },
   "outputs": [],
   "source": [
    "rand_results = ((rand_values0, results0),\n",
    "(rand_values1, results1))\n",
    "dill.dump(rand_results, open('rand_results.m','wb'))"
   ]
  },
  {
   "cell_type": "markdown",
   "metadata": {},
   "source": [
    "# Import Simplified Solution"
   ]
  },
  {
   "cell_type": "code",
   "execution_count": 3,
   "metadata": {
    "collapsed": true
   },
   "outputs": [],
   "source": [
    "# open simplified solution\n",
    "simplified = dill.load(open('simplified_solution2.m','rb'))"
   ]
  },
  {
   "cell_type": "code",
   "execution_count": 7,
   "metadata": {
    "collapsed": true
   },
   "outputs": [],
   "source": [
    "eqns_file = open('eqns_funcs.py','w')\n",
    "for k,v in simplified.items():\n",
    "    eqns_file.write('\\tdef '+str(k)+'_dTc(self, Moles, dKs, dMi_b):\\n')\n",
    "    eqns_file.write('\\t\\t\\'\\'\\'compute {} given Moles, dKDs, and dMm_b/dT\\'\\'\\'\\n'.format(k))\n",
    "    eqns_file.write('\\t\\tdM_MgO_er, dM_SiO2_er, dM_FeO_er, dM_MgSiO3_er, dM_FeSiO3_er = dMi_b\\n')\n",
    "    eqns_file.write('\\t\\tM_Mg, M_Si, M_Fe, M_O, M_c, M_MgO, M_SiO2, M_FeO, M_MgSiO3, M_FeSiO3, M_m = self.unwrap_Moles(Moles)\\n')\n",
    "    eqns_file.write('\\t\\tdKMgO_KMgO, dKSiO2_KSiO2, dKFeO_KFeO, dKMgSiO3_KMgSiO3, dKFeSiO3_KFeSiO3 = dKs\\n')\n",
    "    eqns_file.write('\\t\\treturn '+str(v)+'\\n\\n')\n",
    "eqns_file.close()\n"
   ]
  },
  {
   "cell_type": "code",
   "execution_count": null,
   "metadata": {
    "collapsed": true
   },
   "outputs": [],
   "source": []
  }
 ],
 "metadata": {
  "kernelspec": {
   "display_name": "Python 3",
   "language": "python",
   "name": "python3"
  },
  "language_info": {
   "codemirror_mode": {
    "name": "ipython",
    "version": 3
   },
   "file_extension": ".py",
   "mimetype": "text/x-python",
   "name": "python",
   "nbconvert_exporter": "python",
   "pygments_lexer": "ipython3",
   "version": "3.5.2"
  }
 },
 "nbformat": 4,
 "nbformat_minor": 2
}
