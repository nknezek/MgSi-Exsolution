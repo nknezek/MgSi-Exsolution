{
 "cells": [
  {
   "cell_type": "code",
   "execution_count": 6,
   "metadata": {},
   "outputs": [
    {
     "name": "stdout",
     "output_type": "stream",
     "text": [
      "Using matplotlib backend: TkAgg\n",
      "Populating the interactive namespace from numpy and matplotlib\n"
     ]
    }
   ],
   "source": [
    "%pylab"
   ]
  },
  {
   "cell_type": "code",
   "execution_count": 7,
   "metadata": {},
   "outputs": [],
   "source": [
    "import pandas as pd"
   ]
  },
  {
   "cell_type": "code",
   "execution_count": 8,
   "metadata": {},
   "outputs": [],
   "source": [
    "data = pd.read_csv('run_data.csv')"
   ]
  },
  {
   "cell_type": "code",
   "execution_count": 9,
   "metadata": {},
   "outputs": [
    {
     "data": {
      "text/plain": [
       "Index(['date', 'time', 'T_cmb0', 'deltaT0', 'r_i', 'X_Mg_0', 'X_Si_0', 'X_O_0',\n",
       "       'fraction_MgFe_b', 'X_MgFeO_b', 'X_SiO2_b', 'nu_present',\n",
       "       'layer_thickness', 'overturn', 'ratio_ri'],\n",
       "      dtype='object')"
      ]
     },
     "execution_count": 9,
     "metadata": {},
     "output_type": "execute_result"
    }
   ],
   "source": [
    "data.columns"
   ]
  },
  {
   "cell_type": "code",
   "execution_count": 41,
   "metadata": {},
   "outputs": [],
   "source": [
    "tmp1 = np.where(( data['ratio_ri'] <1.05) & ( data['ratio_ri'] > 0.95)) "
   ]
  },
  {
   "cell_type": "code",
   "execution_count": 18,
   "metadata": {},
   "outputs": [],
   "source": [
    "#Tc{:d}_dT{:d}_XM{:.2f}_XS{:.2f}_XO{:.2f}_fMb{:.2f}_Xmb{:.2f}_XSb{:.2f}_nu{:.0e}_lthck{:.0e}_ovt{:.0e}/'.\n",
    "#format(T_cmb0, deltaT0,X_Mg_0, X_Si_0, X_O_0, fraction_MgFe_b, X_MgFeO_b, X_SiO2_b, nu_present,layer_thickness,overturn\n",
    "\n"
   ]
  },
  {
   "cell_type": "code",
   "execution_count": 42,
   "metadata": {},
   "outputs": [
    {
     "name": "stdout",
     "output_type": "stream",
     "text": [
      "Tc5250_dT2800_XM0.05_XS0.05_XO0.16_fMb0.80_Xmb0.05_XSb0.01_nu2e+17_lthck1e+02_ovt8e+02/\n",
      "Tc5500_dT2800_XM0.00_XS0.00_XO0.16_fMb0.80_Xmb0.05_XSb0.01_nu2e+17_lthck3e+01_ovt8e+02/\n",
      "Tc5250_dT2400_XM0.01_XS0.01_XO0.16_fMb0.80_Xmb0.05_XSb0.01_nu2e+17_lthck1e+02_ovt8e+02/\n",
      "Tc5250_dT2400_XM0.01_XS0.03_XO0.16_fMb0.80_Xmb0.05_XSb0.01_nu2e+17_lthck1e+02_ovt8e+02/\n",
      "Tc5250_dT2400_XM0.01_XS0.05_XO0.16_fMb0.80_Xmb0.05_XSb0.01_nu2e+17_lthck1e+02_ovt8e+02/\n",
      "Tc5250_dT2400_XM0.03_XS0.01_XO0.16_fMb0.80_Xmb0.05_XSb0.01_nu2e+17_lthck1e+02_ovt8e+02/\n",
      "Tc5250_dT2400_XM0.05_XS0.01_XO0.16_fMb0.80_Xmb0.05_XSb0.01_nu2e+17_lthck1e+02_ovt8e+02/\n",
      "Tc5250_dT2400_XM0.00_XS0.05_XO0.16_fMb0.80_Xmb0.05_XSb0.01_nu2e+17_lthck3e+01_ovt8e+02/\n"
     ]
    }
   ],
   "source": [
    "fraction_MgFe_b = 0.8\n",
    "X_MgFeO_b = 0.05\n",
    "X_SiO2_b = 0.01\n",
    "\n",
    "for i in range(0,tmp1[0].shape[0]):\n",
    "    T_cmb0, deltaT0,X_Mg_0, X_Si_0, X_O_0, fraction_MgFe_b, X_MgFeO_b, X_SiO2_b, nu_present,layer_thickness,overturn = data.loc[tmp1[0][i],['T_cmb0', 'deltaT0','X_Mg_0', 'X_Si_0', 'X_O_0', 'fraction_MgFe_b','X_MgFeO_b','X_SiO2_b','nu_present','layer_thickness','overturn']]\n",
    "    print('Tc{:d}_dT{:d}_XM{:.2f}_XS{:.2f}_XO{:.2f}_fMb{:.2f}_Xmb{:.2f}_XSb{:.2f}_nu{:.0e}_lthck{:.0e}_ovt{:.0e}/'.format(T_cmb0, deltaT0,X_Mg_0, X_Si_0, X_O_0, fraction_MgFe_b, X_MgFeO_b, X_SiO2_b, nu_present,layer_thickness,overturn))"
   ]
  },
  {
   "cell_type": "code",
   "execution_count": null,
   "metadata": {},
   "outputs": [],
   "source": []
  }
 ],
 "metadata": {
  "kernelspec": {
   "display_name": "Python 3",
   "language": "python",
   "name": "python3"
  }
 },
 "nbformat": 4,
 "nbformat_minor": 2
}
