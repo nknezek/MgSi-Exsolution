{
 "cells": [
  {
   "cell_type": "code",
   "execution_count": 286,
   "metadata": {},
   "outputs": [],
   "source": [
    "import numpy as np\n",
    "import matplotlib.pyplot as plt\n",
    "%matplotlib inline"
   ]
  },
  {
   "cell_type": "code",
   "execution_count": 223,
   "metadata": {},
   "outputs": [],
   "source": [
    "class XData():\n",
    "    def __init__(self, X0):\n",
    "        self.X = X0\n",
    "        self.names = ['Ni','Co','Cr','V','Si','O']\n",
    "\n",
    "    def __getitem__(self,key):\n",
    "        if type(key)==str:\n",
    "            if key in self.names:\n",
    "                i = self.names.index(key)\n",
    "        else:\n",
    "            i = key\n",
    "        return self.X[i]\n",
    "    \n",
    "    def __setitem__(self,key,value):\n",
    "        if type(key)==str:\n",
    "            if key in self.names:\n",
    "                i = self.names.index(key)\n",
    "        else:\n",
    "            i = key\n",
    "        self.X[i] = value   \n",
    "\n",
    "class EpsilonData():\n",
    "    def __init__(self, ep_ij):\n",
    "        self.names = ['Ni','Co','Cr','V','Si','O']\n",
    "        self.ep_ij = ep_ij\n",
    "        self.T0 = 1873\n",
    "        self.T = self.T0\n",
    "    def set_T(self,T):\n",
    "        self.T = T\n",
    "        \n",
    "    def __getitem__(self,key):\n",
    "        if type(key[0])==str:\n",
    "            if key[0] in self.names:\n",
    "                i = self.names.index(key[0])\n",
    "        else:\n",
    "            i = key[0]\n",
    "        if type(key[1])==str:\n",
    "            if key[1] in self.names:\n",
    "                j = self.names.index(key[1])\n",
    "        else:\n",
    "            j = key[1]            \n",
    "        return self.ep02T(self.ep_ij[i,j],self.T)\n",
    "    \n",
    "    def __setitem__(self,key,value):\n",
    "        if type(key[0])==str:\n",
    "            if key[0] in self.names:\n",
    "                i = self.names.index(key[0])\n",
    "        else:\n",
    "            i = key[0]\n",
    "        if type(key[1])==str:\n",
    "            if key[1] in self.names:\n",
    "                j = self.names.index(key[1])\n",
    "        else:\n",
    "            j = key[1]\n",
    "        self.ep_ij[i,j] = value\n",
    "        \n",
    "    def ep02T(self, ep_T0, T):\n",
    "        return self.T0/T*ep_T0\n",
    "\n",
    "class Fits():\n",
    "    def __init__(self, fits):\n",
    "        self.fits = fits\n",
    "        self.names = ['Ni','Co','Cr','V','Si','O']\n",
    "\n",
    "    def __getitem__(self,key):\n",
    "        if type(key)==str:\n",
    "            if key in self.names:\n",
    "                i = self.names.index(key)\n",
    "        else:\n",
    "            i = key\n",
    "        return self.fits[i]\n",
    "    \n",
    "    def __setitem__(self,key,value):\n",
    "        if type(key)==str:\n",
    "            if key in self.names:\n",
    "                i = self.names.index(key)\n",
    "        else:\n",
    "            i = key\n",
    "        self.fits[i] = value   \n",
    "\n",
    "class FitData():\n",
    "    def __init__(self,a=0,b=0,c=0,ep_i_O=0,ep_i_Si=0, ln_gamma_i0_a=0,ln_gamma_i0_b=0):\n",
    "        self.a = a\n",
    "        self.b = b\n",
    "        self.c = c\n",
    "        self.ep_i_j = {'Ni':0,'Co':0,'Cr':0,'V':0,'O':ep_i_O,'Si':ep_i_Si}\n",
    "        self.ln_gamma_i0_a = ln_gamma_i0_a\n",
    "        self.ln_gamma_i0_b = ln_gamma_i0_b  \n",
    "    \n",
    "    def ln_gamma_i0(self,T):\n",
    "        return self.ln_gamma_i0_a+self.ln_gamma_i0_b/T"
   ]
  },
  {
   "cell_type": "code",
   "execution_count": 281,
   "metadata": {},
   "outputs": [],
   "source": [
    "def all_logD(T,X,ep,fits,P,X_FeO):\n",
    "    lDs = []\n",
    "    for n in names:\n",
    "        lDs.append(log_D(n,T,X,ep,fits,P,X_FeO))\n",
    "    return np.array(lDs)\n",
    "\n",
    "def log_D(i, T, X, ep, fits, P, X_FeO):\n",
    "    X_Fe = 1-np.sum(X.X)\n",
    "    if type(i) is str:\n",
    "        ii = names.index(i)\n",
    "    else:\n",
    "        ii = i\n",
    "    n = valence[ii]\n",
    "    f = fits[i]\n",
    "    return f.a + f.b/T + f.c*P/T - n/2*np.log(X_FeO/X_Fe) - ln_gamma(i,T,X,ep,fits) + n/2*ln_gamma_Fe(T,X,ep)\n",
    "\n",
    "def ln_gamma_Fe(T, X, ep):\n",
    "    ep.set_T(T)\n",
    "    s1 = 0\n",
    "    for i in names:\n",
    "        s1 += ep[i,i]*(X[i]+np.log(1-X[i]))\n",
    "    s2 = 0\n",
    "    for j in range(N-1):\n",
    "        for k in range(j+1,N-1):\n",
    "            if X[j]!=0. and X[k]!=0.:\n",
    "                s2 += ep[j,k]*X[j]*X[k] * (1 + np.log(1-X[j])/X[j] + np.log(1-X[k])/X[k] )\n",
    "    s3 = 0\n",
    "    for i in range(N-1):\n",
    "        for k in range(N-1):\n",
    "            if not i==k:\n",
    "                if X[k]!=0.:\n",
    "                    s3 += ep[i,k]*X[i]*X[k]*(1+np.log(1-X[k])/X[k] - 1/(1-X[i]) )\n",
    "    s4 = 0\n",
    "    for j in range(N-2):\n",
    "        for k in range(j+1,N-1):\n",
    "            s4 += 0.5*ep[j,k]*X[j]**2 * X[k] **2 * ( 1/(1-X[j]) + 1/(1-X[k]) -1)\n",
    "    s5 = 0\n",
    "    for i in range(N-1):\n",
    "        for k in range(N-1):\n",
    "            if not i==k:\n",
    "                s5 += ep[i,k]*X[i]**2*X[k]**2*(1/(1-X[i]) + 1/(1-X[k]) + X[i] / (2*(1-X[i])**2) -1)\n",
    "    return s1-s2+s3+s4-s5\n",
    "        \n",
    "def ln_gamma(i, T, X, ep, fits):\n",
    "    if type(i) is str:\n",
    "        ii = names.index(i)\n",
    "    else:\n",
    "        ii = i\n",
    "    ep.set_T(T)\n",
    "    s1 = ln_gamma_Fe(T,X,ep)\n",
    "    s2 = fits[i].ln_gamma_i0(T)\n",
    "    s3 = ep[i,i]*np.log(1-X[i])\n",
    "    s4 =0\n",
    "    for j in range(N-1):\n",
    "        if not j==ii:\n",
    "            if X[j]!=0.:\n",
    "                s4 += ep[i,j]*X[j]*(1+np.log(1-X[j])/X[j] - 1/(1-X[i]))\n",
    "    s5 = 0\n",
    "    for j in range(N-1):\n",
    "        if not j==ii:\n",
    "            s5 += ep[i,j]*X[j]**2*X[i]*(1/(1-X[i]) + 1/(1-X[j]) + X[i]/(2*(1-X[i])**2) - 1)\n",
    "    return s1+s2-s3-s4+s5\n",
    "            \n",
    "def ep_T(ep_T0,T):\n",
    "    T0 = 1873\n",
    "    return T0/T*ep_T0\n"
   ]
  },
  {
   "cell_type": "code",
   "execution_count": 275,
   "metadata": {},
   "outputs": [],
   "source": [
    "names = ['Ni','Co','Cr','V','Si','O']\n",
    "valence = [10, 9,6, 5,4,6]\n",
    "N = len(names) + 1\n",
    "\n",
    "eparr = np.zeros((len(names),len(names)))\n",
    "ep = EpsilonData(eparr)\n",
    "\n",
    "ep['Ni','O'] = 1.4\n",
    "ep['Co','O'] = 1.89\n",
    "ep['Cr','O'] = -7.2\n",
    "ep['V','O'] = -21.1\n",
    "ep['Si','O'] = -5\n",
    "ep['O','O'] = -1\n",
    "\n",
    "ep['Ni','Si'] = 1.16\n",
    "ep['Co','Si'] = 0\n",
    "ep['Cr','Si'] = 0\n",
    "ep['V','Si'] = 2.\n",
    "ep['Si','Si'] = 12.41\n",
    "ep['O','Si'] = -5\n",
    "\n",
    "fits = Fits([None]*(N-1))\n",
    "fits['Ni'] = FitData(.304, 2916, -60, 1.4, 1.16, 0, -0.42*1873) # Nickel\n",
    "fits['Co'] = FitData(.287, 1360, -35, 1.89, 0, 0, -0.6*1873) # Cobalt\n",
    "fits['Cr'] = FitData(.082, -3379, 0, -7.2, 2, 0, -2.53*1873) # Chromium\n",
    "fits['V'] = FitData(-1.238, -5288, 0, -21.1, 2, 0, -2.53*1873) # Vanadium\n",
    "fits['Si'] = FitData(.364, -16520,0,-5,12.41,0,-6.65*1873) # Silicon\n",
    "fits['O'] = FitData(2.736, 11439, 0,-1,-5, 4.29, -16500) # Oxygen\n"
   ]
  },
  {
   "cell_type": "code",
   "execution_count": 276,
   "metadata": {},
   "outputs": [
    {
     "data": {
      "text/plain": [
       "-6.64998759"
      ]
     },
     "execution_count": 276,
     "metadata": {},
     "output_type": "execute_result"
    }
   ],
   "source": [
    "X0 = np.array([0, 0, 0, 0, 0.000001, 0])\n",
    "X = XData(X0)\n",
    "T = 1873\n",
    "ln_gamma('Si',T,X,ep,fits)"
   ]
  },
  {
   "cell_type": "code",
   "execution_count": 277,
   "metadata": {},
   "outputs": [
    {
     "data": {
      "text/plain": [
       "0.16499953175000004"
      ]
     },
     "execution_count": 277,
     "metadata": {},
     "output_type": "execute_result"
    }
   ],
   "source": [
    "X0 = np.array([0, 0, 0, 0, 0, 0.000001])\n",
    "X = XData(X0)\n",
    "T = 4000\n",
    "ln_gamma('O',T,X,ep,fits)"
   ]
  },
  {
   "cell_type": "code",
   "execution_count": 278,
   "metadata": {},
   "outputs": [
    {
     "data": {
      "text/plain": [
       "13.459947876523048"
      ]
     },
     "execution_count": 278,
     "metadata": {},
     "output_type": "execute_result"
    }
   ],
   "source": [
    "X_FeO = .06\n",
    "X0 = np.array([0, 0, 0, 0, 0.05, 0.15])\n",
    "X = XData(X0)\n",
    "T = 4000\n",
    "P = 135e9 # Pa\n",
    "\n",
    "log_D('O',T, X, ep, fits, P, X_FeO)"
   ]
  },
  {
   "cell_type": "code",
   "execution_count": 298,
   "metadata": {},
   "outputs": [],
   "source": [
    "import sys\n",
    "sys.path.append('../')\n",
    "import mg_si\n",
    "re = mg_si.reactions.MgSi()\n"
   ]
  },
  {
   "cell_type": "code",
   "execution_count": 316,
   "metadata": {},
   "outputs": [],
   "source": [
    "Ts = np.linspace(4800,6000, 1000)\n",
    "X0 = np.array([0, 0, 0, 0, 0.05, 0.15])\n",
    "P = 139\n",
    "lDs = np.zeros((len(Ts),len(names)))\n",
    "DFeO = np.zeros((len(Ts)))\n",
    "DSiO2 = np.zeros((len(Ts)))\n",
    "for i,T in enumerate(Ts):\n",
    "    lDs[i,:] = all_logD(T,X,ep,fits, P, X_FeO)\n",
    "    DFeO[i],_ = re.func_KD_FeO_val(T)\n",
    "    DSiO2[i],_ = re.func_KD_SiO2_val(X0[-2],X0[-1],T)"
   ]
  },
  {
   "cell_type": "code",
   "execution_count": 317,
   "metadata": {},
   "outputs": [
    {
     "data": {
      "image/png": "[encoded data removed]",
      "text/plain": [
       "<Figure size 432x288 with 1 Axes>"
      ]
     },
     "metadata": {},
     "output_type": "display_data"
    }
   ],
   "source": [
    "plt.plot(Ts, lDs[:,5])\n",
    "plt.plot(Ts,np.log10(DFeO))\n",
    "plt.grid()"
   ]
  },
  {
   "cell_type": "code",
   "execution_count": 318,
   "metadata": {},
   "outputs": [
    {
     "data": {
      "image/png": "[encoded data removed]",
      "text/plain": [
       "<Figure size 432x288 with 1 Axes>"
      ]
     },
     "metadata": {},
     "output_type": "display_data"
    }
   ],
   "source": [
    "plt.plot(Ts, lDs[:,4])\n",
    "plt.plot(Ts,np.log10(DSiO2))\n",
    "plt.grid()"
   ]
  },
  {
   "cell_type": "code",
   "execution_count": null,
   "metadata": {},
   "outputs": [],
   "source": []
  }
 ],
 "metadata": {
  "kernelspec": {
   "display_name": "Python 3",
   "language": "python",
   "name": "python3"
  },
  "language_info": {
   "codemirror_mode": {
    "name": "ipython",
    "version": 3
   },
   "file_extension": ".py",
   "mimetype": "text/x-python",
   "name": "python",
   "nbconvert_exporter": "python",
   "pygments_lexer": "ipython3",
   "version": "3.6.5"
  }
 },
 "nbformat": 4,
 "nbformat_minor": 2
}
