{
 "cells": [
  {
   "cell_type": "code",
   "execution_count": 68,
   "metadata": {
    "collapsed": true
   },
   "outputs": [],
   "source": [
    "import numpy as np"
   ]
  },
  {
   "cell_type": "code",
   "execution_count": 69,
   "metadata": {
    "collapsed": true
   },
   "outputs": [],
   "source": [
    "M_Mg = 24.305 #amu\n",
    "M_O = 16 #amu\n",
    "M_Fe = 55.85 #amu\n",
    "M_Si = 28.0855 #amu"
   ]
  },
  {
   "cell_type": "code",
   "execution_count": 70,
   "metadata": {},
   "outputs": [
    {
     "name": "stdout",
     "output_type": "stream",
     "text": [
      "1.7530754639425337 1.5228442287957025 1.0630299784049337 0.8456190947169545\n"
     ]
    }
   ],
   "source": [
    "# Covalent Radii [wikipedia]\n",
    "# R_Mg = 150 #pm\n",
    "# R_O = 60 #pm\n",
    "# R_Fe = 140 #pm\n",
    "# R_Si = 110 #pm\n",
    "\n",
    "# Los Alamos Vanderwaals Radii\n",
    "R_Mg = 173 #pm\n",
    "R_O = 152 #pm\n",
    "R_Fe = 194 #pm\n",
    "R_Si = 210 #pm\n",
    "\n",
    "# Theoretical Covalent Radii [wikipedia]\n",
    "# R_Mg = 145 #pm\n",
    "# R_O = 48 #pm\n",
    "# R_Fe = 156 #pm\n",
    "# R_Si = 111 #pm\n",
    "\n",
    "packing_dens = 0.6 #0.6-0.7\n",
    "C_amupm = 1.6e6 # g/cc\n",
    "\n",
    "V_Mg = R_Mg**3*4/3*np.pi\n",
    "V_Fe = R_Fe**3*4/3*np.pi\n",
    "V_O = R_O**3*4/3*np.pi\n",
    "V_Si = R_Si**3*4/3*np.pi\n",
    "\n",
    "rho_Fe = M_Fe/V_Fe*packing_dens*C_amupm\n",
    "rho_FeO = (M_Fe+M_O)/(V_Fe+V_O)*packing_dens*C_amupm\n",
    "rho_MgO = (M_Mg+M_O)/(V_Mg+V_O)*packing_dens*C_amupm\n",
    "rho_SiO2 = (M_Si+2*M_O)/(V_Si+2*V_O)*packing_dens*C_amupm\n",
    "\n",
    "print(rho_Fe, rho_FeO, rho_MgO, rho_SiO2)"
   ]
  },
  {
   "cell_type": "code",
   "execution_count": 71,
   "metadata": {
    "collapsed": true
   },
   "outputs": [],
   "source": [
    "prem_MgO = 5.1\n",
    "prem_FeO = 7.8"
   ]
  },
  {
   "cell_type": "code",
   "execution_count": 72,
   "metadata": {},
   "outputs": [],
   "source": [
    "wtp1 = 0.01\n",
    "wtp2 = 0.00\n",
    "rho_mix1 = rho_FeO*wtp1 + rho_Fe*(1-wtp1)\n",
    "rho_mix2 = rho_FeO*wtp2 + rho_Fe*(1-wtp2)\n",
    "dFe = (rho_mix2-rho_mix1)/rho_mix1*100"
   ]
  },
  {
   "cell_type": "code",
   "execution_count": 73,
   "metadata": {},
   "outputs": [],
   "source": [
    "wtp1 = 0.01\n",
    "wtp2 = 0.00\n",
    "rho_mix1 = rho_MgO*wtp1 + rho_Fe*(1-wtp1)\n",
    "rho_mix2 = rho_MgO*wtp2 + rho_Fe*(1-wtp2)\n",
    "dMg = (rho_mix2-rho_mix1)/rho_mix1*100"
   ]
  },
  {
   "cell_type": "code",
   "execution_count": 74,
   "metadata": {},
   "outputs": [],
   "source": [
    "wtp1 = 0.01\n",
    "wtp2 = 0.00\n",
    "rho_mix1 = rho_SiO2*wtp1 + rho_Fe*(1-wtp1)\n",
    "rho_mix2 = rho_SiO2*wtp2 + rho_Fe*(1-wtp2)\n",
    "dSi = (rho_mix2-rho_mix1)/rho_mix1*100"
   ]
  },
  {
   "cell_type": "code",
   "execution_count": 75,
   "metadata": {},
   "outputs": [
    {
     "name": "stdout",
     "output_type": "stream",
     "text": [
      "1.117 0.8483285345260495 0.2822984477216847\n"
     ]
    }
   ],
   "source": [
    "Cd = 1.117/dSi\n",
    "print(dSi*Cd, dMg*Cd, dFe*Cd)"
   ]
  },
  {
   "cell_type": "code",
   "execution_count": null,
   "metadata": {
    "collapsed": true
   },
   "outputs": [],
   "source": []
  }
 ],
 "metadata": {
  "kernelspec": {
   "display_name": "Python 3",
   "language": "python",
   "name": "python3"
  },
  "language_info": {
   "codemirror_mode": {
    "name": "ipython",
    "version": 3
   },
   "file_extension": ".py",
   "mimetype": "text/x-python",
   "name": "python",
   "nbconvert_exporter": "python",
   "pygments_lexer": "ipython3",
   "version": "3.5.2"
  }
 },
 "nbformat": 4,
 "nbformat_minor": 2
}
