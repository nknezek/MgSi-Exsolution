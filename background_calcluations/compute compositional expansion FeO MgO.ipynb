{
 "cells": [
  {
   "cell_type": "code",
   "execution_count": 1,
   "metadata": {},
   "outputs": [],
   "source": [
    "import numpy as np"
   ]
  },
  {
   "cell_type": "code",
   "execution_count": 2,
   "metadata": {},
   "outputs": [],
   "source": [
    "M_Mg = 24.305 #amu\n",
    "M_O = 16 #amu\n",
    "M_Fe = 55.85 #amu\n",
    "M_Si = 28.0855 #amu"
   ]
  },
  {
   "cell_type": "code",
   "execution_count": 34,
   "metadata": {},
   "outputs": [
    {
     "name": "stdout",
     "output_type": "stream",
     "text": [
      "den Fe: 1.7530754639425337\n",
      "den Mg: 1.0758208075609121\n",
      "den Si: 0.695035359254799\n",
      "den O: 1.044171517587883\n",
      "den FeO: 1.5228442287957025\n",
      "den MgO: 1.0630299784049337\n",
      "den SiO2: 0.8456190947169545\n"
     ]
    }
   ],
   "source": [
    "# Covalent Radii [wikipedia]\n",
    "# R_Mg = 150 #pm\n",
    "# R_O = 60 #pm\n",
    "# R_Fe = 140 #pm\n",
    "# R_Si = 110 #pm\n",
    "\n",
    "# Los Alamos Vanderwaals Radii\n",
    "R_Mg = 173 #pm\n",
    "R_O = 152 #pm\n",
    "R_Fe = 194 #pm\n",
    "R_Si = 210 #pm\n",
    "\n",
    "# Theoretical Covalent Radii [wikipedia]\n",
    "# R_Mg = 145 #pm\n",
    "# R_O = 48 #pm\n",
    "# R_Fe = 156 #pm\n",
    "# R_Si = 111 #pm\n",
    "\n",
    "packing_dens = 0.6 #0.6-0.7\n",
    "C_amupm = 1.6e6 # g/cc\n",
    "\n",
    "V_Mg = R_Mg**3*4/3*np.pi\n",
    "V_Fe = R_Fe**3*4/3*np.pi\n",
    "V_O = R_O**3*4/3*np.pi\n",
    "V_Si = R_Si**3*4/3*np.pi\n",
    "\n",
    "rho_Fe = M_Fe/V_Fe*packing_dens*C_amupm\n",
    "rho_FeO = (M_Fe+M_O)/(V_Fe+V_O)*packing_dens*C_amupm\n",
    "rho_MgO = (M_Mg+M_O)/(V_Mg+V_O)*packing_dens*C_amupm\n",
    "rho_SiO2 = (M_Si+2*M_O)/(V_Si+2*V_O)*packing_dens*C_amupm\n",
    "rho_Si = M_Si/V_Si*packing_dens*C_amupm\n",
    "rho_Mg = M_Mg/V_Mg*packing_dens*C_amupm\n",
    "rho_O = M_O/V_O*packing_dens*C_amupm\n",
    "\n",
    "print('den Fe: {}'.format(rho_Fe))\n",
    "print('den Mg: {}'.format(rho_Mg))\n",
    "print('den Si: {}'.format(rho_Si))\n",
    "print('den O: {}'.format(rho_O))\n",
    "print('den FeO: {}'.format(rho_FeO))\n",
    "print('den MgO: {}'.format(rho_MgO))\n",
    "print('den SiO2: {}'.format(rho_SiO2))\n"
   ]
  },
  {
   "cell_type": "code",
   "execution_count": 35,
   "metadata": {},
   "outputs": [],
   "source": [
    "prem_MgO = 5.1\n",
    "prem_FeO = 7.8"
   ]
  },
  {
   "cell_type": "code",
   "execution_count": 36,
   "metadata": {},
   "outputs": [],
   "source": [
    "wtp1 = 0.01\n",
    "wtp2 = 0.00\n",
    "rho_mix1 = rho_FeO*wtp1 + rho_Fe*(1-wtp1)\n",
    "rho_mix2 = rho_FeO*wtp2 + rho_Fe*(1-wtp2)\n",
    "dFeO = (rho_mix2-rho_mix1)/rho_mix1*100"
   ]
  },
  {
   "cell_type": "code",
   "execution_count": 37,
   "metadata": {},
   "outputs": [],
   "source": [
    "wtp1 = 0.01\n",
    "wtp2 = 0.00\n",
    "rho_mix1 = rho_MgO*wtp1 + rho_Fe*(1-wtp1)\n",
    "rho_mix2 = rho_MgO*wtp2 + rho_Fe*(1-wtp2)\n",
    "dMgO = (rho_mix2-rho_mix1)/rho_mix1*100"
   ]
  },
  {
   "cell_type": "code",
   "execution_count": 38,
   "metadata": {},
   "outputs": [],
   "source": [
    "wtp1 = 0.01\n",
    "wtp2 = 0.00\n",
    "rho_mix1 = rho_SiO2*wtp1 + rho_Fe*(1-wtp1)\n",
    "rho_mix2 = rho_SiO2*wtp2 + rho_Fe*(1-wtp2)\n",
    "dSiO2 = (rho_mix2-rho_mix1)/rho_mix1*100"
   ]
  },
  {
   "cell_type": "code",
   "execution_count": 43,
   "metadata": {},
   "outputs": [
    {
     "name": "stdout",
     "output_type": "stream",
     "text": [
      "1.117 0.8483285345260495 0.2822984477216847\n"
     ]
    }
   ],
   "source": [
    "Cd = 1.117/dSiO2\n",
    "print(dSiO2*Cd, dMgO*Cd, dFeO*Cd)"
   ]
  },
  {
   "cell_type": "markdown",
   "metadata": {
    "collapsed": true
   },
   "source": [
    "# pure Si, O, Mg"
   ]
  },
  {
   "cell_type": "code",
   "execution_count": 44,
   "metadata": {},
   "outputs": [
    {
     "name": "stdout",
     "output_type": "stream",
     "text": [
      "0.6071983371531132 1.3034809793556557\n"
     ]
    }
   ],
   "source": [
    "wtp1 = 0.01\n",
    "wtp2 = 0.00\n",
    "rho_mix1 = rho_Si*wtp1 + rho_Fe*(1-wtp1)\n",
    "rho_mix2 = rho_Si*wtp2 + rho_Fe*(1-wtp2)\n",
    "dSi_pure = (rho_mix2-rho_mix1)/rho_mix1*100\n",
    "print(dSi_pure, dSi_pure*Cd)"
   ]
  },
  {
   "cell_type": "code",
   "execution_count": 45,
   "metadata": {},
   "outputs": [
    {
     "name": "stdout",
     "output_type": "stream",
     "text": [
      "0.38782198073528484 0.8325427530560019\n"
     ]
    }
   ],
   "source": [
    "wtp1 = 0.01\n",
    "wtp2 = 0.00\n",
    "rho_mix1 = rho_Mg*wtp1 + rho_Fe*(1-wtp1)\n",
    "rho_mix2 = rho_Mg*wtp2 + rho_Fe*(1-wtp2)\n",
    "dMg_pure = (rho_mix2-rho_mix1)/rho_mix1*100\n",
    "print(dMg_pure, dMg_pure*Cd)"
   ]
  },
  {
   "cell_type": "code",
   "execution_count": 46,
   "metadata": {},
   "outputs": [
    {
     "name": "stdout",
     "output_type": "stream",
     "text": [
      "0.4060191628157685 0.8716068928410238\n"
     ]
    }
   ],
   "source": [
    "wtp1 = 0.01\n",
    "wtp2 = 0.00\n",
    "rho_mix1 = rho_O*wtp1 + rho_Fe*(1-wtp1)\n",
    "rho_mix2 = rho_O*wtp2 + rho_Fe*(1-wtp2)\n",
    "dO_pure = (rho_mix2-rho_mix1)/rho_mix1*100\n",
    "print(dO_pure, dO_pure*Cd)"
   ]
  },
  {
   "cell_type": "code",
   "execution_count": null,
   "metadata": {},
   "outputs": [],
   "source": []
  },
  {
   "cell_type": "code",
   "execution_count": null,
   "metadata": {},
   "outputs": [],
   "source": []
  },
  {
   "cell_type": "code",
   "execution_count": null,
   "metadata": {},
   "outputs": [],
   "source": []
  },
  {
   "cell_type": "code",
   "execution_count": null,
   "metadata": {},
   "outputs": [],
   "source": []
  }
 ],
 "metadata": {
  "kernelspec": {
   "display_name": "Python 3",
   "language": "python",
   "name": "python3"
  },
  "language_info": {
   "codemirror_mode": {
    "name": "ipython",
    "version": 3
   },
   "file_extension": ".py",
   "mimetype": "text/x-python",
   "name": "python",
   "nbconvert_exporter": "python",
   "pygments_lexer": "ipython3",
   "version": "3.6.4"
  }
 },
 "nbformat": 4,
 "nbformat_minor": 2
}
