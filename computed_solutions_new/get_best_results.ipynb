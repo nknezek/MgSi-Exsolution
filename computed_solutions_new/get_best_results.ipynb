{
 "cells": [
  {
   "cell_type": "code",
   "execution_count": 19,
   "metadata": {},
   "outputs": [
    {
     "name": "stdout",
     "output_type": "stream",
     "text": [
      "Using matplotlib backend: TkAgg\n",
      "Populating the interactive namespace from numpy and matplotlib\n"
     ]
    }
   ],
   "source": [
    "%pylab"
   ]
  },
  {
   "cell_type": "code",
   "execution_count": 20,
   "metadata": {},
   "outputs": [],
   "source": [
    "import pandas as pd"
   ]
  },
  {
   "cell_type": "code",
   "execution_count": 21,
   "metadata": {},
   "outputs": [],
   "source": [
    "names = np.array(['time', 'T_cmb0', 'T_um0', 'r_i', 'wpms','wpss','wpos', 'fraction_MgFe_b', 'X_MgFeO_b','X_SiO2_b', 'nu_present','layer_thickness','overturn','X_Mg_0', 'X_Si_0', 'X_O_0'])\n",
    "data = pd.read_csv('run_data.csv',names = names)\n",
    "data['ratio_ri'] = data['r_i']/1290./1e3"
   ]
  },
  {
   "cell_type": "code",
   "execution_count": 22,
   "metadata": {},
   "outputs": [
    {
     "data": {
      "text/plain": [
       "Index(['time', 'T_cmb0', 'T_um0', 'r_i', 'wpms', 'wpss', 'wpos',\n",
       "       'fraction_MgFe_b', 'X_MgFeO_b', 'X_SiO2_b', 'nu_present',\n",
       "       'layer_thickness', 'overturn', 'X_Mg_0', 'X_Si_0', 'X_O_0', 'ratio_ri'],\n",
       "      dtype='object')"
      ]
     },
     "execution_count": 22,
     "metadata": {},
     "output_type": "execute_result"
    }
   ],
   "source": [
    "data.columns"
   ]
  },
  {
   "cell_type": "code",
   "execution_count": 23,
   "metadata": {},
   "outputs": [],
   "source": [
    "tmp1 = np.where(( data['ratio_ri'] <1.1) & ( data['ratio_ri'] > 0.9)) "
   ]
  },
  {
   "cell_type": "code",
   "execution_count": 27,
   "metadata": {},
   "outputs": [
    {
     "name": "stdout",
     "output_type": "stream",
     "text": [
      "cp -r Tc6000_WtMg0.02_WtSi0.00_WtO0.03_fMb0.80_Xmb0.16_XSb0.01_nu6e+16_lthck1e+02_ovt8e+02/ best_results/\n",
      "cp -r Tc6000_WtMg0.00_WtSi0.00_WtO0.03_fMb0.80_Xmb0.16_XSb0.01_nu2e+17_lthck1e+02_ovt8e+02/ best_results/\n",
      "cp -r Tc5750_WtMg0.00_WtSi0.01_WtO0.03_fMb0.80_Xmb0.16_XSb0.01_nu2e+17_lthck1e+02_ovt8e+02/ best_results/\n",
      "cp -r Tc5750_WtMg0.00_WtSi0.00_WtO0.03_fMb0.80_Xmb0.16_XSb0.01_nu2e+17_lthck1e+02_ovt8e+02/ best_results/\n",
      "cp -r Tc5750_WtMg0.00_WtSi0.01_WtO0.03_fMb0.80_Xmb0.16_XSb0.01_nu2e+17_lthck1e+02_ovt8e+02/ best_results/\n",
      "cp -r Tc5500_WtMg0.00_WtSi0.01_WtO0.03_fMb0.80_Xmb0.16_XSb0.01_nu2e+17_lthck1e+02_ovt8e+02/ best_results/\n",
      "cp -r Tc5500_WtMg0.01_WtSi0.00_WtO0.03_fMb0.80_Xmb0.16_XSb0.01_nu2e+17_lthck1e+02_ovt8e+02/ best_results/\n",
      "cp -r Tc5500_WtMg0.01_WtSi0.01_WtO0.03_fMb0.80_Xmb0.16_XSb0.01_nu2e+17_lthck1e+02_ovt8e+02/ best_results/\n",
      "cp -r Tc5750_WtMg0.00_WtSi0.03_WtO0.03_fMb0.80_Xmb0.16_XSb0.01_nu2e+17_lthck1e+03_ovt8e+02/ best_results/\n",
      "cp -r Tc5500_WtMg0.00_WtSi0.00_WtO0.03_fMb0.80_Xmb0.16_XSb0.01_nu2e+17_lthck1e+03_ovt8e+02/ best_results/\n",
      "cp -r Tc5500_WtMg0.01_WtSi0.00_WtO0.03_fMb0.80_Xmb0.16_XSb0.01_nu2e+17_lthck1e+03_ovt8e+02/ best_results/\n",
      "cp -r Tc5500_WtMg0.01_WtSi0.01_WtO0.03_fMb0.80_Xmb0.16_XSb0.01_nu2e+17_lthck1e+03_ovt8e+02/ best_results/\n",
      "cp -r Tc5750_WtMg0.01_WtSi0.03_WtO0.03_fMb0.80_Xmb0.16_XSb0.01_nu2e+17_lthck1e+03_ovt8e+02/ best_results/\n",
      "cp -r Tc5750_WtMg0.02_WtSi0.03_WtO0.03_fMb0.80_Xmb0.16_XSb0.01_nu2e+17_lthck1e+03_ovt8e+02/ best_results/\n",
      "cp -r Tc6000_WtMg0.02_WtSi0.00_WtO0.03_fMb0.80_Xmb0.16_XSb0.01_nu6e+16_lthck3e+01_ovt8e+02/ best_results/\n",
      "cp -r Tc5500_WtMg0.00_WtSi0.01_WtO0.03_fMb0.80_Xmb0.16_XSb0.01_nu2e+17_lthck3e+01_ovt8e+02/ best_results/\n",
      "cp -r Tc5500_WtMg0.01_WtSi0.00_WtO0.03_fMb0.80_Xmb0.16_XSb0.01_nu2e+17_lthck3e+01_ovt8e+02/ best_results/\n",
      "cp -r Tc5500_WtMg0.01_WtSi0.01_WtO0.03_fMb0.80_Xmb0.16_XSb0.01_nu2e+17_lthck3e+01_ovt8e+02/ best_results/\n",
      "cp -r Tc6000_WtMg0.02_WtSi0.00_WtO0.03_fMb0.80_Xmb0.16_XSb0.01_nu6e+16_lthck1e+02_ovt8e+02/ best_results/\n",
      "cp -r Tc6000_WtMg0.00_WtSi0.00_WtO0.03_fMb0.80_Xmb0.16_XSb0.01_nu2e+17_lthck1e+02_ovt8e+02/ best_results/\n",
      "cp -r Tc5750_WtMg0.00_WtSi0.01_WtO0.03_fMb0.80_Xmb0.16_XSb0.01_nu2e+17_lthck1e+02_ovt8e+02/ best_results/\n",
      "cp -r Tc5750_WtMg0.00_WtSi0.00_WtO0.03_fMb0.80_Xmb0.16_XSb0.01_nu2e+17_lthck1e+02_ovt8e+02/ best_results/\n",
      "cp -r Tc5750_WtMg0.00_WtSi0.01_WtO0.03_fMb0.80_Xmb0.16_XSb0.01_nu2e+17_lthck1e+02_ovt8e+02/ best_results/\n",
      "cp -r Tc5500_WtMg0.00_WtSi0.01_WtO0.03_fMb0.80_Xmb0.16_XSb0.01_nu2e+17_lthck1e+02_ovt8e+02/ best_results/\n",
      "cp -r Tc5500_WtMg0.01_WtSi0.00_WtO0.03_fMb0.80_Xmb0.16_XSb0.01_nu2e+17_lthck1e+02_ovt8e+02/ best_results/\n",
      "cp -r Tc5500_WtMg0.01_WtSi0.01_WtO0.03_fMb0.80_Xmb0.16_XSb0.01_nu2e+17_lthck1e+02_ovt8e+02/ best_results/\n"
     ]
    }
   ],
   "source": [
    "fraction_MgFe_b = 0.8\n",
    "X_MgFeO_b = 0.16\n",
    "X_SiO2_b = 0.01\n",
    "\n",
    "for i in range(0,tmp1[0].shape[0]):\n",
    "    T_cmb0,wpms,wpss,wpos, fraction_MgFe_b, X_MgFeO_b, X_SiO2_b, nu_present,layer_thickness,overturn = data.loc[tmp1[0][i],['T_cmb0', 'wpms', 'wpss', 'wpos', 'fraction_MgFe_b','X_MgFeO_b','X_SiO2_b','nu_present','layer_thickness','overturn']]\n",
    "    print('cp -r Tc{:d}_WtMg{:.2f}_WtSi{:.2f}_WtO{:.2f}_fMb{:.2f}_Xmb{:.2f}_XSb{:.2f}_nu{:.0e}_lthck{:.0e}_ovt{:.0e}/ best_results/'.format(T_cmb0, wpms,wpss,wpos, fraction_MgFe_b, X_MgFeO_b, X_SiO2_b, nu_present,layer_thickness,overturn))"
   ]
  },
  {
   "cell_type": "code",
   "execution_count": null,
   "metadata": {},
   "outputs": [],
   "source": []
  }
 ],
 "metadata": {
  "kernelspec": {
   "display_name": "Python 3",
   "language": "python",
   "name": "python3"
  },
  "language_info": {
   "codemirror_mode": {
    "name": "ipython",
    "version": 3
   },
   "file_extension": ".py",
   "mimetype": "text/x-python",
   "name": "python",
   "nbconvert_exporter": "python",
   "pygments_lexer": "ipython3",
   "version": "3.6.3"
  }
 },
 "nbformat": 4,
 "nbformat_minor": 2
}
